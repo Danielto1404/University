{
 "cells": [
  {
   "cell_type": "markdown",
   "metadata": {},
   "source": [
    "### Inputs:\n",
    "```\n",
    "Дан код Рида-Соломона в широком смысле (b=8) длины 31 с минимальным расстоянием 11 над полем GF(32), примитивный элемент 𝛼 которого является корнем многочлена 𝑥5+𝑥2+1. \n",
    "Необходимо продекодировать вектор 𝑦=\n",
    "(𝛼17,𝛼4,𝛼3,𝛼28,𝛼14,𝛼0,𝛼27,𝛼17,𝛼30,𝛼3,𝛼29,𝛼0,𝛼26,0,𝛼25,𝛼5,𝛼15,𝛼2,𝛼9,𝛼20,𝛼20,𝛼7,𝛼8,𝛼10,𝛼16,𝛼7,𝛼29,𝛼24,𝛼26,𝛼14,𝛼25)\n",
    "```"
   ]
  },
  {
   "cell_type": "code",
   "execution_count": 1,
   "metadata": {},
   "outputs": [],
   "source": [
    "b=8\n",
    "n=31\n",
    "d=11\n",
    "y_coef=[\n",
    "    17, 4, 3, 28, 14, 0, 27, 17, 30, 3, 29, 0, 26, None, \n",
    "    25, 5, 15, 2, 9, 20, 20, 7, 8, 10, 16, 7, 29, 24, 26, 14, 25\n",
    "]"
   ]
  },
  {
   "cell_type": "code",
   "execution_count": 2,
   "metadata": {},
   "outputs": [
    {
     "data": {
      "text/plain": [
       "Univariate Polynomial Ring in x over Finite Field in a of size 2^5"
      ]
     },
     "execution_count": 2,
     "metadata": {},
     "output_type": "execute_result"
    }
   ],
   "source": [
    "base = 2 \n",
    "size = base ^ 5\n",
    "Field.<a> = GF(size)\n",
    "PolyRing.<x> = PolynomialRing(Field)\n",
    "PolyRing"
   ]
  },
  {
   "cell_type": "code",
   "execution_count": 3,
   "metadata": {},
   "outputs": [],
   "source": [
    "def get_cycle_indices(alpha):\n",
    "    ind_map = {}\n",
    "    for i in range(size - 1):\n",
    "        ind_map[alpha ^ i] = i\n",
    "    \n",
    "    res = []\n",
    "    _all = set()\n",
    "    for e in Field:\n",
    "        if e == 0:\n",
    "            continue\n",
    "        if e in _all:\n",
    "            continue\n",
    "        cur = set()\n",
    "        while not (e in cur):\n",
    "            cur.add(e)\n",
    "            _all.add(e)\n",
    "            e = e ^ base\n",
    "        res.append(list(cur))\n",
    "\n",
    "\n",
    "    all_ind = []\n",
    "    for l in res:\n",
    "        inds = []\n",
    "        for el in l:\n",
    "            inds.append(ind_map[el] % size)\n",
    "        inds.sort()\n",
    "        all_ind.append(inds)\n",
    "    return all_ind, ind_map"
   ]
  },
  {
   "cell_type": "code",
   "execution_count": 4,
   "metadata": {},
   "outputs": [],
   "source": [
    "def get_S(y_coef):\n",
    "    y = 0\n",
    "    for p in range(len(y_coef)):\n",
    "        if y_coef[p] != None:\n",
    "            y = y + x ^ p * alpha ^ y_coef[p] \n",
    "\n",
    "    S = 0\n",
    "    for i in range(b, b + d - 1):\n",
    "        ff = y(alpha ^ i)\n",
    "        S = S + x ^ (i - b) * ff\n",
    "    return S"
   ]
  },
  {
   "cell_type": "code",
   "execution_count": 5,
   "metadata": {},
   "outputs": [],
   "source": [
    "def get_lmd(S):\n",
    "    L = 0\n",
    "    lmd = x ^ 0\n",
    "    B = x ^ 0\n",
    "    for r in range(d - 1):\n",
    "        delta = 0\n",
    "        for j in range(L + 1):\n",
    "            delta += lmd[j] * S[r - j]\n",
    "        B = x * B\n",
    "        if delta != 0:\n",
    "            t = lmd - delta * B\n",
    "            if 2 * L <= r:\n",
    "                B = delta ^ (-1) * lmd\n",
    "                L = r + 1 - L\n",
    "            lmd = t\n",
    "            \n",
    "    return lmd"
   ]
  },
  {
   "cell_type": "code",
   "execution_count": 6,
   "metadata": {},
   "outputs": [],
   "source": [
    "def get_error_positions(lmd, ind_map):\n",
    "    def pos(root):\n",
    "        return ind_map[root[0] ^ (-1)]\n",
    "\n",
    "    poss = []\n",
    "    for root in lmd.roots():\n",
    "        poss.append(pos(root))\n",
    "    return sorted(poss)\n",
    "\n",
    "def get_degree(lmd, S, ind_map, poss, d, b):\n",
    "    G = lmd * S % x ^ (d - 1)\n",
    "    values = []\n",
    "    for i in range(len(poss)):\n",
    "        div = 1\n",
    "        invX = (alpha ^ poss[i]) ^ (-1)\n",
    "        for j in range(len(poss)):\n",
    "            if i != j:\n",
    "                div *= 1 - alpha ^ poss[j] * invX\n",
    "        st = invX ^ b * G(invX) / div\n",
    "        values.append(ind_map[st])\n",
    "    return values"
   ]
  },
  {
   "cell_type": "code",
   "execution_count": 7,
   "metadata": {},
   "outputs": [],
   "source": [
    "alpha = Field.multiplicative_generator()\n",
    "_ , ind_map = get_cycle_indices(alpha)\n",
    "\n",
    "S     = get_S(y_coef)\n",
    "lmd   = get_lmd(S)\n",
    "\n",
    "error_pos = get_error_positions(lmd, ind_map)\n",
    "degree    = get_degree(lmd, S, ind_map, error_pos, d, b)"
   ]
  },
  {
   "cell_type": "code",
   "execution_count": 8,
   "metadata": {},
   "outputs": [
    {
     "name": "stdout",
     "output_type": "stream",
     "text": [
      "Error positions =  [6, 10, 11, 28, 29]\n",
      "Alpha degree    =  ['a^15', 'a^23', 'a^8', 'a^1', 'a^28']\n"
     ]
    }
   ],
   "source": [
    "print('Error positions = ', error_pos)\n",
    "print('Alpha degree    = ', list(map(lambda x: f'a^{x}', degree)))"
   ]
  },
  {
   "cell_type": "code",
   "execution_count": null,
   "metadata": {},
   "outputs": [],
   "source": []
  }
 ],
 "metadata": {
  "kernelspec": {
   "display_name": "SageMath 9.4",
   "language": "sage",
   "name": "sagemath-9.4"
  },
  "language_info": {
   "codemirror_mode": {
    "name": "ipython",
    "version": 3
   },
   "file_extension": ".py",
   "mimetype": "text/x-python",
   "name": "python",
   "nbconvert_exporter": "python",
   "pygments_lexer": "ipython3",
   "version": "3.9.5"
  }
 },
 "nbformat": 4,
 "nbformat_minor": 4
}
