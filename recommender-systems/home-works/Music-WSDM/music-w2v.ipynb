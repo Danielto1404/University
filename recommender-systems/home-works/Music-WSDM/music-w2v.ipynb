{
 "cells": [
  {
   "cell_type": "code",
   "execution_count": 1,
   "metadata": {},
   "outputs": [],
   "source": [
    "import pandas as pd\n",
    "import numpy as np\n",
    "\n",
    "from catboost import CatBoost\n",
    "from sklearn.model_selection import train_test_split, KFold\n",
    "from sklearn.metrics import roc_auc_score\n",
    "from collections import defaultdict\n",
    "from copy import copy\n",
    "import multiprocessing\n",
    "from gensim.models import Word2Vec\n",
    "import shap"
   ]
  },
  {
   "cell_type": "markdown",
   "metadata": {},
   "source": [
    "In songs dataset we haven't got duplicates"
   ]
  },
  {
   "cell_type": "code",
   "execution_count": 2,
   "metadata": {},
   "outputs": [
    {
     "name": "stdout",
     "output_type": "stream",
     "text": [
      "CPU times: user 5.36 s, sys: 390 ms, total: 5.75 s\n",
      "Wall time: 5.79 s\n"
     ]
    },
    {
     "data": {
      "text/plain": [
       "(2296320, (2296320, 3))"
      ]
     },
     "execution_count": 2,
     "metadata": {},
     "output_type": "execute_result"
    }
   ],
   "source": [
    "%%time\n",
    "songs = pd.read_csv('data/songs.csv', usecols=['song_id', 'artist_name', 'genre_ids'])\n",
    "len(songs['song_id'].value_counts()), songs.shape"
   ]
  },
  {
   "cell_type": "code",
   "execution_count": 3,
   "metadata": {},
   "outputs": [
    {
     "name": "stdout",
     "output_type": "stream",
     "text": [
      "CPU times: user 3.14 s, sys: 312 ms, total: 3.45 s\n",
      "Wall time: 3.52 s\n"
     ]
    },
    {
     "data": {
      "text/html": [
       "<div>\n",
       "<style scoped>\n",
       "    .dataframe tbody tr th:only-of-type {\n",
       "        vertical-align: middle;\n",
       "    }\n",
       "\n",
       "    .dataframe tbody tr th {\n",
       "        vertical-align: top;\n",
       "    }\n",
       "\n",
       "    .dataframe thead th {\n",
       "        text-align: right;\n",
       "    }\n",
       "</style>\n",
       "<table border=\"1\" class=\"dataframe\">\n",
       "  <thead>\n",
       "    <tr style=\"text-align: right;\">\n",
       "      <th></th>\n",
       "      <th>song_id</th>\n",
       "      <th>name</th>\n",
       "    </tr>\n",
       "  </thead>\n",
       "  <tbody>\n",
       "    <tr>\n",
       "      <th>0</th>\n",
       "      <td>LP7pLJoJFBvyuUwvu+oLzjT+bI+UeBPURCecJsX1jjs=</td>\n",
       "      <td>我們</td>\n",
       "    </tr>\n",
       "    <tr>\n",
       "      <th>1</th>\n",
       "      <td>ClazTFnk6r0Bnuie44bocdNMM3rdlrq0bCGAsGUWcHE=</td>\n",
       "      <td>Let Me Love You</td>\n",
       "    </tr>\n",
       "    <tr>\n",
       "      <th>2</th>\n",
       "      <td>u2ja/bZE3zhCGxvbbOB3zOoUjx27u40cf5g09UXMoKQ=</td>\n",
       "      <td>原諒我</td>\n",
       "    </tr>\n",
       "    <tr>\n",
       "      <th>3</th>\n",
       "      <td>92Fqsy0+p6+RHe2EoLKjHahORHR1Kq1TBJoClW9v+Ts=</td>\n",
       "      <td>Classic</td>\n",
       "    </tr>\n",
       "    <tr>\n",
       "      <th>4</th>\n",
       "      <td>0QFmz/+rJy1Q56C1DuYqT9hKKqi5TUqx0sN0IwvoHrw=</td>\n",
       "      <td>愛投羅網</td>\n",
       "    </tr>\n",
       "  </tbody>\n",
       "</table>\n",
       "</div>"
      ],
      "text/plain": [
       "                                        song_id             name\n",
       "0  LP7pLJoJFBvyuUwvu+oLzjT+bI+UeBPURCecJsX1jjs=               我們\n",
       "1  ClazTFnk6r0Bnuie44bocdNMM3rdlrq0bCGAsGUWcHE=  Let Me Love You\n",
       "2  u2ja/bZE3zhCGxvbbOB3zOoUjx27u40cf5g09UXMoKQ=              原諒我\n",
       "3  92Fqsy0+p6+RHe2EoLKjHahORHR1Kq1TBJoClW9v+Ts=          Classic\n",
       "4  0QFmz/+rJy1Q56C1DuYqT9hKKqi5TUqx0sN0IwvoHrw=             愛投羅網"
      ]
     },
     "execution_count": 3,
     "metadata": {},
     "output_type": "execute_result"
    }
   ],
   "source": [
    "%%time\n",
    "songs_extra = pd.read_csv('data/song_extra_info.csv', usecols=['song_id', 'name'])\n",
    "songs_extra.head()"
   ]
  },
  {
   "cell_type": "markdown",
   "metadata": {},
   "source": [
    "Let's merge songs by their **song_id**"
   ]
  },
  {
   "cell_type": "code",
   "execution_count": 4,
   "metadata": {},
   "outputs": [
    {
     "name": "stdout",
     "output_type": "stream",
     "text": [
      "CPU times: user 5.24 s, sys: 362 ms, total: 5.61 s\n",
      "Wall time: 5.61 s\n"
     ]
    },
    {
     "data": {
      "text/plain": [
       "song_id            0\n",
       "genre_ids      94116\n",
       "artist_name        0\n",
       "name             900\n",
       "dtype: int64"
      ]
     },
     "execution_count": 4,
     "metadata": {},
     "output_type": "execute_result"
    }
   ],
   "source": [
    "%%time\n",
    "merged_songs = pd.merge(songs, songs_extra, on=['song_id', 'song_id'], how='left')\n",
    "merged_songs.isnull().sum()"
   ]
  },
  {
   "cell_type": "markdown",
   "metadata": {},
   "source": [
    "Drop na-name rows"
   ]
  },
  {
   "cell_type": "code",
   "execution_count": 5,
   "metadata": {
    "scrolled": true
   },
   "outputs": [
    {
     "data": {
      "text/plain": [
       "song_id            0\n",
       "genre_ids      94073\n",
       "artist_name        0\n",
       "name               0\n",
       "dtype: int64"
      ]
     },
     "execution_count": 5,
     "metadata": {},
     "output_type": "execute_result"
    }
   ],
   "source": [
    "merged_songs = merged_songs.dropna(subset=['name'])\n",
    "merged_songs.isnull().sum()"
   ]
  },
  {
   "cell_type": "markdown",
   "metadata": {},
   "source": [
    "Creating new feature from song_id to **< artist_name :: song_name >**"
   ]
  },
  {
   "cell_type": "code",
   "execution_count": 6,
   "metadata": {},
   "outputs": [
    {
     "name": "stdout",
     "output_type": "stream",
     "text": [
      "CPU times: user 16.9 s, sys: 247 ms, total: 17.1 s\n",
      "Wall time: 17.1 s\n"
     ]
    },
    {
     "data": {
      "text/html": [
       "<div>\n",
       "<style scoped>\n",
       "    .dataframe tbody tr th:only-of-type {\n",
       "        vertical-align: middle;\n",
       "    }\n",
       "\n",
       "    .dataframe tbody tr th {\n",
       "        vertical-align: top;\n",
       "    }\n",
       "\n",
       "    .dataframe thead th {\n",
       "        text-align: right;\n",
       "    }\n",
       "</style>\n",
       "<table border=\"1\" class=\"dataframe\">\n",
       "  <thead>\n",
       "    <tr style=\"text-align: right;\">\n",
       "      <th></th>\n",
       "      <th>song_id</th>\n",
       "      <th>artist:song</th>\n",
       "    </tr>\n",
       "  </thead>\n",
       "  <tbody>\n",
       "    <tr>\n",
       "      <th>0</th>\n",
       "      <td>CXoTN1eb7AI+DntdU1vbcwGRV4SCIDxZu+YD8JP8r4E=</td>\n",
       "      <td>張信哲 (Jeff Chang) :: 焚情</td>\n",
       "    </tr>\n",
       "    <tr>\n",
       "      <th>1</th>\n",
       "      <td>o0kFgae9QtnYgRkVPqLJwa05zIhRlUjfF7O1tDw0ZDU=</td>\n",
       "      <td>BLACKPINK :: PLAYING WITH FIRE</td>\n",
       "    </tr>\n",
       "    <tr>\n",
       "      <th>2</th>\n",
       "      <td>DwVvVurfpuz+XPuFvucclVQEyPqcpUkHR0ne1RQzPs0=</td>\n",
       "      <td>SUPER JUNIOR :: SORRY| SORRY</td>\n",
       "    </tr>\n",
       "    <tr>\n",
       "      <th>3</th>\n",
       "      <td>dKMBWoZyScdxSkihKG+Vf47nc18N9q4m58+b4e7dSSE=</td>\n",
       "      <td>S.H.E :: 愛我的資格</td>\n",
       "    </tr>\n",
       "    <tr>\n",
       "      <th>4</th>\n",
       "      <td>W3bqWd3T+VeHFzHAUfARgW9AvVRaF4N5Yzm4Mr6Eo/o=</td>\n",
       "      <td>貴族精選 :: Mary Had a Little Lamb</td>\n",
       "    </tr>\n",
       "  </tbody>\n",
       "</table>\n",
       "</div>"
      ],
      "text/plain": [
       "                                        song_id  \\\n",
       "0  CXoTN1eb7AI+DntdU1vbcwGRV4SCIDxZu+YD8JP8r4E=   \n",
       "1  o0kFgae9QtnYgRkVPqLJwa05zIhRlUjfF7O1tDw0ZDU=   \n",
       "2  DwVvVurfpuz+XPuFvucclVQEyPqcpUkHR0ne1RQzPs0=   \n",
       "3  dKMBWoZyScdxSkihKG+Vf47nc18N9q4m58+b4e7dSSE=   \n",
       "4  W3bqWd3T+VeHFzHAUfARgW9AvVRaF4N5Yzm4Mr6Eo/o=   \n",
       "\n",
       "                      artist:song  \n",
       "0          張信哲 (Jeff Chang) :: 焚情  \n",
       "1  BLACKPINK :: PLAYING WITH FIRE  \n",
       "2    SUPER JUNIOR :: SORRY| SORRY  \n",
       "3                  S.H.E :: 愛我的資格  \n",
       "4  貴族精選 :: Mary Had a Little Lamb  "
      ]
     },
     "execution_count": 6,
     "metadata": {},
     "output_type": "execute_result"
    }
   ],
   "source": [
    "%%time\n",
    "def concat_artist_name(artist_name_to_song_name):\n",
    "    artist, song = artist_name_to_song_name\n",
    "    return '{} :: {}'.format(artist, song)\n",
    "\n",
    "merged_songs['artist:song'] = merged_songs.loc[:, ['artist_name', 'name']].apply(concat_artist_name, axis=1)\n",
    "artist_to_song = merged_songs.drop(['genre_ids', 'name', 'artist_name'], axis=1)\n",
    "artist_to_song.head()"
   ]
  },
  {
   "cell_type": "code",
   "execution_count": 7,
   "metadata": {},
   "outputs": [
    {
     "name": "stdout",
     "output_type": "stream",
     "text": [
      "CPU times: user 26.7 s, sys: 3.5 s, total: 30.2 s\n",
      "Wall time: 31.9 s\n"
     ]
    },
    {
     "data": {
      "text/html": [
       "<div>\n",
       "<style scoped>\n",
       "    .dataframe tbody tr th:only-of-type {\n",
       "        vertical-align: middle;\n",
       "    }\n",
       "\n",
       "    .dataframe tbody tr th {\n",
       "        vertical-align: top;\n",
       "    }\n",
       "\n",
       "    .dataframe thead th {\n",
       "        text-align: right;\n",
       "    }\n",
       "</style>\n",
       "<table border=\"1\" class=\"dataframe\">\n",
       "  <thead>\n",
       "    <tr style=\"text-align: right;\">\n",
       "      <th></th>\n",
       "      <th>user_id</th>\n",
       "      <th>song_id</th>\n",
       "      <th>source_system_tab</th>\n",
       "      <th>source_screen_name</th>\n",
       "      <th>source_type</th>\n",
       "      <th>target</th>\n",
       "      <th>city</th>\n",
       "      <th>bd</th>\n",
       "      <th>registration_year</th>\n",
       "      <th>registration_month</th>\n",
       "      <th>...</th>\n",
       "      <th>song_length</th>\n",
       "      <th>genre_ids</th>\n",
       "      <th>artist_name</th>\n",
       "      <th>language</th>\n",
       "      <th>song_registration_year</th>\n",
       "      <th>song_country_code</th>\n",
       "      <th>song_registration_organisation</th>\n",
       "      <th>artist_count</th>\n",
       "      <th>user_genres_counter</th>\n",
       "      <th>user_artists_counter</th>\n",
       "    </tr>\n",
       "  </thead>\n",
       "  <tbody>\n",
       "    <tr>\n",
       "      <th>0</th>\n",
       "      <td>FGtllVqz18RPiwJj/edr2gV78zirAiY/9SmYvia+kCg=</td>\n",
       "      <td>BBzumQNXUHKdEBOB7mAJuzok+IJA1c2Ryg/yzTF6tik=</td>\n",
       "      <td>explore</td>\n",
       "      <td>Explore</td>\n",
       "      <td>online-playlist</td>\n",
       "      <td>1</td>\n",
       "      <td>1</td>\n",
       "      <td>0</td>\n",
       "      <td>2012</td>\n",
       "      <td>1</td>\n",
       "      <td>...</td>\n",
       "      <td>206471.0</td>\n",
       "      <td>359</td>\n",
       "      <td>Bastille</td>\n",
       "      <td>54</td>\n",
       "      <td>2016</td>\n",
       "      <td>GB</td>\n",
       "      <td>02854</td>\n",
       "      <td>1079</td>\n",
       "      <td>162</td>\n",
       "      <td>3</td>\n",
       "    </tr>\n",
       "    <tr>\n",
       "      <th>1</th>\n",
       "      <td>Xumu+NIjS6QYVxDS4/t3SawvJ7viT9hPKXmf0RtLNx8=</td>\n",
       "      <td>bhp/MpSNoqoxOIB+/l8WPqu6jldth4DIpCm3ayXnJqM=</td>\n",
       "      <td>my library</td>\n",
       "      <td>Local playlist more</td>\n",
       "      <td>local-playlist</td>\n",
       "      <td>1</td>\n",
       "      <td>13</td>\n",
       "      <td>24</td>\n",
       "      <td>2011</td>\n",
       "      <td>5</td>\n",
       "      <td>...</td>\n",
       "      <td>284584.0</td>\n",
       "      <td>1259</td>\n",
       "      <td>Various Artists</td>\n",
       "      <td>54</td>\n",
       "      <td>1999</td>\n",
       "      <td>US</td>\n",
       "      <td>10183</td>\n",
       "      <td>292987</td>\n",
       "      <td>47</td>\n",
       "      <td>24</td>\n",
       "    </tr>\n",
       "    <tr>\n",
       "      <th>2</th>\n",
       "      <td>Xumu+NIjS6QYVxDS4/t3SawvJ7viT9hPKXmf0RtLNx8=</td>\n",
       "      <td>JNWfrrC7zNN7BdMpsISKa4Mw+xVJYNnxXh3/Epw7QgY=</td>\n",
       "      <td>my library</td>\n",
       "      <td>Local playlist more</td>\n",
       "      <td>local-playlist</td>\n",
       "      <td>1</td>\n",
       "      <td>13</td>\n",
       "      <td>24</td>\n",
       "      <td>2011</td>\n",
       "      <td>5</td>\n",
       "      <td>...</td>\n",
       "      <td>225396.0</td>\n",
       "      <td>1259</td>\n",
       "      <td>Nas</td>\n",
       "      <td>54</td>\n",
       "      <td>2006</td>\n",
       "      <td>US</td>\n",
       "      <td>18761</td>\n",
       "      <td>276</td>\n",
       "      <td>47</td>\n",
       "      <td>2</td>\n",
       "    </tr>\n",
       "    <tr>\n",
       "      <th>3</th>\n",
       "      <td>Xumu+NIjS6QYVxDS4/t3SawvJ7viT9hPKXmf0RtLNx8=</td>\n",
       "      <td>2A87tzfnJTSWqD7gIZHisolhe4DMdzkbd6LzO1KHjNs=</td>\n",
       "      <td>my library</td>\n",
       "      <td>Local playlist more</td>\n",
       "      <td>local-playlist</td>\n",
       "      <td>1</td>\n",
       "      <td>13</td>\n",
       "      <td>24</td>\n",
       "      <td>2011</td>\n",
       "      <td>5</td>\n",
       "      <td>...</td>\n",
       "      <td>255512.0</td>\n",
       "      <td>1019</td>\n",
       "      <td>Soundway</td>\n",
       "      <td>1</td>\n",
       "      <td>2010</td>\n",
       "      <td>GB</td>\n",
       "      <td>00063</td>\n",
       "      <td>1</td>\n",
       "      <td>1</td>\n",
       "      <td>1</td>\n",
       "    </tr>\n",
       "    <tr>\n",
       "      <th>4</th>\n",
       "      <td>FGtllVqz18RPiwJj/edr2gV78zirAiY/9SmYvia+kCg=</td>\n",
       "      <td>3qm6XTZ6MOCU11x8FIVbAGH5l5uMkT3/ZalWG1oo2Gc=</td>\n",
       "      <td>explore</td>\n",
       "      <td>Explore</td>\n",
       "      <td>online-playlist</td>\n",
       "      <td>1</td>\n",
       "      <td>1</td>\n",
       "      <td>0</td>\n",
       "      <td>2012</td>\n",
       "      <td>1</td>\n",
       "      <td>...</td>\n",
       "      <td>187802.0</td>\n",
       "      <td>1011</td>\n",
       "      <td>Brett Young</td>\n",
       "      <td>54</td>\n",
       "      <td>2016</td>\n",
       "      <td>QM</td>\n",
       "      <td>06003</td>\n",
       "      <td>415</td>\n",
       "      <td>38</td>\n",
       "      <td>1</td>\n",
       "    </tr>\n",
       "  </tbody>\n",
       "</table>\n",
       "<p>5 rows × 25 columns</p>\n",
       "</div>"
      ],
      "text/plain": [
       "                                        user_id  \\\n",
       "0  FGtllVqz18RPiwJj/edr2gV78zirAiY/9SmYvia+kCg=   \n",
       "1  Xumu+NIjS6QYVxDS4/t3SawvJ7viT9hPKXmf0RtLNx8=   \n",
       "2  Xumu+NIjS6QYVxDS4/t3SawvJ7viT9hPKXmf0RtLNx8=   \n",
       "3  Xumu+NIjS6QYVxDS4/t3SawvJ7viT9hPKXmf0RtLNx8=   \n",
       "4  FGtllVqz18RPiwJj/edr2gV78zirAiY/9SmYvia+kCg=   \n",
       "\n",
       "                                        song_id source_system_tab  \\\n",
       "0  BBzumQNXUHKdEBOB7mAJuzok+IJA1c2Ryg/yzTF6tik=           explore   \n",
       "1  bhp/MpSNoqoxOIB+/l8WPqu6jldth4DIpCm3ayXnJqM=        my library   \n",
       "2  JNWfrrC7zNN7BdMpsISKa4Mw+xVJYNnxXh3/Epw7QgY=        my library   \n",
       "3  2A87tzfnJTSWqD7gIZHisolhe4DMdzkbd6LzO1KHjNs=        my library   \n",
       "4  3qm6XTZ6MOCU11x8FIVbAGH5l5uMkT3/ZalWG1oo2Gc=           explore   \n",
       "\n",
       "    source_screen_name      source_type  target  city  bd  registration_year  \\\n",
       "0              Explore  online-playlist       1     1   0               2012   \n",
       "1  Local playlist more   local-playlist       1    13  24               2011   \n",
       "2  Local playlist more   local-playlist       1    13  24               2011   \n",
       "3  Local playlist more   local-playlist       1    13  24               2011   \n",
       "4              Explore  online-playlist       1     1   0               2012   \n",
       "\n",
       "   registration_month  ...  song_length  genre_ids      artist_name  language  \\\n",
       "0                   1  ...     206471.0        359         Bastille        54   \n",
       "1                   5  ...     284584.0       1259  Various Artists        54   \n",
       "2                   5  ...     225396.0       1259              Nas        54   \n",
       "3                   5  ...     255512.0       1019         Soundway         1   \n",
       "4                   1  ...     187802.0       1011      Brett Young        54   \n",
       "\n",
       "   song_registration_year  song_country_code song_registration_organisation  \\\n",
       "0                    2016                 GB                          02854   \n",
       "1                    1999                 US                          10183   \n",
       "2                    2006                 US                          18761   \n",
       "3                    2010                 GB                          00063   \n",
       "4                    2016                 QM                          06003   \n",
       "\n",
       "  artist_count user_genres_counter user_artists_counter  \n",
       "0         1079                 162                    3  \n",
       "1       292987                  47                   24  \n",
       "2          276                  47                    2  \n",
       "3            1                   1                    1  \n",
       "4          415                  38                    1  \n",
       "\n",
       "[5 rows x 25 columns]"
      ]
     },
     "execution_count": 7,
     "metadata": {},
     "output_type": "execute_result"
    }
   ],
   "source": [
    "%%time\n",
    "train_types = {\n",
    "    'user_id'                        : 'category',\n",
    "    'song_country_code'              : 'category',\n",
    "    'song_registration_organisation' : 'category',\n",
    "    'language'                       : 'category',\n",
    "    'song_registration_year'         : 'category',\n",
    "    'source_system_tab'              : 'category',\n",
    "    'source_screen_name'             : 'category',\n",
    "    'source_type'                    : 'category',\n",
    "    \n",
    "    'artist_name'                    : str,\n",
    "    'genre_ids'                      : str,\n",
    "    'song_id'                        : str,\n",
    "    \n",
    "    'target'                         : np.uint8,\n",
    "}\n",
    "\n",
    "train = pd.read_csv('data/train_processed.csv', dtype=train_types)\n",
    "train.head()"
   ]
  },
  {
   "cell_type": "code",
   "execution_count": 8,
   "metadata": {
    "scrolled": true
   },
   "outputs": [
    {
     "data": {
      "text/plain": [
       "((6949045, 25),\n",
       " user_id                           category\n",
       " song_id                             object\n",
       " source_system_tab                 category\n",
       " source_screen_name                category\n",
       " source_type                       category\n",
       " target                               uint8\n",
       " city                                 int64\n",
       " bd                                   int64\n",
       " registration_year                    int64\n",
       " registration_month                   int64\n",
       " expiration_year                      int64\n",
       " expiration_month                     int64\n",
       " subscription_length                  int64\n",
       " subscription_level                   int64\n",
       " registration_method                  int64\n",
       " song_length                        float64\n",
       " genre_ids                           object\n",
       " artist_name                         object\n",
       " language                          category\n",
       " song_registration_year            category\n",
       " song_country_code                 category\n",
       " song_registration_organisation    category\n",
       " artist_count                         int64\n",
       " user_genres_counter                  int64\n",
       " user_artists_counter                 int64\n",
       " dtype: object)"
      ]
     },
     "execution_count": 8,
     "metadata": {},
     "output_type": "execute_result"
    }
   ],
   "source": [
    "train.shape, train.dtypes"
   ]
  },
  {
   "cell_type": "markdown",
   "metadata": {},
   "source": [
    "Drop columns according to ***SHAP values*** from previous task"
   ]
  },
  {
   "cell_type": "code",
   "execution_count": 9,
   "metadata": {
    "scrolled": false
   },
   "outputs": [
    {
     "data": {
      "text/plain": [
       "((6949045, 15),\n",
       " user_id                           category\n",
       " song_id                             object\n",
       " source_system_tab                 category\n",
       " source_screen_name                category\n",
       " source_type                       category\n",
       " target                               uint8\n",
       " subscription_length                  int64\n",
       " song_length                        float64\n",
       " genre_ids                           object\n",
       " artist_name                         object\n",
       " song_registration_year            category\n",
       " song_registration_organisation    category\n",
       " artist_count                         int64\n",
       " user_genres_counter                  int64\n",
       " user_artists_counter                 int64\n",
       " dtype: object)"
      ]
     },
     "execution_count": 9,
     "metadata": {},
     "output_type": "execute_result"
    }
   ],
   "source": [
    "train = train.drop(['bd', \n",
    "                    'city', \n",
    "                    'song_country_code', \n",
    "                    'language', \n",
    "                    'registration_year',\n",
    "                    'registration_method',\n",
    "                    'registration_month',\n",
    "                    'subscription_level',\n",
    "                    'expiration_year',\n",
    "                    'expiration_month'], \n",
    "                   axis=1)\n",
    "\n",
    "train.shape, train.dtypes"
   ]
  },
  {
   "cell_type": "code",
   "execution_count": 10,
   "metadata": {
    "scrolled": true
   },
   "outputs": [
    {
     "data": {
      "text/plain": [
       "user_id                           0\n",
       "song_id                           0\n",
       "source_system_tab                 0\n",
       "source_screen_name                0\n",
       "source_type                       0\n",
       "target                            0\n",
       "subscription_length               0\n",
       "song_length                       0\n",
       "genre_ids                         0\n",
       "artist_name                       0\n",
       "song_registration_year            0\n",
       "song_registration_organisation    0\n",
       "artist_count                      0\n",
       "user_genres_counter               0\n",
       "user_artists_counter              0\n",
       "artist:song                       2\n",
       "dtype: int64"
      ]
     },
     "execution_count": 10,
     "metadata": {},
     "output_type": "execute_result"
    }
   ],
   "source": [
    "train = pd.merge(train, artist_to_song, on='song_id', how='left')\n",
    "train.isnull().sum()"
   ]
  },
  {
   "cell_type": "code",
   "execution_count": 11,
   "metadata": {},
   "outputs": [
    {
     "data": {
      "text/plain": [
       "(6949043, 16)"
      ]
     },
     "execution_count": 11,
     "metadata": {},
     "output_type": "execute_result"
    }
   ],
   "source": [
    "train = train.dropna(subset=['artist:song'])\n",
    "train.shape"
   ]
  },
  {
   "cell_type": "code",
   "execution_count": 12,
   "metadata": {},
   "outputs": [],
   "source": [
    "cat_features = ['song_registration_organisation',\n",
    "                'source_system_tab',\n",
    "                'artist_name',\n",
    "                'genre_ids',\n",
    "                'source_screen_name',         \n",
    "                'source_type',\n",
    "                'song_registration_year'\n",
    "               ]"
   ]
  },
  {
   "cell_type": "markdown",
   "metadata": {},
   "source": [
    "Prepare dataset with users liked songs for **w2v training**"
   ]
  },
  {
   "cell_type": "code",
   "execution_count": 13,
   "metadata": {},
   "outputs": [
    {
     "data": {
      "text/html": [
       "<div>\n",
       "<style scoped>\n",
       "    .dataframe tbody tr th:only-of-type {\n",
       "        vertical-align: middle;\n",
       "    }\n",
       "\n",
       "    .dataframe tbody tr th {\n",
       "        vertical-align: top;\n",
       "    }\n",
       "\n",
       "    .dataframe thead th {\n",
       "        text-align: right;\n",
       "    }\n",
       "</style>\n",
       "<table border=\"1\" class=\"dataframe\">\n",
       "  <thead>\n",
       "    <tr style=\"text-align: right;\">\n",
       "      <th></th>\n",
       "      <th>user_id</th>\n",
       "      <th>song_id</th>\n",
       "      <th>target</th>\n",
       "    </tr>\n",
       "  </thead>\n",
       "  <tbody>\n",
       "    <tr>\n",
       "      <th>0</th>\n",
       "      <td>FGtllVqz18RPiwJj/edr2gV78zirAiY/9SmYvia+kCg=</td>\n",
       "      <td>BBzumQNXUHKdEBOB7mAJuzok+IJA1c2Ryg/yzTF6tik=</td>\n",
       "      <td>1</td>\n",
       "    </tr>\n",
       "    <tr>\n",
       "      <th>1</th>\n",
       "      <td>Xumu+NIjS6QYVxDS4/t3SawvJ7viT9hPKXmf0RtLNx8=</td>\n",
       "      <td>bhp/MpSNoqoxOIB+/l8WPqu6jldth4DIpCm3ayXnJqM=</td>\n",
       "      <td>1</td>\n",
       "    </tr>\n",
       "    <tr>\n",
       "      <th>2</th>\n",
       "      <td>Xumu+NIjS6QYVxDS4/t3SawvJ7viT9hPKXmf0RtLNx8=</td>\n",
       "      <td>JNWfrrC7zNN7BdMpsISKa4Mw+xVJYNnxXh3/Epw7QgY=</td>\n",
       "      <td>1</td>\n",
       "    </tr>\n",
       "    <tr>\n",
       "      <th>3</th>\n",
       "      <td>Xumu+NIjS6QYVxDS4/t3SawvJ7viT9hPKXmf0RtLNx8=</td>\n",
       "      <td>2A87tzfnJTSWqD7gIZHisolhe4DMdzkbd6LzO1KHjNs=</td>\n",
       "      <td>1</td>\n",
       "    </tr>\n",
       "    <tr>\n",
       "      <th>4</th>\n",
       "      <td>FGtllVqz18RPiwJj/edr2gV78zirAiY/9SmYvia+kCg=</td>\n",
       "      <td>3qm6XTZ6MOCU11x8FIVbAGH5l5uMkT3/ZalWG1oo2Gc=</td>\n",
       "      <td>1</td>\n",
       "    </tr>\n",
       "  </tbody>\n",
       "</table>\n",
       "</div>"
      ],
      "text/plain": [
       "                                        user_id  \\\n",
       "0  FGtllVqz18RPiwJj/edr2gV78zirAiY/9SmYvia+kCg=   \n",
       "1  Xumu+NIjS6QYVxDS4/t3SawvJ7viT9hPKXmf0RtLNx8=   \n",
       "2  Xumu+NIjS6QYVxDS4/t3SawvJ7viT9hPKXmf0RtLNx8=   \n",
       "3  Xumu+NIjS6QYVxDS4/t3SawvJ7viT9hPKXmf0RtLNx8=   \n",
       "4  FGtllVqz18RPiwJj/edr2gV78zirAiY/9SmYvia+kCg=   \n",
       "\n",
       "                                        song_id  target  \n",
       "0  BBzumQNXUHKdEBOB7mAJuzok+IJA1c2Ryg/yzTF6tik=       1  \n",
       "1  bhp/MpSNoqoxOIB+/l8WPqu6jldth4DIpCm3ayXnJqM=       1  \n",
       "2  JNWfrrC7zNN7BdMpsISKa4Mw+xVJYNnxXh3/Epw7QgY=       1  \n",
       "3  2A87tzfnJTSWqD7gIZHisolhe4DMdzkbd6LzO1KHjNs=       1  \n",
       "4  3qm6XTZ6MOCU11x8FIVbAGH5l5uMkT3/ZalWG1oo2Gc=       1  "
      ]
     },
     "execution_count": 13,
     "metadata": {},
     "output_type": "execute_result"
    }
   ],
   "source": [
    "user_to_songs = train.loc[:, ['user_id', 'song_id', 'target']]\n",
    "user_to_songs.head()"
   ]
  },
  {
   "cell_type": "code",
   "execution_count": 14,
   "metadata": {},
   "outputs": [
    {
     "name": "stdout",
     "output_type": "stream",
     "text": [
      "CPU times: user 157 ms, sys: 9.64 ms, total: 166 ms\n",
      "Wall time: 170 ms\n"
     ]
    },
    {
     "data": {
      "text/plain": [
       "(3514137, 3)"
      ]
     },
     "execution_count": 14,
     "metadata": {},
     "output_type": "execute_result"
    }
   ],
   "source": [
    "%%time\n",
    "liked_songs = user_to_songs[user_to_songs['target'] == 1]\n",
    "liked_songs.shape"
   ]
  },
  {
   "cell_type": "code",
   "execution_count": 15,
   "metadata": {},
   "outputs": [],
   "source": [
    "grouped_users = liked_songs.drop(['target'], axis=1).groupby('user_id')"
   ]
  },
  {
   "cell_type": "code",
   "execution_count": 16,
   "metadata": {
    "scrolled": false
   },
   "outputs": [
    {
     "name": "stdout",
     "output_type": "stream",
     "text": [
      "CPU times: user 5.61 s, sys: 130 ms, total: 5.74 s\n",
      "Wall time: 5.92 s\n"
     ]
    }
   ],
   "source": [
    "%%time\n",
    "sentences = {}\n",
    "\n",
    "for k, frame in grouped_users:\n",
    "    sentences[k] = list(map(str, frame['song_id'].to_numpy()))\n",
    "sentences = [s for s in sentences.values()]"
   ]
  },
  {
   "cell_type": "markdown",
   "metadata": {},
   "source": [
    "Function for creating ***w2v model***"
   ]
  },
  {
   "cell_type": "code",
   "execution_count": 17,
   "metadata": {},
   "outputs": [],
   "source": [
    "vector_size = 200\n",
    "zeros = np.zeros(vector_size)\n",
    "\n",
    "def get_w2v_model():    \n",
    "    \"\"\"\n",
    "    Creates Word2Vec model.\n",
    "    \n",
    "    Documentation for hyperparams: https://radimrehurek.com/gensim/models/word2vec.html\n",
    "    \"\"\"\n",
    "    cores = multiprocessing.cpu_count()\n",
    "    return Word2Vec(min_count=1,\n",
    "                    negative=50,\n",
    "                    window=100,\n",
    "                    sg=0,\n",
    "                    workers=cores,\n",
    "                    vector_size=vector_size)\n",
    "\n",
    "w2v_model = get_w2v_model()"
   ]
  },
  {
   "cell_type": "markdown",
   "metadata": {},
   "source": [
    "Filling model vocabulary with sentences"
   ]
  },
  {
   "cell_type": "code",
   "execution_count": 18,
   "metadata": {
    "scrolled": true
   },
   "outputs": [
    {
     "name": "stdout",
     "output_type": "stream",
     "text": [
      "CPU times: user 5.85 s, sys: 182 ms, total: 6.03 s\n",
      "Wall time: 6.11 s\n"
     ]
    }
   ],
   "source": [
    "%%time\n",
    "w2v_model.build_vocab(corpus_iterable=sentences)"
   ]
  },
  {
   "cell_type": "code",
   "execution_count": 19,
   "metadata": {},
   "outputs": [],
   "source": [
    "from gensim.models.callbacks import CallbackAny2Vec\n",
    "from time import time\n",
    "from datetime import timedelta\n",
    "\n",
    "class Logger(CallbackAny2Vec):\n",
    "    \"\"\"\n",
    "    Epoch-time logger for Word2Vec trainig status.\n",
    "    \"\"\"\n",
    "    def __init__(self, epochs):\n",
    "        self.epoch     = 1\n",
    "        self.epochs    = epochs\n",
    "        self.time      = time()\n",
    "        self.acc_delta = 0\n",
    "        \n",
    "    def log_progress(self, epoch, spent, remaining):\n",
    "        chop_microseconds = lambda delta: delta - timedelta(microseconds=delta.microseconds)\n",
    "        total_time        = chop_microseconds(spent)\n",
    "        remaining_time    = chop_microseconds(remaining)\n",
    "        print(\"Epoch {:03d} | total time {} | remaining time: {}\".format(self.epoch, total_time, remaining_time))\n",
    "        \n",
    "    def on_epoch_end(self, model):\n",
    "        delta = time() - self.time\n",
    "        self.acc_delta += delta\n",
    "        remaining_time = timedelta(seconds=(self.epochs - self.epoch) * self.acc_delta / self.epoch)\n",
    "        total_time     = timedelta(seconds=self.acc_delta)\n",
    "        self.log_progress(self.epoch, total_time, remaining_time)\n",
    "\n",
    "        self.time = time()\n",
    "        self.epoch += 1"
   ]
  },
  {
   "cell_type": "markdown",
   "metadata": {},
   "source": [
    "Let's train our ***word2vec model***"
   ]
  },
  {
   "cell_type": "code",
   "execution_count": 20,
   "metadata": {},
   "outputs": [
    {
     "name": "stdout",
     "output_type": "stream",
     "text": [
      "Epoch 001 | total time 0:00:28 | remaining time: 1:10:51\n",
      "Epoch 002 | total time 0:00:54 | remaining time: 1:07:40\n",
      "Epoch 003 | total time 0:01:23 | remaining time: 1:07:49\n",
      "Epoch 004 | total time 0:01:51 | remaining time: 1:08:03\n",
      "Epoch 005 | total time 0:02:21 | remaining time: 1:08:17\n",
      "Epoch 006 | total time 0:02:51 | remaining time: 1:08:28\n",
      "Epoch 007 | total time 0:03:20 | remaining time: 1:08:14\n",
      "Epoch 008 | total time 0:03:49 | remaining time: 1:08:01\n",
      "Epoch 009 | total time 0:04:19 | remaining time: 1:07:42\n",
      "Epoch 010 | total time 0:04:48 | remaining time: 1:07:13\n",
      "Epoch 011 | total time 0:05:17 | remaining time: 1:06:49\n",
      "Epoch 012 | total time 0:05:45 | remaining time: 1:06:17\n",
      "Epoch 013 | total time 0:06:14 | remaining time: 1:05:51\n",
      "Epoch 014 | total time 0:06:43 | remaining time: 1:05:19\n",
      "Epoch 015 | total time 0:07:11 | remaining time: 1:04:45\n",
      "Epoch 016 | total time 0:07:40 | remaining time: 1:04:12\n",
      "Epoch 017 | total time 0:08:08 | remaining time: 1:03:41\n",
      "Epoch 018 | total time 0:08:36 | remaining time: 1:03:08\n",
      "Epoch 019 | total time 0:09:04 | remaining time: 1:02:35\n",
      "Epoch 020 | total time 0:09:32 | remaining time: 1:02:03\n",
      "Epoch 021 | total time 0:10:01 | remaining time: 1:01:34\n",
      "Epoch 022 | total time 0:10:29 | remaining time: 1:01:02\n",
      "Epoch 023 | total time 0:10:57 | remaining time: 1:00:29\n",
      "Epoch 024 | total time 0:11:25 | remaining time: 1:00:01\n",
      "Epoch 025 | total time 0:11:53 | remaining time: 0:59:28\n",
      "Epoch 026 | total time 0:12:21 | remaining time: 0:58:56\n",
      "Epoch 027 | total time 0:12:49 | remaining time: 0:58:24\n",
      "Epoch 028 | total time 0:13:16 | remaining time: 0:57:52\n",
      "Epoch 029 | total time 0:13:44 | remaining time: 0:57:19\n",
      "Epoch 030 | total time 0:14:12 | remaining time: 0:56:51\n",
      "Epoch 031 | total time 0:14:40 | remaining time: 0:56:19\n",
      "Epoch 032 | total time 0:15:07 | remaining time: 0:55:47\n",
      "Epoch 033 | total time 0:15:35 | remaining time: 0:55:15\n",
      "Epoch 034 | total time 0:16:02 | remaining time: 0:54:45\n",
      "Epoch 035 | total time 0:16:30 | remaining time: 0:54:14\n",
      "Epoch 036 | total time 0:16:58 | remaining time: 0:53:43\n",
      "Epoch 037 | total time 0:17:25 | remaining time: 0:53:13\n",
      "Epoch 038 | total time 0:17:54 | remaining time: 0:52:47\n",
      "Epoch 039 | total time 0:18:22 | remaining time: 0:52:16\n",
      "Epoch 040 | total time 0:18:49 | remaining time: 0:51:46\n",
      "Epoch 041 | total time 0:19:16 | remaining time: 0:51:15\n",
      "Epoch 042 | total time 0:19:44 | remaining time: 0:50:45\n",
      "Epoch 043 | total time 0:20:11 | remaining time: 0:50:15\n",
      "Epoch 044 | total time 0:20:39 | remaining time: 0:49:45\n",
      "Epoch 045 | total time 0:21:06 | remaining time: 0:49:15\n",
      "Epoch 046 | total time 0:21:34 | remaining time: 0:48:45\n",
      "Epoch 047 | total time 0:22:01 | remaining time: 0:48:17\n",
      "Epoch 048 | total time 0:22:29 | remaining time: 0:47:48\n",
      "Epoch 049 | total time 0:22:57 | remaining time: 0:47:19\n",
      "Epoch 050 | total time 0:23:25 | remaining time: 0:46:50\n",
      "Epoch 051 | total time 0:23:52 | remaining time: 0:46:20\n",
      "Epoch 052 | total time 0:24:20 | remaining time: 0:45:51\n",
      "Epoch 053 | total time 0:24:47 | remaining time: 0:45:23\n",
      "Epoch 054 | total time 0:25:15 | remaining time: 0:44:54\n",
      "Epoch 055 | total time 0:25:42 | remaining time: 0:44:24\n",
      "Epoch 056 | total time 0:26:10 | remaining time: 0:43:56\n",
      "Epoch 057 | total time 0:26:37 | remaining time: 0:43:27\n",
      "Epoch 058 | total time 0:27:05 | remaining time: 0:42:57\n",
      "Epoch 059 | total time 0:27:33 | remaining time: 0:42:30\n",
      "Epoch 060 | total time 0:28:02 | remaining time: 0:42:04\n",
      "Epoch 061 | total time 0:28:30 | remaining time: 0:41:35\n",
      "Epoch 062 | total time 0:28:57 | remaining time: 0:41:06\n",
      "Epoch 063 | total time 0:29:24 | remaining time: 0:40:37\n",
      "Epoch 064 | total time 0:29:52 | remaining time: 0:40:08\n",
      "Epoch 065 | total time 0:30:19 | remaining time: 0:39:39\n",
      "Epoch 066 | total time 0:30:47 | remaining time: 0:39:11\n",
      "Epoch 067 | total time 0:31:15 | remaining time: 0:38:42\n",
      "Epoch 068 | total time 0:31:42 | remaining time: 0:38:14\n",
      "Epoch 069 | total time 0:32:10 | remaining time: 0:37:45\n",
      "Epoch 070 | total time 0:32:37 | remaining time: 0:37:17\n",
      "Epoch 071 | total time 0:33:05 | remaining time: 0:36:49\n",
      "Epoch 072 | total time 0:33:33 | remaining time: 0:36:21\n",
      "Epoch 073 | total time 0:34:00 | remaining time: 0:35:52\n",
      "Epoch 074 | total time 0:34:28 | remaining time: 0:35:24\n",
      "Epoch 075 | total time 0:34:56 | remaining time: 0:34:56\n",
      "Epoch 076 | total time 0:35:24 | remaining time: 0:34:28\n",
      "Epoch 077 | total time 0:35:52 | remaining time: 0:34:00\n",
      "Epoch 078 | total time 0:36:19 | remaining time: 0:33:32\n",
      "Epoch 079 | total time 0:36:47 | remaining time: 0:33:03\n",
      "Epoch 080 | total time 0:37:15 | remaining time: 0:32:35\n",
      "Epoch 081 | total time 0:37:42 | remaining time: 0:32:07\n",
      "Epoch 082 | total time 0:38:10 | remaining time: 0:31:39\n",
      "Epoch 083 | total time 0:38:38 | remaining time: 0:31:11\n",
      "Epoch 084 | total time 0:39:06 | remaining time: 0:30:43\n",
      "Epoch 085 | total time 0:39:34 | remaining time: 0:30:15\n",
      "Epoch 086 | total time 0:40:02 | remaining time: 0:29:48\n",
      "Epoch 087 | total time 0:40:30 | remaining time: 0:29:20\n",
      "Epoch 088 | total time 0:40:58 | remaining time: 0:28:52\n",
      "Epoch 089 | total time 0:41:26 | remaining time: 0:28:24\n",
      "Epoch 090 | total time 0:41:54 | remaining time: 0:27:56\n",
      "Epoch 091 | total time 0:42:21 | remaining time: 0:27:28\n",
      "Epoch 092 | total time 0:42:50 | remaining time: 0:27:00\n",
      "Epoch 093 | total time 0:43:18 | remaining time: 0:26:32\n",
      "Epoch 094 | total time 0:43:46 | remaining time: 0:26:04\n",
      "Epoch 095 | total time 0:44:14 | remaining time: 0:25:36\n",
      "Epoch 096 | total time 0:44:42 | remaining time: 0:25:08\n",
      "Epoch 097 | total time 0:45:11 | remaining time: 0:24:41\n",
      "Epoch 098 | total time 0:45:39 | remaining time: 0:24:13\n",
      "Epoch 099 | total time 0:46:07 | remaining time: 0:23:45\n",
      "Epoch 100 | total time 0:46:35 | remaining time: 0:23:17\n",
      "Epoch 101 | total time 0:47:03 | remaining time: 0:22:50\n",
      "Epoch 102 | total time 0:47:32 | remaining time: 0:22:22\n",
      "Epoch 103 | total time 0:48:01 | remaining time: 0:21:55\n",
      "Epoch 104 | total time 0:48:29 | remaining time: 0:21:27\n",
      "Epoch 105 | total time 0:48:58 | remaining time: 0:20:59\n",
      "Epoch 106 | total time 0:49:26 | remaining time: 0:20:31\n",
      "Epoch 107 | total time 0:49:54 | remaining time: 0:20:03\n",
      "Epoch 108 | total time 0:50:22 | remaining time: 0:19:35\n",
      "Epoch 109 | total time 0:50:51 | remaining time: 0:19:07\n",
      "Epoch 110 | total time 0:51:19 | remaining time: 0:18:39\n",
      "Epoch 111 | total time 0:51:47 | remaining time: 0:18:11\n",
      "Epoch 112 | total time 0:52:15 | remaining time: 0:17:43\n",
      "Epoch 113 | total time 0:52:44 | remaining time: 0:17:16\n",
      "Epoch 114 | total time 0:53:12 | remaining time: 0:16:48\n",
      "Epoch 115 | total time 0:53:40 | remaining time: 0:16:20\n",
      "Epoch 116 | total time 0:54:09 | remaining time: 0:15:52\n",
      "Epoch 117 | total time 0:54:37 | remaining time: 0:15:24\n",
      "Epoch 118 | total time 0:55:06 | remaining time: 0:14:56\n",
      "Epoch 119 | total time 0:55:35 | remaining time: 0:14:28\n",
      "Epoch 120 | total time 0:56:04 | remaining time: 0:14:01\n",
      "Epoch 121 | total time 0:56:33 | remaining time: 0:13:33\n",
      "Epoch 122 | total time 0:57:01 | remaining time: 0:13:05\n",
      "Epoch 123 | total time 0:57:30 | remaining time: 0:12:37\n",
      "Epoch 124 | total time 0:57:58 | remaining time: 0:12:09\n",
      "Epoch 125 | total time 0:58:28 | remaining time: 0:11:41\n",
      "Epoch 126 | total time 0:58:57 | remaining time: 0:11:13\n",
      "Epoch 127 | total time 0:59:26 | remaining time: 0:10:45\n",
      "Epoch 128 | total time 0:59:54 | remaining time: 0:10:17\n",
      "Epoch 129 | total time 1:00:23 | remaining time: 0:09:49\n",
      "Epoch 130 | total time 1:00:52 | remaining time: 0:09:21\n",
      "Epoch 131 | total time 1:01:20 | remaining time: 0:08:53\n",
      "Epoch 132 | total time 1:01:49 | remaining time: 0:08:25\n",
      "Epoch 133 | total time 1:02:18 | remaining time: 0:07:57\n",
      "Epoch 134 | total time 1:02:47 | remaining time: 0:07:29\n",
      "Epoch 135 | total time 1:03:16 | remaining time: 0:07:01\n",
      "Epoch 136 | total time 1:03:45 | remaining time: 0:06:33\n",
      "Epoch 137 | total time 1:04:14 | remaining time: 0:06:05\n",
      "Epoch 138 | total time 1:04:43 | remaining time: 0:05:37\n",
      "Epoch 139 | total time 1:05:12 | remaining time: 0:05:09\n",
      "Epoch 140 | total time 1:05:41 | remaining time: 0:04:41\n",
      "Epoch 141 | total time 1:06:11 | remaining time: 0:04:13\n",
      "Epoch 142 | total time 1:06:40 | remaining time: 0:03:45\n",
      "Epoch 143 | total time 1:07:08 | remaining time: 0:03:17\n",
      "Epoch 144 | total time 1:07:38 | remaining time: 0:02:49\n"
     ]
    },
    {
     "name": "stdout",
     "output_type": "stream",
     "text": [
      "Epoch 145 | total time 1:08:07 | remaining time: 0:02:20\n",
      "Epoch 146 | total time 1:08:36 | remaining time: 0:01:52\n",
      "Epoch 147 | total time 1:09:06 | remaining time: 0:01:24\n",
      "Epoch 148 | total time 1:09:35 | remaining time: 0:00:56\n",
      "Epoch 149 | total time 1:10:07 | remaining time: 0:00:28\n",
      "Epoch 150 | total time 1:10:38 | remaining time: 0:00:00\n",
      "CPU times: user 4h 34min 35s, sys: 30.6 s, total: 4h 35min 5s\n",
      "Wall time: 1h 10min 38s\n"
     ]
    },
    {
     "data": {
      "text/plain": [
       "(526819807, 527120550)"
      ]
     },
     "execution_count": 20,
     "metadata": {},
     "output_type": "execute_result"
    }
   ],
   "source": [
    "%%time\n",
    "logger = Logger(epochs=150)\n",
    "w2v_model.train(sentences, total_examples=w2v_model.corpus_count, epochs=logger.epochs, callbacks=[logger])"
   ]
  },
  {
   "cell_type": "markdown",
   "metadata": {},
   "source": [
    "**Let's pick a few random songs to check training correctness**"
   ]
  },
  {
   "cell_type": "code",
   "execution_count": 105,
   "metadata": {},
   "outputs": [],
   "source": [
    "from sklearn.utils import shuffle\n",
    "\n",
    "def get_song(to_filter_by, to_show, value):\n",
    "    frame = train[(train[to_filter_by] == value) & (train['target'] == 1)]\n",
    "    frame = frame.drop_duplicates(subset=[to_show])\n",
    "    mask  = frame['song_id'].apply(lambda song: song in w2v_model.wv).to_numpy()\n",
    "    frame = frame.loc[mask, :]\n",
    "    frame = shuffle(frame).reset_index()\n",
    "    row   = frame.loc[0, [to_show, 'genre_ids']]\n",
    "    return row[to_show], row['genre_ids']\n",
    "\n",
    "\n",
    "def song_id_by_artist(name):\n",
    "    \"\"\"\n",
    "    Returns random song for given artist.\n",
    "    \"\"\"\n",
    "    return get_song(to_filter_by='artist_name', to_show='song_id', value=name)\n",
    "\n",
    "\n",
    "def artist_song_by_id(song_id):\n",
    "    \"\"\"\n",
    "    Returns artist for given song_id\n",
    "    \"\"\"\n",
    "    return get_song(to_filter_by='song_id', to_show='artist:song', value=song_id)\n",
    "\n",
    "\n",
    "def show_similars(artist_name=None, song_id=None):\n",
    "    \"\"\"\n",
    "    Returns list of similars ('artist', 'genre') for random artist song.\n",
    "    \"\"\"\n",
    "    if song_id is None:\n",
    "        song_id, genre = song_id_by_artist(artist_name)\n",
    "        print(\"random song: {}\".format(artist_song_by_id(song_id)))\n",
    "    \n",
    "    similars = w2v_model.wv.most_similar(positive=[song_id])\n",
    "    similars = list(map(artist_song_by_id, [song_id for song_id, _ in similars]))\n",
    "    return similars"
   ]
  },
  {
   "cell_type": "markdown",
   "metadata": {},
   "source": [
    "**Checking similars for popular artists**"
   ]
  },
  {
   "cell_type": "code",
   "execution_count": 51,
   "metadata": {
    "scrolled": false
   },
   "outputs": [
    {
     "name": "stdout",
     "output_type": "stream",
     "text": [
      "random song: ('Linkin Park :: Lying From You', '2022')\n"
     ]
    },
    {
     "data": {
      "text/plain": [
       "[('Linkin Park :: Papercut', '2022'),\n",
       " ('Linkin Park :: From The Inside', '2022'),\n",
       " ('Linkin Park :: Points Of Authority', '2022'),\n",
       " ('Linkin Park :: One Step Closer', '2022'),\n",
       " ('Linkin Park :: Numb', '2022'),\n",
       " ('Linkin Park :: In The End', '2022'),\n",
       " ('Linkin Park :: Faint', '2022'),\n",
       " ('Linkin Park :: Runaway', '2022'),\n",
       " ('Linkin Park :: Crawling', '2022'),\n",
       " (\"Linkin Park :: P5hng Me A'wy\", '2022')]"
      ]
     },
     "execution_count": 51,
     "metadata": {},
     "output_type": "execute_result"
    }
   ],
   "source": [
    "show_similars('Linkin Park')"
   ]
  },
  {
   "cell_type": "code",
   "execution_count": 43,
   "metadata": {
    "scrolled": true
   },
   "outputs": [
    {
     "name": "stdout",
     "output_type": "stream",
     "text": [
      "random song: ('Eminem :: Ass Like That', '1259')\n"
     ]
    },
    {
     "data": {
      "text/plain": [
       "[('Eminem :: Love Me', '1259'),\n",
       " ('Eminem :: Music Box (音樂盒)', '1259'),\n",
       " ('Eminem :: Puke', '1259'),\n",
       " ('Eminem :: Love You More', '1259'),\n",
       " ('Eminem :: As The World Turns', '1259'),\n",
       " ('Eminem :: Infinite', '1259'),\n",
       " ('Eminem :: Shit On You', '1259'),\n",
       " ('Eminem :: We As Americans', '1259'),\n",
       " (\"Eminem :: Old Time's Sake (feat. Dr. Dre) (老友記 阿姆+德瑞博士攜手直奔iTunes排行榜亞軍曲)\",\n",
       "  '1259'),\n",
       " ('Eminem :: My Fault', '1259')]"
      ]
     },
     "execution_count": 43,
     "metadata": {},
     "output_type": "execute_result"
    }
   ],
   "source": [
    "show_similars('Eminem')"
   ]
  },
  {
   "cell_type": "code",
   "execution_count": 57,
   "metadata": {},
   "outputs": [
    {
     "name": "stdout",
     "output_type": "stream",
     "text": [
      "random song: ('Justin Bieber :: Runaway Love', '465')\n"
     ]
    },
    {
     "data": {
      "text/plain": [
       "[('Justin Bieber :: Somebody To Love', '465'),\n",
       " ('Pitbull :: Hey Baby (Drop It To The Floor)', '465'),\n",
       " ('Justin Timberlake :: Let the Groove Get In', '465'),\n",
       " ('Damon Albarn :: Everyday Robots', '359'),\n",
       " ('Justin Bieber :: U Smile', '465'),\n",
       " ('Justin Bieber :: One Time', '465'),\n",
       " ('Justin Bieber :: Somebody To Love', '465'),\n",
       " ('Mohombi :: Match Made In Heaven', '465'),\n",
       " ('Justin Bieber :: Favorite Girl', '465'),\n",
       " ('Justin Bieber :: Stuck In The Moment', '465')]"
      ]
     },
     "execution_count": 57,
     "metadata": {},
     "output_type": "execute_result"
    }
   ],
   "source": [
    "show_similars('Justin Bieber')"
   ]
  },
  {
   "cell_type": "code",
   "execution_count": 88,
   "metadata": {
    "scrolled": true
   },
   "outputs": [
    {
     "name": "stdout",
     "output_type": "stream",
     "text": [
      "random song: ('Michael Jackson :: Billie Jean', '465')\n"
     ]
    },
    {
     "data": {
      "text/plain": [
       "[('Michael Jackson :: The Lady in My Life', '465'),\n",
       " ('Michael Jackson :: Baby Be Mine', '465'),\n",
       " ('Michael Jackson :: The Way You Make Me Feel', '465'),\n",
       " ('Michael Jackson :: Voice-Over Intro Rod Temperton Interview #1 / Rod Temperton Interview #1',\n",
       "  '465'),\n",
       " ('Michael Jackson :: Thriller', '465'),\n",
       " ('Michael Jackson :: Voice-Over Intro / Voice-Over Session from Thriller',\n",
       "  '465'),\n",
       " (\"Michael Jackson :: Wanna Be Startin' Somethin'\", '465'),\n",
       " ('Michael Jackson :: Jam', '465'),\n",
       " ('Michael Jackson :: Quincy Jones Interview #4', '465'),\n",
       " ('Michael Jackson :: Smooth Criminal', '465')]"
      ]
     },
     "execution_count": 88,
     "metadata": {},
     "output_type": "execute_result"
    }
   ],
   "source": [
    "show_similars('Michael Jackson')"
   ]
  },
  {
   "cell_type": "code",
   "execution_count": 156,
   "metadata": {},
   "outputs": [
    {
     "name": "stdout",
     "output_type": "stream",
     "text": [
      "random song: ('Bob Marley :: I Shot the Sheriff', '1180')\n"
     ]
    },
    {
     "data": {
      "text/plain": [
       "[('Bob Marley :: Them Belly Full (But We Hungry)', '1180'),\n",
       " ('Bob Marley :: Crazy Bald Head', '1180'),\n",
       " ('Bob Marley :: Wake up and Live', '1180'),\n",
       " ('Bob Marley :: War No More Trouble', '1180'),\n",
       " ('Bob Marley :: Ambush in the Night', '1180'),\n",
       " ('Bob Marley :: Concrete Jungle', '1180'),\n",
       " ('Bob Marley :: The Heathen', '1180'),\n",
       " ('Bob Marley :: Positive Vibration', '1180'),\n",
       " ('Bob Marley :: Riding High', '465'),\n",
       " ('Bob Marley :: My Cup', '465')]"
      ]
     },
     "execution_count": 156,
     "metadata": {},
     "output_type": "execute_result"
    }
   ],
   "source": [
    "show_similars('Bob Marley')"
   ]
  },
  {
   "cell_type": "markdown",
   "metadata": {},
   "source": [
    "**Axiluary functions for getting embeddings**"
   ]
  },
  {
   "cell_type": "code",
   "execution_count": 32,
   "metadata": {},
   "outputs": [],
   "source": [
    "def get_song_embedding(song):\n",
    "    if song in w2v_model.wv:\n",
    "        return w2v_model.wv[song]\n",
    "    else:\n",
    "        return zeros\n",
    "    \n",
    "def get_user_embedding(user):\n",
    "    return user_embeddings.get(user)"
   ]
  },
  {
   "cell_type": "markdown",
   "metadata": {},
   "source": [
    "Let's create ***user-emberdding vectors***"
   ]
  },
  {
   "cell_type": "code",
   "execution_count": 33,
   "metadata": {},
   "outputs": [
    {
     "name": "stdout",
     "output_type": "stream",
     "text": [
      "CPU times: user 15.5 s, sys: 256 ms, total: 15.8 s\n",
      "Wall time: 17.1 s\n"
     ]
    }
   ],
   "source": [
    "%%time\n",
    "\n",
    "def get_user_embeddings(vector_size=vector_size):\n",
    "    user_embed = {}\n",
    "        \n",
    "    for i, (user, _) in enumerate(grouped_users):\n",
    "        songs_embeddings = list(map(get_song_embedding, sentences[i]))\n",
    "        n                = len(songs_embeddings)\n",
    "        if n == 0:\n",
    "            user_embed[user] = zeros\n",
    "        else:\n",
    "            user_embed[user] = np.array(songs_embeddings).mean(axis=0)\n",
    "            \n",
    "    return user_embed\n",
    "\n",
    "        \n",
    "user_embeddings = get_user_embeddings()"
   ]
  },
  {
   "cell_type": "code",
   "execution_count": 34,
   "metadata": {},
   "outputs": [],
   "source": [
    "def dot_embeddings(user_to_song):\n",
    "    user, song = user_to_song\n",
    "    user_emb   = get_user_embedding(user)\n",
    "    song_emb   = get_song_embedding(song)\n",
    "    return user_emb @ song_emb"
   ]
  },
  {
   "cell_type": "markdown",
   "metadata": {},
   "source": [
    "Calculating dot product for user-song embeddings"
   ]
  },
  {
   "cell_type": "code",
   "execution_count": 35,
   "metadata": {
    "scrolled": false
   },
   "outputs": [
    {
     "name": "stdout",
     "output_type": "stream",
     "text": [
      "CPU times: user 1min 35s, sys: 1.7 s, total: 1min 36s\n",
      "Wall time: 1min 38s\n"
     ]
    }
   ],
   "source": [
    "%%time\n",
    "w2v_predictions = train.loc[:, ['user_id', 'song_id']].apply(dot_embeddings, axis=1)"
   ]
  },
  {
   "cell_type": "markdown",
   "metadata": {},
   "source": [
    "Calculating ***ROC AUC*** score for ***user-song embeddings dot product*** and ***target-values***"
   ]
  },
  {
   "cell_type": "code",
   "execution_count": 36,
   "metadata": {},
   "outputs": [
    {
     "data": {
      "text/plain": [
       "0.730900929453246"
      ]
     },
     "execution_count": 36,
     "metadata": {},
     "output_type": "execute_result"
    }
   ],
   "source": [
    "roc_auc_score(train.target, w2v_predictions)"
   ]
  },
  {
   "cell_type": "markdown",
   "metadata": {},
   "source": [
    "Let's make staking with ***CatBoost*** model"
   ]
  },
  {
   "cell_type": "code",
   "execution_count": 59,
   "metadata": {},
   "outputs": [],
   "source": [
    "def get_model(iterations=300):    \n",
    "    \"\"\"\n",
    "    Creates custom CatBoost model.\n",
    "    \n",
    "    Documentation for hyperpararms: https://catboost.ai/docs/concepts/speed-up-training.html\n",
    "    \"\"\"\n",
    "    params = {\n",
    "      'loss_function'              : 'Logloss',\n",
    "      'custom_metric'              : 'AUC',\n",
    "      'train_dir'                  : 'train_log',\n",
    "      'max_ctr_complexity'         : 1, \n",
    "      'leaf_estimation_iterations' : 1,\n",
    "      'learning_rate'              : 0.1,\n",
    "      'iterations'                 : iterations    \n",
    "    }\n",
    "    return CatBoost(params=params)"
   ]
  },
  {
   "cell_type": "code",
   "execution_count": 60,
   "metadata": {},
   "outputs": [],
   "source": [
    "def drop_user_id(X):\n",
    "    return X.drop(['user_id'], axis=1)\n",
    "\n",
    "def split_users(X, y, k):\n",
    "    X['is_test'] = X['user_id'].apply(lambda x: hash(x) % 1000 < 1000 // k)\n",
    "     \n",
    "    test_mask  = X['is_test'] == True\n",
    "    train_mask = X['is_test'] == False\n",
    "    X.drop(['is_test'], axis=1, inplace=True)\n",
    "    \n",
    "    return drop_user_id(X[train_mask]), y[train_mask], drop_user_id(X[test_mask]), y[test_mask]"
   ]
  },
  {
   "cell_type": "code",
   "execution_count": 61,
   "metadata": {},
   "outputs": [],
   "source": [
    "def k_fold_per_user(X, y, iterations=300, k=5):\n",
    "    \"\"\"\n",
    "    returns: (aucs, models)\n",
    "    \"\"\"\n",
    "    aucs, models = [], []    \n",
    "    \n",
    "    for i in range(k):\n",
    "        print('Fold {} / {}'.format(i + 1, k))\n",
    "        model = get_model(iterations=iterations)\n",
    "        \n",
    "        X_train, y_train, X__test, y__test = split_users(X, y, k)\n",
    "        \n",
    "        X__test, X_eval, y__test, y_eval = train_test_split(X__test, \n",
    "                                                            y__test, \n",
    "                                                            test_size=0.1,\n",
    "                                                            shuffle=True)\n",
    "        \n",
    "        log_freq = iterations // 20 if iterations > 20 else 3\n",
    "        \n",
    "        model.fit(X_train, \n",
    "                  y_train,\n",
    "                  cat_features=cat_features,\n",
    "                  eval_set=(X_eval, y_eval),\n",
    "                  metric_period=log_freq,\n",
    "                  use_best_model=True,\n",
    "                  verbose=True\n",
    "                 )\n",
    "        \n",
    "        models.append(model)\n",
    "    \n",
    "        predicted = model.predict(X__test)\n",
    "        auc = roc_auc_score(y__test, predicted)\n",
    "        \n",
    "        aucs.append(auc)\n",
    "        print(\"AUC: {:07f}{}\".format(auc, '\\n~~~~~~\\n'))\n",
    "        \n",
    "    return aucs, models"
   ]
  },
  {
   "cell_type": "code",
   "execution_count": 62,
   "metadata": {},
   "outputs": [
    {
     "data": {
      "text/html": [
       "<div>\n",
       "<style scoped>\n",
       "    .dataframe tbody tr th:only-of-type {\n",
       "        vertical-align: middle;\n",
       "    }\n",
       "\n",
       "    .dataframe tbody tr th {\n",
       "        vertical-align: top;\n",
       "    }\n",
       "\n",
       "    .dataframe thead th {\n",
       "        text-align: right;\n",
       "    }\n",
       "</style>\n",
       "<table border=\"1\" class=\"dataframe\">\n",
       "  <thead>\n",
       "    <tr style=\"text-align: right;\">\n",
       "      <th></th>\n",
       "      <th>user_id</th>\n",
       "      <th>song_id</th>\n",
       "      <th>source_system_tab</th>\n",
       "      <th>source_screen_name</th>\n",
       "      <th>source_type</th>\n",
       "      <th>target</th>\n",
       "      <th>subscription_length</th>\n",
       "      <th>song_length</th>\n",
       "      <th>genre_ids</th>\n",
       "      <th>artist_name</th>\n",
       "      <th>song_registration_year</th>\n",
       "      <th>song_registration_organisation</th>\n",
       "      <th>artist_count</th>\n",
       "      <th>user_genres_counter</th>\n",
       "      <th>user_artists_counter</th>\n",
       "      <th>artist:song</th>\n",
       "      <th>w2v_predictions</th>\n",
       "    </tr>\n",
       "  </thead>\n",
       "  <tbody>\n",
       "    <tr>\n",
       "      <th>0</th>\n",
       "      <td>FGtllVqz18RPiwJj/edr2gV78zirAiY/9SmYvia+kCg=</td>\n",
       "      <td>BBzumQNXUHKdEBOB7mAJuzok+IJA1c2Ryg/yzTF6tik=</td>\n",
       "      <td>explore</td>\n",
       "      <td>Explore</td>\n",
       "      <td>online-playlist</td>\n",
       "      <td>1</td>\n",
       "      <td>2103</td>\n",
       "      <td>206471.0</td>\n",
       "      <td>359</td>\n",
       "      <td>Bastille</td>\n",
       "      <td>2016</td>\n",
       "      <td>02854</td>\n",
       "      <td>1079</td>\n",
       "      <td>162</td>\n",
       "      <td>3</td>\n",
       "      <td>Bastille :: Good Grief</td>\n",
       "      <td>30.909391</td>\n",
       "    </tr>\n",
       "    <tr>\n",
       "      <th>1</th>\n",
       "      <td>Xumu+NIjS6QYVxDS4/t3SawvJ7viT9hPKXmf0RtLNx8=</td>\n",
       "      <td>bhp/MpSNoqoxOIB+/l8WPqu6jldth4DIpCm3ayXnJqM=</td>\n",
       "      <td>my library</td>\n",
       "      <td>Local playlist more</td>\n",
       "      <td>local-playlist</td>\n",
       "      <td>1</td>\n",
       "      <td>2301</td>\n",
       "      <td>284584.0</td>\n",
       "      <td>1259</td>\n",
       "      <td>Various Artists</td>\n",
       "      <td>1999</td>\n",
       "      <td>10183</td>\n",
       "      <td>292987</td>\n",
       "      <td>47</td>\n",
       "      <td>24</td>\n",
       "      <td>Various Artists :: Lords of Cardboard</td>\n",
       "      <td>51.369663</td>\n",
       "    </tr>\n",
       "    <tr>\n",
       "      <th>2</th>\n",
       "      <td>Xumu+NIjS6QYVxDS4/t3SawvJ7viT9hPKXmf0RtLNx8=</td>\n",
       "      <td>JNWfrrC7zNN7BdMpsISKa4Mw+xVJYNnxXh3/Epw7QgY=</td>\n",
       "      <td>my library</td>\n",
       "      <td>Local playlist more</td>\n",
       "      <td>local-playlist</td>\n",
       "      <td>1</td>\n",
       "      <td>2301</td>\n",
       "      <td>225396.0</td>\n",
       "      <td>1259</td>\n",
       "      <td>Nas</td>\n",
       "      <td>2006</td>\n",
       "      <td>18761</td>\n",
       "      <td>276</td>\n",
       "      <td>47</td>\n",
       "      <td>2</td>\n",
       "      <td>Nas :: Hip Hop Is Dead(Album Version (Edited))</td>\n",
       "      <td>49.093010</td>\n",
       "    </tr>\n",
       "    <tr>\n",
       "      <th>3</th>\n",
       "      <td>Xumu+NIjS6QYVxDS4/t3SawvJ7viT9hPKXmf0RtLNx8=</td>\n",
       "      <td>2A87tzfnJTSWqD7gIZHisolhe4DMdzkbd6LzO1KHjNs=</td>\n",
       "      <td>my library</td>\n",
       "      <td>Local playlist more</td>\n",
       "      <td>local-playlist</td>\n",
       "      <td>1</td>\n",
       "      <td>2301</td>\n",
       "      <td>255512.0</td>\n",
       "      <td>1019</td>\n",
       "      <td>Soundway</td>\n",
       "      <td>2010</td>\n",
       "      <td>00063</td>\n",
       "      <td>1</td>\n",
       "      <td>1</td>\n",
       "      <td>1</td>\n",
       "      <td>Soundway :: Disco Africa</td>\n",
       "      <td>46.388298</td>\n",
       "    </tr>\n",
       "    <tr>\n",
       "      <th>4</th>\n",
       "      <td>FGtllVqz18RPiwJj/edr2gV78zirAiY/9SmYvia+kCg=</td>\n",
       "      <td>3qm6XTZ6MOCU11x8FIVbAGH5l5uMkT3/ZalWG1oo2Gc=</td>\n",
       "      <td>explore</td>\n",
       "      <td>Explore</td>\n",
       "      <td>online-playlist</td>\n",
       "      <td>1</td>\n",
       "      <td>2103</td>\n",
       "      <td>187802.0</td>\n",
       "      <td>1011</td>\n",
       "      <td>Brett Young</td>\n",
       "      <td>2016</td>\n",
       "      <td>06003</td>\n",
       "      <td>415</td>\n",
       "      <td>38</td>\n",
       "      <td>1</td>\n",
       "      <td>Brett Young :: Sleep Without You</td>\n",
       "      <td>76.546799</td>\n",
       "    </tr>\n",
       "  </tbody>\n",
       "</table>\n",
       "</div>"
      ],
      "text/plain": [
       "                                        user_id  \\\n",
       "0  FGtllVqz18RPiwJj/edr2gV78zirAiY/9SmYvia+kCg=   \n",
       "1  Xumu+NIjS6QYVxDS4/t3SawvJ7viT9hPKXmf0RtLNx8=   \n",
       "2  Xumu+NIjS6QYVxDS4/t3SawvJ7viT9hPKXmf0RtLNx8=   \n",
       "3  Xumu+NIjS6QYVxDS4/t3SawvJ7viT9hPKXmf0RtLNx8=   \n",
       "4  FGtllVqz18RPiwJj/edr2gV78zirAiY/9SmYvia+kCg=   \n",
       "\n",
       "                                        song_id source_system_tab  \\\n",
       "0  BBzumQNXUHKdEBOB7mAJuzok+IJA1c2Ryg/yzTF6tik=           explore   \n",
       "1  bhp/MpSNoqoxOIB+/l8WPqu6jldth4DIpCm3ayXnJqM=        my library   \n",
       "2  JNWfrrC7zNN7BdMpsISKa4Mw+xVJYNnxXh3/Epw7QgY=        my library   \n",
       "3  2A87tzfnJTSWqD7gIZHisolhe4DMdzkbd6LzO1KHjNs=        my library   \n",
       "4  3qm6XTZ6MOCU11x8FIVbAGH5l5uMkT3/ZalWG1oo2Gc=           explore   \n",
       "\n",
       "    source_screen_name      source_type  target  subscription_length  \\\n",
       "0              Explore  online-playlist       1                 2103   \n",
       "1  Local playlist more   local-playlist       1                 2301   \n",
       "2  Local playlist more   local-playlist       1                 2301   \n",
       "3  Local playlist more   local-playlist       1                 2301   \n",
       "4              Explore  online-playlist       1                 2103   \n",
       "\n",
       "   song_length genre_ids      artist_name song_registration_year  \\\n",
       "0     206471.0       359         Bastille                   2016   \n",
       "1     284584.0      1259  Various Artists                   1999   \n",
       "2     225396.0      1259              Nas                   2006   \n",
       "3     255512.0      1019         Soundway                   2010   \n",
       "4     187802.0      1011      Brett Young                   2016   \n",
       "\n",
       "  song_registration_organisation  artist_count  user_genres_counter  \\\n",
       "0                          02854          1079                  162   \n",
       "1                          10183        292987                   47   \n",
       "2                          18761           276                   47   \n",
       "3                          00063             1                    1   \n",
       "4                          06003           415                   38   \n",
       "\n",
       "   user_artists_counter                                     artist:song  \\\n",
       "0                     3                          Bastille :: Good Grief   \n",
       "1                    24           Various Artists :: Lords of Cardboard   \n",
       "2                     2  Nas :: Hip Hop Is Dead(Album Version (Edited))   \n",
       "3                     1                        Soundway :: Disco Africa   \n",
       "4                     1                Brett Young :: Sleep Without You   \n",
       "\n",
       "   w2v_predictions  \n",
       "0        30.909391  \n",
       "1        51.369663  \n",
       "2        49.093010  \n",
       "3        46.388298  \n",
       "4        76.546799  "
      ]
     },
     "execution_count": 62,
     "metadata": {},
     "output_type": "execute_result"
    }
   ],
   "source": [
    "train['w2v_predictions'] = w2v_predictions\n",
    "train.head()"
   ]
  },
  {
   "cell_type": "code",
   "execution_count": 70,
   "metadata": {},
   "outputs": [],
   "source": [
    "X = train.drop(['target', 'song_id', 'artist:song'], axis=1)\n",
    "y = train.target"
   ]
  },
  {
   "cell_type": "code",
   "execution_count": 89,
   "metadata": {},
   "outputs": [
    {
     "name": "stdout",
     "output_type": "stream",
     "text": [
      "Fold 1 / 5\n",
      "0:\tlearn: 0.6730634\ttest: 0.6726904\tbest: 0.6726904 (0)\ttotal: 3.24s\tremaining: 13m 26s\n",
      "12:\tlearn: 0.5796768\ttest: 0.5776981\tbest: 0.5776981 (12)\ttotal: 17.2s\tremaining: 5m 14s\n",
      "24:\tlearn: 0.5603558\ttest: 0.5583774\tbest: 0.5583774 (24)\ttotal: 29.8s\tremaining: 4m 28s\n",
      "36:\tlearn: 0.5515379\ttest: 0.5494865\tbest: 0.5494865 (36)\ttotal: 42.3s\tremaining: 4m 3s\n",
      "48:\tlearn: 0.5465595\ttest: 0.5445400\tbest: 0.5445400 (48)\ttotal: 53.9s\tremaining: 3m 41s\n",
      "60:\tlearn: 0.5435289\ttest: 0.5417785\tbest: 0.5417785 (60)\ttotal: 1m 5s\tremaining: 3m 22s\n",
      "72:\tlearn: 0.5409661\ttest: 0.5392429\tbest: 0.5392429 (72)\ttotal: 1m 16s\tremaining: 3m 6s\n",
      "84:\tlearn: 0.5390018\ttest: 0.5373301\tbest: 0.5373301 (84)\ttotal: 1m 28s\tremaining: 2m 52s\n",
      "96:\tlearn: 0.5374576\ttest: 0.5360935\tbest: 0.5360935 (96)\ttotal: 1m 40s\tremaining: 2m 38s\n",
      "108:\tlearn: 0.5361491\ttest: 0.5348964\tbest: 0.5348964 (108)\ttotal: 1m 52s\tremaining: 2m 25s\n",
      "120:\tlearn: 0.5348426\ttest: 0.5337811\tbest: 0.5337811 (120)\ttotal: 2m 4s\tremaining: 2m 12s\n",
      "132:\tlearn: 0.5338065\ttest: 0.5328622\tbest: 0.5328622 (132)\ttotal: 2m 15s\tremaining: 1m 59s\n",
      "144:\tlearn: 0.5329926\ttest: 0.5321036\tbest: 0.5321036 (144)\ttotal: 2m 27s\tremaining: 1m 46s\n",
      "156:\tlearn: 0.5322292\ttest: 0.5314789\tbest: 0.5314789 (156)\ttotal: 2m 38s\tremaining: 1m 34s\n",
      "168:\tlearn: 0.5313848\ttest: 0.5306681\tbest: 0.5306681 (168)\ttotal: 2m 50s\tremaining: 1m 21s\n",
      "180:\tlearn: 0.5307267\ttest: 0.5301557\tbest: 0.5301557 (180)\ttotal: 3m 1s\tremaining: 1m 9s\n",
      "192:\tlearn: 0.5301545\ttest: 0.5297402\tbest: 0.5297402 (192)\ttotal: 3m 13s\tremaining: 57.2s\n",
      "204:\tlearn: 0.5295910\ttest: 0.5292425\tbest: 0.5292425 (204)\ttotal: 3m 25s\tremaining: 45s\n",
      "216:\tlearn: 0.5291222\ttest: 0.5288940\tbest: 0.5288940 (216)\ttotal: 3m 36s\tremaining: 33s\n",
      "228:\tlearn: 0.5285712\ttest: 0.5283941\tbest: 0.5283941 (228)\ttotal: 3m 48s\tremaining: 21s\n",
      "240:\tlearn: 0.5281901\ttest: 0.5281461\tbest: 0.5281461 (240)\ttotal: 4m\tremaining: 8.99s\n",
      "249:\tlearn: 0.5279107\ttest: 0.5279068\tbest: 0.5279068 (249)\ttotal: 4m 9s\tremaining: 0us\n",
      "\n",
      "bestTest = 0.5279067848\n",
      "bestIteration = 249\n",
      "\n",
      "AUC: 0.803812\n",
      "~~~~~~\n",
      "\n",
      "Fold 2 / 5\n",
      "0:\tlearn: 0.6730634\ttest: 0.6728558\tbest: 0.6728558 (0)\ttotal: 3.3s\tremaining: 13m 42s\n",
      "12:\tlearn: 0.5796768\ttest: 0.5788813\tbest: 0.5788813 (12)\ttotal: 16.2s\tremaining: 4m 55s\n",
      "24:\tlearn: 0.5603558\ttest: 0.5599422\tbest: 0.5599422 (24)\ttotal: 28.1s\tremaining: 4m 12s\n",
      "36:\tlearn: 0.5515379\ttest: 0.5512541\tbest: 0.5512541 (36)\ttotal: 40s\tremaining: 3m 50s\n",
      "48:\tlearn: 0.5465595\ttest: 0.5462750\tbest: 0.5462750 (48)\ttotal: 51.9s\tremaining: 3m 32s\n",
      "60:\tlearn: 0.5435289\ttest: 0.5435045\tbest: 0.5435045 (60)\ttotal: 1m 3s\tremaining: 3m 16s\n",
      "72:\tlearn: 0.5409661\ttest: 0.5411043\tbest: 0.5411043 (72)\ttotal: 1m 15s\tremaining: 3m 1s\n",
      "84:\tlearn: 0.5390018\ttest: 0.5392285\tbest: 0.5392285 (84)\ttotal: 1m 27s\tremaining: 2m 49s\n",
      "96:\tlearn: 0.5374576\ttest: 0.5379395\tbest: 0.5379395 (96)\ttotal: 1m 39s\tremaining: 2m 36s\n",
      "108:\tlearn: 0.5361491\ttest: 0.5367608\tbest: 0.5367608 (108)\ttotal: 1m 50s\tremaining: 2m 23s\n",
      "120:\tlearn: 0.5348426\ttest: 0.5356198\tbest: 0.5356198 (120)\ttotal: 2m 2s\tremaining: 2m 10s\n",
      "132:\tlearn: 0.5338065\ttest: 0.5347056\tbest: 0.5347056 (132)\ttotal: 2m 13s\tremaining: 1m 57s\n",
      "144:\tlearn: 0.5329926\ttest: 0.5339272\tbest: 0.5339272 (144)\ttotal: 2m 25s\tremaining: 1m 45s\n",
      "156:\tlearn: 0.5322292\ttest: 0.5333045\tbest: 0.5333045 (156)\ttotal: 2m 36s\tremaining: 1m 32s\n",
      "168:\tlearn: 0.5313848\ttest: 0.5325037\tbest: 0.5325037 (168)\ttotal: 2m 48s\tremaining: 1m 20s\n",
      "180:\tlearn: 0.5307267\ttest: 0.5319718\tbest: 0.5319718 (180)\ttotal: 3m 2s\tremaining: 1m 9s\n",
      "192:\tlearn: 0.5301545\ttest: 0.5315731\tbest: 0.5315731 (192)\ttotal: 3m 16s\tremaining: 58.1s\n",
      "204:\tlearn: 0.5295910\ttest: 0.5310817\tbest: 0.5310817 (204)\ttotal: 3m 33s\tremaining: 46.8s\n",
      "216:\tlearn: 0.5291222\ttest: 0.5307110\tbest: 0.5307110 (216)\ttotal: 3m 46s\tremaining: 34.5s\n",
      "228:\tlearn: 0.5285712\ttest: 0.5302253\tbest: 0.5302253 (228)\ttotal: 4m 2s\tremaining: 22.2s\n",
      "240:\tlearn: 0.5281901\ttest: 0.5299757\tbest: 0.5299757 (240)\ttotal: 4m 14s\tremaining: 9.49s\n",
      "249:\tlearn: 0.5279107\ttest: 0.5297452\tbest: 0.5297452 (249)\ttotal: 4m 23s\tremaining: 0us\n",
      "\n",
      "bestTest = 0.5297451649\n",
      "bestIteration = 249\n",
      "\n",
      "AUC: 0.804048\n",
      "~~~~~~\n",
      "\n",
      "Fold 3 / 5\n",
      "0:\tlearn: 0.6730634\ttest: 0.6730262\tbest: 0.6730262 (0)\ttotal: 2.7s\tremaining: 11m 13s\n",
      "12:\tlearn: 0.5796768\ttest: 0.5801636\tbest: 0.5801636 (12)\ttotal: 17.4s\tremaining: 5m 17s\n",
      "24:\tlearn: 0.5603558\ttest: 0.5613320\tbest: 0.5613320 (24)\ttotal: 30.7s\tremaining: 4m 36s\n",
      "36:\tlearn: 0.5515379\ttest: 0.5526428\tbest: 0.5526428 (36)\ttotal: 43.3s\tremaining: 4m 9s\n",
      "48:\tlearn: 0.5465595\ttest: 0.5478991\tbest: 0.5478991 (48)\ttotal: 55.9s\tremaining: 3m 49s\n",
      "60:\tlearn: 0.5435289\ttest: 0.5452629\tbest: 0.5452629 (60)\ttotal: 1m 8s\tremaining: 3m 31s\n",
      "72:\tlearn: 0.5409661\ttest: 0.5428586\tbest: 0.5428586 (72)\ttotal: 1m 21s\tremaining: 3m 17s\n",
      "84:\tlearn: 0.5390018\ttest: 0.5410062\tbest: 0.5410062 (84)\ttotal: 1m 35s\tremaining: 3m 4s\n",
      "96:\tlearn: 0.5374576\ttest: 0.5398147\tbest: 0.5398147 (96)\ttotal: 1m 47s\tremaining: 2m 49s\n",
      "108:\tlearn: 0.5361491\ttest: 0.5386132\tbest: 0.5386132 (108)\ttotal: 2m\tremaining: 2m 35s\n",
      "120:\tlearn: 0.5348426\ttest: 0.5375042\tbest: 0.5375042 (120)\ttotal: 2m 13s\tremaining: 2m 22s\n",
      "132:\tlearn: 0.5338065\ttest: 0.5365865\tbest: 0.5365865 (132)\ttotal: 2m 27s\tremaining: 2m 10s\n",
      "144:\tlearn: 0.5329926\ttest: 0.5358114\tbest: 0.5358114 (144)\ttotal: 2m 40s\tremaining: 1m 56s\n",
      "156:\tlearn: 0.5322292\ttest: 0.5351822\tbest: 0.5351822 (156)\ttotal: 2m 52s\tremaining: 1m 42s\n",
      "168:\tlearn: 0.5313848\ttest: 0.5344065\tbest: 0.5344065 (168)\ttotal: 3m 4s\tremaining: 1m 28s\n",
      "180:\tlearn: 0.5307267\ttest: 0.5339407\tbest: 0.5339407 (180)\ttotal: 3m 17s\tremaining: 1m 15s\n",
      "192:\tlearn: 0.5301545\ttest: 0.5335372\tbest: 0.5335372 (192)\ttotal: 3m 30s\tremaining: 1m 2s\n",
      "204:\tlearn: 0.5295910\ttest: 0.5330801\tbest: 0.5330801 (204)\ttotal: 3m 42s\tremaining: 48.9s\n",
      "216:\tlearn: 0.5291222\ttest: 0.5327321\tbest: 0.5327321 (216)\ttotal: 3m 54s\tremaining: 35.7s\n",
      "228:\tlearn: 0.5285712\ttest: 0.5322633\tbest: 0.5322633 (228)\ttotal: 4m 7s\tremaining: 22.7s\n",
      "240:\tlearn: 0.5281901\ttest: 0.5320268\tbest: 0.5320268 (240)\ttotal: 4m 20s\tremaining: 9.74s\n",
      "249:\tlearn: 0.5279107\ttest: 0.5318026\tbest: 0.5318026 (249)\ttotal: 4m 30s\tremaining: 0us\n",
      "\n",
      "bestTest = 0.531802602\n",
      "bestIteration = 249\n",
      "\n",
      "AUC: 0.804242\n",
      "~~~~~~\n",
      "\n",
      "Fold 4 / 5\n",
      "0:\tlearn: 0.6730634\ttest: 0.6729920\tbest: 0.6729920 (0)\ttotal: 2.63s\tremaining: 10m 55s\n",
      "12:\tlearn: 0.5796768\ttest: 0.5802357\tbest: 0.5802357 (12)\ttotal: 15.9s\tremaining: 4m 50s\n",
      "24:\tlearn: 0.5603558\ttest: 0.5619454\tbest: 0.5619454 (24)\ttotal: 28.1s\tremaining: 4m 12s\n",
      "36:\tlearn: 0.5515379\ttest: 0.5536077\tbest: 0.5536077 (36)\ttotal: 40.5s\tremaining: 3m 53s\n",
      "48:\tlearn: 0.5465595\ttest: 0.5490059\tbest: 0.5490059 (48)\ttotal: 52.5s\tremaining: 3m 35s\n",
      "60:\tlearn: 0.5435289\ttest: 0.5463220\tbest: 0.5463220 (60)\ttotal: 1m 5s\tremaining: 3m 21s\n",
      "72:\tlearn: 0.5409661\ttest: 0.5439842\tbest: 0.5439842 (72)\ttotal: 1m 18s\tremaining: 3m 10s\n",
      "84:\tlearn: 0.5390018\ttest: 0.5421243\tbest: 0.5421243 (84)\ttotal: 1m 32s\tremaining: 2m 58s\n",
      "96:\tlearn: 0.5374576\ttest: 0.5408711\tbest: 0.5408711 (96)\ttotal: 1m 44s\tremaining: 2m 44s\n",
      "108:\tlearn: 0.5361491\ttest: 0.5397134\tbest: 0.5397134 (108)\ttotal: 1m 55s\tremaining: 2m 29s\n",
      "120:\tlearn: 0.5348426\ttest: 0.5385957\tbest: 0.5385957 (120)\ttotal: 2m 7s\tremaining: 2m 15s\n",
      "132:\tlearn: 0.5338065\ttest: 0.5376986\tbest: 0.5376986 (132)\ttotal: 2m 19s\tremaining: 2m 2s\n",
      "144:\tlearn: 0.5329926\ttest: 0.5369288\tbest: 0.5369288 (144)\ttotal: 2m 30s\tremaining: 1m 49s\n",
      "156:\tlearn: 0.5322292\ttest: 0.5363184\tbest: 0.5363184 (156)\ttotal: 2m 42s\tremaining: 1m 36s\n",
      "168:\tlearn: 0.5313848\ttest: 0.5355297\tbest: 0.5355297 (168)\ttotal: 2m 53s\tremaining: 1m 23s\n",
      "180:\tlearn: 0.5307267\ttest: 0.5349901\tbest: 0.5349901 (180)\ttotal: 3m 5s\tremaining: 1m 10s\n",
      "192:\tlearn: 0.5301545\ttest: 0.5346264\tbest: 0.5346264 (192)\ttotal: 3m 17s\tremaining: 58.2s\n",
      "204:\tlearn: 0.5295910\ttest: 0.5341720\tbest: 0.5341720 (204)\ttotal: 3m 28s\tremaining: 45.8s\n",
      "216:\tlearn: 0.5291222\ttest: 0.5338405\tbest: 0.5338405 (216)\ttotal: 3m 40s\tremaining: 33.5s\n",
      "228:\tlearn: 0.5285712\ttest: 0.5333456\tbest: 0.5333456 (228)\ttotal: 3m 52s\tremaining: 21.3s\n",
      "240:\tlearn: 0.5281901\ttest: 0.5331244\tbest: 0.5331244 (240)\ttotal: 4m 3s\tremaining: 9.1s\n",
      "249:\tlearn: 0.5279107\ttest: 0.5328955\tbest: 0.5328955 (249)\ttotal: 4m 12s\tremaining: 0us\n",
      "\n",
      "bestTest = 0.5328955116\n",
      "bestIteration = 249\n",
      "\n"
     ]
    },
    {
     "name": "stdout",
     "output_type": "stream",
     "text": [
      "AUC: 0.804372\n",
      "~~~~~~\n",
      "\n",
      "Fold 5 / 5\n",
      "0:\tlearn: 0.6730634\ttest: 0.6729527\tbest: 0.6729527 (0)\ttotal: 2.72s\tremaining: 11m 16s\n",
      "12:\tlearn: 0.5796768\ttest: 0.5797430\tbest: 0.5797430 (12)\ttotal: 15.7s\tremaining: 4m 46s\n",
      "24:\tlearn: 0.5603558\ttest: 0.5609202\tbest: 0.5609202 (24)\ttotal: 27.8s\tremaining: 4m 10s\n",
      "36:\tlearn: 0.5515379\ttest: 0.5524090\tbest: 0.5524090 (36)\ttotal: 39.6s\tremaining: 3m 47s\n",
      "48:\tlearn: 0.5465595\ttest: 0.5475989\tbest: 0.5475989 (48)\ttotal: 51.1s\tremaining: 3m 29s\n",
      "60:\tlearn: 0.5435289\ttest: 0.5449459\tbest: 0.5449459 (60)\ttotal: 1m 2s\tremaining: 3m 13s\n",
      "72:\tlearn: 0.5409661\ttest: 0.5425076\tbest: 0.5425076 (72)\ttotal: 1m 14s\tremaining: 3m\n",
      "84:\tlearn: 0.5390018\ttest: 0.5406840\tbest: 0.5406840 (84)\ttotal: 1m 26s\tremaining: 2m 47s\n",
      "96:\tlearn: 0.5374576\ttest: 0.5394736\tbest: 0.5394736 (96)\ttotal: 1m 38s\tremaining: 2m 34s\n",
      "108:\tlearn: 0.5361491\ttest: 0.5382747\tbest: 0.5382747 (108)\ttotal: 1m 49s\tremaining: 2m 21s\n",
      "120:\tlearn: 0.5348426\ttest: 0.5372271\tbest: 0.5372271 (120)\ttotal: 2m 1s\tremaining: 2m 9s\n",
      "132:\tlearn: 0.5338065\ttest: 0.5363158\tbest: 0.5363158 (132)\ttotal: 2m 12s\tremaining: 1m 56s\n",
      "144:\tlearn: 0.5329926\ttest: 0.5355824\tbest: 0.5355824 (144)\ttotal: 2m 24s\tremaining: 1m 44s\n",
      "156:\tlearn: 0.5322292\ttest: 0.5349585\tbest: 0.5349585 (156)\ttotal: 2m 36s\tremaining: 1m 32s\n",
      "168:\tlearn: 0.5313848\ttest: 0.5341644\tbest: 0.5341644 (168)\ttotal: 2m 47s\tremaining: 1m 20s\n",
      "180:\tlearn: 0.5307267\ttest: 0.5336659\tbest: 0.5336659 (180)\ttotal: 2m 59s\tremaining: 1m 8s\n",
      "192:\tlearn: 0.5301545\ttest: 0.5332675\tbest: 0.5332675 (192)\ttotal: 3m 11s\tremaining: 56.4s\n",
      "204:\tlearn: 0.5295910\ttest: 0.5327893\tbest: 0.5327893 (204)\ttotal: 3m 22s\tremaining: 44.5s\n",
      "216:\tlearn: 0.5291222\ttest: 0.5324841\tbest: 0.5324841 (216)\ttotal: 3m 34s\tremaining: 32.6s\n",
      "228:\tlearn: 0.5285712\ttest: 0.5319868\tbest: 0.5319868 (228)\ttotal: 3m 45s\tremaining: 20.7s\n",
      "240:\tlearn: 0.5281901\ttest: 0.5317523\tbest: 0.5317523 (240)\ttotal: 3m 58s\tremaining: 8.9s\n",
      "249:\tlearn: 0.5279107\ttest: 0.5315278\tbest: 0.5315278 (249)\ttotal: 4m 6s\tremaining: 0us\n",
      "\n",
      "bestTest = 0.531527798\n",
      "bestIteration = 249\n",
      "\n",
      "AUC: 0.804211\n",
      "~~~~~~\n",
      "\n",
      "CPU times: user 1h 16min 40s, sys: 1min 11s, total: 1h 17min 52s\n",
      "Wall time: 23min\n"
     ]
    }
   ],
   "source": [
    "%%time\n",
    "aucs, models = k_fold_per_user(X=X, \n",
    "                               y=y,\n",
    "                               iterations=250)"
   ]
  },
  {
   "cell_type": "code",
   "execution_count": 90,
   "metadata": {},
   "outputs": [
    {
     "data": {
      "text/plain": [
       "[0.8038116518341354,\n",
       " 0.8040480234035209,\n",
       " 0.804241728046194,\n",
       " 0.8043723772026661,\n",
       " 0.8042114774627165]"
      ]
     },
     "execution_count": 90,
     "metadata": {},
     "output_type": "execute_result"
    }
   ],
   "source": [
    "aucs"
   ]
  },
  {
   "cell_type": "markdown",
   "metadata": {},
   "source": [
    "**Hooray ! ! !    \n",
    "*AUC* increased by 10%** from naive GBDT"
   ]
  },
  {
   "cell_type": "markdown",
   "metadata": {},
   "source": [
    "**SHAP values**"
   ]
  },
  {
   "cell_type": "code",
   "execution_count": 91,
   "metadata": {},
   "outputs": [],
   "source": [
    "def explain_shap_values(X, y, model):\n",
    "    _, X_test, _, _ = train_test_split(drop_user_id(X), y, test_size=0.2, shuffle=True)\n",
    "    shap_values = shap.TreeExplainer(model).shap_values(X_test)\n",
    "    shap.summary_plot(shap_values, X_test, max_display=X_test.shape[1])"
   ]
  },
  {
   "cell_type": "code",
   "execution_count": 92,
   "metadata": {},
   "outputs": [
    {
     "data": {
      "image/png": "[encoded data removed]",
      "text/plain": [
       "<Figure size 576x482.4 with 2 Axes>"
      ]
     },
     "metadata": {
      "needs_background": "light"
     },
     "output_type": "display_data"
    },
    {
     "name": "stdout",
     "output_type": "stream",
     "text": [
      "CPU times: user 6min 57s, sys: 6.9 s, total: 7min 4s\n",
      "Wall time: 3min 5s\n"
     ]
    }
   ],
   "source": [
    "%%time\n",
    "explain_shap_values(X, y, models[0])"
   ]
  },
  {
   "cell_type": "code",
   "execution_count": null,
   "metadata": {},
   "outputs": [],
   "source": []
  }
 ],
 "metadata": {
  "kernelspec": {
   "display_name": "Python 3",
   "language": "python",
   "name": "python3"
  },
  "language_info": {
   "codemirror_mode": {
    "name": "ipython",
    "version": 3
   },
   "file_extension": ".py",
   "mimetype": "text/x-python",
   "name": "python",
   "nbconvert_exporter": "python",
   "pygments_lexer": "ipython3",
   "version": "3.7.10"
  }
 },
 "nbformat": 4,
 "nbformat_minor": 4
}
