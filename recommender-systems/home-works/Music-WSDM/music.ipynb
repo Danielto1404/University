{
 "cells": [
  {
   "cell_type": "code",
   "execution_count": 80,
   "metadata": {
    "id": "CFQQ8yg7rk1R"
   },
   "outputs": [],
   "source": [
    "# Unzip data in Google Colab.\n",
    "# !unzip members.csv.zip\n",
    "# !unzip songs.csv.zip\n",
    "# !unzip test.csv.zip\n",
    "# !unzip train.csv.zip\n",
    "# !unzip song_extra_info.csv.zip\n",
    "\n",
    "# !pip install catboost\n",
    "# !pip install shap"
   ]
  },
  {
   "cell_type": "code",
   "execution_count": 81,
   "metadata": {
    "id": "PdIxD33HrJIb"
   },
   "outputs": [],
   "source": [
    "import pandas as pd\n",
    "import numpy as np\n",
    "import matplotlib.pyplot as plt\n",
    "\n",
    "from catboost import CatBoost\n",
    "from sklearn.model_selection import train_test_split, KFold\n",
    "from sklearn.metrics import roc_auc_score\n",
    "from collections import defaultdict\n",
    "from copy import copy\n",
    "import shap"
   ]
  },
  {
   "cell_type": "code",
   "execution_count": 82,
   "metadata": {
    "colab": {
     "base_uri": "https://localhost:8080/"
    },
    "id": "LXUMD8dRrJId",
    "outputId": "7156fa7e-0347-4c13-a440-1eba51a433c4"
   },
   "outputs": [
    {
     "name": "stdout",
     "output_type": "stream",
     "text": [
      "CPU times: user 43.5 s, sys: 5.27 s, total: 48.7 s\n",
      "Wall time: 54 s\n"
     ]
    }
   ],
   "source": [
    "%%time\n",
    "train_types = {\n",
    "    'msno'               : 'category',\n",
    "    'source_system_tab'  : 'str',\n",
    "    'source_screen_name' : 'str',\n",
    "    'source_type'        : 'str',\n",
    "    'target'             : np.uint8,\n",
    "    'song_id'            : 'category'\n",
    "}\n",
    "\n",
    "test_types = {\n",
    "    'msno'               : 'category',\n",
    "    'source_system_tab'  : 'str',\n",
    "    'source_screen_name' : 'str',\n",
    "    'source_type'        : 'str',\n",
    "    'song_id'            : 'category'\n",
    "}\n",
    "\n",
    "songs_types = {\n",
    "    'genre_ids'   : 'str',\n",
    "    'language'    : np.float32,\n",
    "    'artist_name' : 'str',\n",
    "    'composer'    : 'category',\n",
    "    'lyricist'    : 'category',\n",
    "    'song_id'     : 'category'\n",
    "}\n",
    "\n",
    "members_types = { \n",
    "    'city'           : np.uint8,\n",
    "    'bd'             : np.int16,\n",
    "    'gender'         : 'category',\n",
    "    'registered_via' : np.uint8\n",
    "}\n",
    "\n",
    "train   = pd.read_csv('data/train.csv',   dtype=train_types)\n",
    "test    = pd.read_csv('data/test.csv',    dtype=test_types)\n",
    "songs   = pd.read_csv('data/songs.csv',   dtype=songs_types)\n",
    "members = pd.read_csv('data/members.csv', dtype=members_types, \n",
    "                       parse_dates=['registration_init_time', 'expiration_date']\n",
    "                     )\n",
    "songs_extra = pd.read_csv('data/song_extra_info.csv')"
   ]
  },
  {
   "cell_type": "markdown",
   "metadata": {
    "id": "-JXwjA9WrJIf"
   },
   "source": [
    "#### Типы фичей, для train, test, songs, members\n",
    "\n",
    "\n"
   ]
  },
  {
   "cell_type": "code",
   "execution_count": 83,
   "metadata": {
    "colab": {
     "base_uri": "https://localhost:8080/"
    },
    "id": "-DP9yeslrJIf",
    "outputId": "1f9b4bdb-ebe3-4d69-9509-f31882dc906e",
    "scrolled": true
   },
   "outputs": [
    {
     "name": "stdout",
     "output_type": "stream",
     "text": [
      "msno                  category\n",
      "song_id               category\n",
      "source_system_tab       object\n",
      "source_screen_name      object\n",
      "source_type             object\n",
      "target                   uint8\n",
      "dtype: object\n",
      "~~~~~~~~~~~~~~~~~~~~~~~~~~~~~~~~\n",
      "msno                              object\n",
      "city                               uint8\n",
      "bd                                 int16\n",
      "gender                          category\n",
      "registered_via                     uint8\n",
      "registration_init_time    datetime64[ns]\n",
      "expiration_date           datetime64[ns]\n",
      "dtype: object\n",
      "~~~~~~~~~~~~~~~~~~~~~~~~~~~~~~~~\n",
      "song_id        category\n",
      "song_length       int64\n",
      "genre_ids        object\n",
      "artist_name      object\n",
      "composer       category\n",
      "lyricist       category\n",
      "language        float32\n",
      "dtype: object\n",
      "~~~~~~~~~~~~~~~~~~~~~~~~~~~~~~~~\n",
      "song_id    object\n",
      "name       object\n",
      "isrc       object\n",
      "dtype: object\n"
     ]
    }
   ],
   "source": [
    "curve_sep = '\\n~~~~~~~~~~~~~~~~~~~~~~~~~~~~~~~~\\n'\n",
    "print(train.dtypes, members.dtypes, songs.dtypes, songs_extra.dtypes, sep=curve_sep)"
   ]
  },
  {
   "cell_type": "markdown",
   "metadata": {
    "id": "30hgYH-KrJIf"
   },
   "source": [
    "Columns renaming:"
   ]
  },
  {
   "cell_type": "code",
   "execution_count": 84,
   "metadata": {
    "id": "DgAiC-9TrJIg",
    "scrolled": true
   },
   "outputs": [],
   "source": [
    "train.rename(columns={'msno' : 'user_id'}, inplace=True)\n",
    "test.rename(columns={'msno' : 'user_id'}, inplace=True)\n",
    "members.rename(columns={'msno': 'user_id', 'registration_init_time' : 'registration_date'}, inplace=True)"
   ]
  },
  {
   "cell_type": "markdown",
   "metadata": {
    "id": "izY3NYQsrJIh"
   },
   "source": [
    "### Анализ признаков пользователей:"
   ]
  },
  {
   "cell_type": "code",
   "execution_count": 85,
   "metadata": {
    "colab": {
     "base_uri": "https://localhost:8080/"
    },
    "id": "hTrxWeMwrJIi",
    "outputId": "d70e63eb-9b25-460c-e5d7-8506517e0db7"
   },
   "outputs": [
    {
     "name": "stdout",
     "output_type": "stream",
     "text": [
      "<class 'pandas.core.frame.DataFrame'>\n",
      "RangeIndex: 34403 entries, 0 to 34402\n",
      "Data columns (total 7 columns):\n",
      " #   Column             Non-Null Count  Dtype         \n",
      "---  ------             --------------  -----         \n",
      " 0   user_id            34403 non-null  object        \n",
      " 1   city               34403 non-null  uint8         \n",
      " 2   bd                 34403 non-null  int16         \n",
      " 3   gender             14501 non-null  category      \n",
      " 4   registered_via     34403 non-null  uint8         \n",
      " 5   registration_date  34403 non-null  datetime64[ns]\n",
      " 6   expiration_date    34403 non-null  datetime64[ns]\n",
      "dtypes: category(1), datetime64[ns](2), int16(1), object(1), uint8(2)\n",
      "memory usage: 974.4+ KB\n"
     ]
    }
   ],
   "source": [
    "members.info()"
   ]
  },
  {
   "cell_type": "code",
   "execution_count": 86,
   "metadata": {
    "id": "-Lv1VkZErJIj"
   },
   "outputs": [],
   "source": [
    "def merge(df, name):\n",
    "    \"\"\"\n",
    "    Returns new train_, test_, \n",
    "    which represents result of merging an input df with train and test, by specified column name.\n",
    "    \"\"\"\n",
    "    train_ = train.merge(df, on=name, how='left')\n",
    "    test_  = test.merge (df, on=name, how='left')\n",
    "    return train_, test_"
   ]
  },
  {
   "cell_type": "markdown",
   "metadata": {
    "id": "IPMxGTcHrJIk"
   },
   "source": [
    "***Сделаем новые фичи для дат:***"
   ]
  },
  {
   "cell_type": "markdown",
   "metadata": {
    "id": "EjpHPGG-rJIk"
   },
   "source": [
    "1) Год регистрации\n",
    "2) Месяц регистрации\n",
    "3) День регистрации\n",
    "4) Год окончания подписки\n",
    "5) Месяц окончания подписки\n",
    "6) Денб окончания подписки\n",
    "4) Длину подписки, которую потом можно категоризовать."
   ]
  },
  {
   "cell_type": "code",
   "execution_count": 87,
   "metadata": {
    "colab": {
     "base_uri": "https://localhost:8080/",
     "height": 224
    },
    "id": "b2_bL7OFrJIm",
    "outputId": "13b3ca03-16eb-4679-dba5-94fa7ddd9bd0",
    "scrolled": false
   },
   "outputs": [
    {
     "data": {
      "text/html": [
       "<div>\n",
       "<style scoped>\n",
       "    .dataframe tbody tr th:only-of-type {\n",
       "        vertical-align: middle;\n",
       "    }\n",
       "\n",
       "    .dataframe tbody tr th {\n",
       "        vertical-align: top;\n",
       "    }\n",
       "\n",
       "    .dataframe thead th {\n",
       "        text-align: right;\n",
       "    }\n",
       "</style>\n",
       "<table border=\"1\" class=\"dataframe\">\n",
       "  <thead>\n",
       "    <tr style=\"text-align: right;\">\n",
       "      <th></th>\n",
       "      <th>user_id</th>\n",
       "      <th>city</th>\n",
       "      <th>bd</th>\n",
       "      <th>gender</th>\n",
       "      <th>registered_via</th>\n",
       "      <th>registration_date</th>\n",
       "      <th>expiration_date</th>\n",
       "      <th>registration_year</th>\n",
       "      <th>registration_month</th>\n",
       "      <th>registration_day</th>\n",
       "      <th>expiration_year</th>\n",
       "      <th>expiration_month</th>\n",
       "      <th>expiration_day</th>\n",
       "      <th>subscription_length</th>\n",
       "    </tr>\n",
       "  </thead>\n",
       "  <tbody>\n",
       "    <tr>\n",
       "      <th>0</th>\n",
       "      <td>XQxgAYj3klVKjR3oxPPXYYFp4soD4TuBghkhMTD4oTw=</td>\n",
       "      <td>1</td>\n",
       "      <td>0</td>\n",
       "      <td>NaN</td>\n",
       "      <td>7</td>\n",
       "      <td>2011-08-20</td>\n",
       "      <td>2017-09-20</td>\n",
       "      <td>2011</td>\n",
       "      <td>8</td>\n",
       "      <td>20</td>\n",
       "      <td>2017</td>\n",
       "      <td>9</td>\n",
       "      <td>20</td>\n",
       "      <td>2223 days</td>\n",
       "    </tr>\n",
       "    <tr>\n",
       "      <th>1</th>\n",
       "      <td>UizsfmJb9mV54qE9hCYyU07Va97c0lCRLEQX3ae+ztM=</td>\n",
       "      <td>1</td>\n",
       "      <td>0</td>\n",
       "      <td>NaN</td>\n",
       "      <td>7</td>\n",
       "      <td>2015-06-28</td>\n",
       "      <td>2017-06-22</td>\n",
       "      <td>2015</td>\n",
       "      <td>6</td>\n",
       "      <td>28</td>\n",
       "      <td>2017</td>\n",
       "      <td>6</td>\n",
       "      <td>22</td>\n",
       "      <td>725 days</td>\n",
       "    </tr>\n",
       "    <tr>\n",
       "      <th>2</th>\n",
       "      <td>D8nEhsIOBSoE6VthTaqDX8U6lqjJ7dLdr72mOyLya2A=</td>\n",
       "      <td>1</td>\n",
       "      <td>0</td>\n",
       "      <td>NaN</td>\n",
       "      <td>4</td>\n",
       "      <td>2016-04-11</td>\n",
       "      <td>2017-07-12</td>\n",
       "      <td>2016</td>\n",
       "      <td>4</td>\n",
       "      <td>11</td>\n",
       "      <td>2017</td>\n",
       "      <td>7</td>\n",
       "      <td>12</td>\n",
       "      <td>457 days</td>\n",
       "    </tr>\n",
       "    <tr>\n",
       "      <th>3</th>\n",
       "      <td>mCuD+tZ1hERA/o5GPqk38e041J8ZsBaLcu7nGoIIvhI=</td>\n",
       "      <td>1</td>\n",
       "      <td>0</td>\n",
       "      <td>NaN</td>\n",
       "      <td>9</td>\n",
       "      <td>2015-09-06</td>\n",
       "      <td>2015-09-07</td>\n",
       "      <td>2015</td>\n",
       "      <td>9</td>\n",
       "      <td>6</td>\n",
       "      <td>2015</td>\n",
       "      <td>9</td>\n",
       "      <td>7</td>\n",
       "      <td>1 days</td>\n",
       "    </tr>\n",
       "    <tr>\n",
       "      <th>4</th>\n",
       "      <td>q4HRBfVSssAFS9iRfxWrohxuk9kCYMKjHOEagUMV6rQ=</td>\n",
       "      <td>1</td>\n",
       "      <td>0</td>\n",
       "      <td>NaN</td>\n",
       "      <td>4</td>\n",
       "      <td>2017-01-26</td>\n",
       "      <td>2017-06-13</td>\n",
       "      <td>2017</td>\n",
       "      <td>1</td>\n",
       "      <td>26</td>\n",
       "      <td>2017</td>\n",
       "      <td>6</td>\n",
       "      <td>13</td>\n",
       "      <td>138 days</td>\n",
       "    </tr>\n",
       "  </tbody>\n",
       "</table>\n",
       "</div>"
      ],
      "text/plain": [
       "                                        user_id  city  bd gender  \\\n",
       "0  XQxgAYj3klVKjR3oxPPXYYFp4soD4TuBghkhMTD4oTw=     1   0    NaN   \n",
       "1  UizsfmJb9mV54qE9hCYyU07Va97c0lCRLEQX3ae+ztM=     1   0    NaN   \n",
       "2  D8nEhsIOBSoE6VthTaqDX8U6lqjJ7dLdr72mOyLya2A=     1   0    NaN   \n",
       "3  mCuD+tZ1hERA/o5GPqk38e041J8ZsBaLcu7nGoIIvhI=     1   0    NaN   \n",
       "4  q4HRBfVSssAFS9iRfxWrohxuk9kCYMKjHOEagUMV6rQ=     1   0    NaN   \n",
       "\n",
       "   registered_via registration_date expiration_date  registration_year  \\\n",
       "0               7        2011-08-20      2017-09-20               2011   \n",
       "1               7        2015-06-28      2017-06-22               2015   \n",
       "2               4        2016-04-11      2017-07-12               2016   \n",
       "3               9        2015-09-06      2015-09-07               2015   \n",
       "4               4        2017-01-26      2017-06-13               2017   \n",
       "\n",
       "   registration_month  registration_day  expiration_year  expiration_month  \\\n",
       "0                   8                20             2017                 9   \n",
       "1                   6                28             2017                 6   \n",
       "2                   4                11             2017                 7   \n",
       "3                   9                 6             2015                 9   \n",
       "4                   1                26             2017                 6   \n",
       "\n",
       "   expiration_day subscription_length  \n",
       "0              20           2223 days  \n",
       "1              22            725 days  \n",
       "2              12            457 days  \n",
       "3               7              1 days  \n",
       "4              13            138 days  "
      ]
     },
     "execution_count": 87,
     "metadata": {},
     "output_type": "execute_result"
    }
   ],
   "source": [
    "members['registration_year']  = members['registration_date'].dt.year\n",
    "members['registration_month'] = members['registration_date'].dt.month\n",
    "members['registration_day']   = members['registration_date'].dt.day\n",
    "members['expiration_year']    = members['expiration_date'].dt.year\n",
    "members['expiration_month']   = members['expiration_date'].dt.month\n",
    "members['expiration_day']     = members['expiration_date'].dt.day\n",
    "\n",
    "members['subscription_length'] = members['expiration_date'] - members['registration_date']\n",
    "\n",
    "members.head()"
   ]
  },
  {
   "cell_type": "markdown",
   "metadata": {
    "id": "tyL8AkGmrJIn"
   },
   "source": [
    "Посмотрим на распределение количества дней подписки:"
   ]
  },
  {
   "cell_type": "code",
   "execution_count": 88,
   "metadata": {
    "id": "57oB8MsMrJIn",
    "scrolled": true
   },
   "outputs": [],
   "source": [
    "members['subscription_length'] = members.subscription_length   \\\n",
    "           .apply(lambda days: days / np.timedelta64(1, 'D'))  \\\n",
    "           .astype(np.int32)"
   ]
  },
  {
   "cell_type": "code",
   "execution_count": 89,
   "metadata": {
    "colab": {
     "base_uri": "https://localhost:8080/",
     "height": 282
    },
    "id": "cBOAsostrJIo",
    "outputId": "40e574c8-40dc-476c-fa0d-3110f017df33"
   },
   "outputs": [
    {
     "data": {
      "text/plain": [
       "<AxesSubplot:ylabel='Frequency'>"
      ]
     },
     "execution_count": 89,
     "metadata": {},
     "output_type": "execute_result"
    },
    {
     "data": {
      "image/png": "[encoded data removed]",
      "text/plain": [
       "<Figure size 432x288 with 1 Axes>"
      ]
     },
     "metadata": {
      "needs_background": "light"
     },
     "output_type": "display_data"
    }
   ],
   "source": [
    "members.subscription_length.plot.hist(color='magenta', bins=30)\n",
    "\n",
    "# У нас есть выброс посмотрим на него:"
   ]
  },
  {
   "cell_type": "code",
   "execution_count": 90,
   "metadata": {
    "colab": {
     "base_uri": "https://localhost:8080/",
     "height": 100
    },
    "id": "RAMzW640rJIo",
    "outputId": "21bd1a34-3a14-41e8-edd4-c1e9c8e54f20",
    "scrolled": true
   },
   "outputs": [
    {
     "data": {
      "text/html": [
       "<div>\n",
       "<style scoped>\n",
       "    .dataframe tbody tr th:only-of-type {\n",
       "        vertical-align: middle;\n",
       "    }\n",
       "\n",
       "    .dataframe tbody tr th {\n",
       "        vertical-align: top;\n",
       "    }\n",
       "\n",
       "    .dataframe thead th {\n",
       "        text-align: right;\n",
       "    }\n",
       "</style>\n",
       "<table border=\"1\" class=\"dataframe\">\n",
       "  <thead>\n",
       "    <tr style=\"text-align: right;\">\n",
       "      <th></th>\n",
       "      <th>user_id</th>\n",
       "      <th>city</th>\n",
       "      <th>bd</th>\n",
       "      <th>gender</th>\n",
       "      <th>registered_via</th>\n",
       "      <th>registration_date</th>\n",
       "      <th>expiration_date</th>\n",
       "      <th>registration_year</th>\n",
       "      <th>registration_month</th>\n",
       "      <th>registration_day</th>\n",
       "      <th>expiration_year</th>\n",
       "      <th>expiration_month</th>\n",
       "      <th>expiration_day</th>\n",
       "      <th>subscription_length</th>\n",
       "    </tr>\n",
       "  </thead>\n",
       "  <tbody>\n",
       "    <tr>\n",
       "      <th>16867</th>\n",
       "      <td>1Y+bNz3FxSoJnKOcR/Q8VJGXZbWIstrW0HfBe5LZzKA=</td>\n",
       "      <td>1</td>\n",
       "      <td>0</td>\n",
       "      <td>NaN</td>\n",
       "      <td>9</td>\n",
       "      <td>2014-05-01</td>\n",
       "      <td>1970-01-01</td>\n",
       "      <td>2014</td>\n",
       "      <td>5</td>\n",
       "      <td>1</td>\n",
       "      <td>1970</td>\n",
       "      <td>1</td>\n",
       "      <td>1</td>\n",
       "      <td>-16191</td>\n",
       "    </tr>\n",
       "  </tbody>\n",
       "</table>\n",
       "</div>"
      ],
      "text/plain": [
       "                                            user_id  city  bd gender  \\\n",
       "16867  1Y+bNz3FxSoJnKOcR/Q8VJGXZbWIstrW0HfBe5LZzKA=     1   0    NaN   \n",
       "\n",
       "       registered_via registration_date expiration_date  registration_year  \\\n",
       "16867               9        2014-05-01      1970-01-01               2014   \n",
       "\n",
       "       registration_month  registration_day  expiration_year  \\\n",
       "16867                   5                 1             1970   \n",
       "\n",
       "       expiration_month  expiration_day  subscription_length  \n",
       "16867                 1               1               -16191  "
      ]
     },
     "execution_count": 90,
     "metadata": {},
     "output_type": "execute_result"
    }
   ],
   "source": [
    "members[members.subscription_length < 0]"
   ]
  },
  {
   "cell_type": "markdown",
   "metadata": {
    "id": "IKpaYOT3rJIp"
   },
   "source": [
    "Поставим длинну подписки этому юзеру равную 0"
   ]
  },
  {
   "cell_type": "code",
   "execution_count": 91,
   "metadata": {
    "id": "XNtcSH4VrJIp"
   },
   "outputs": [],
   "source": [
    "members.loc[16867, 'subscription_length'] = 0"
   ]
  },
  {
   "cell_type": "code",
   "execution_count": 92,
   "metadata": {
    "colab": {
     "base_uri": "https://localhost:8080/",
     "height": 391
    },
    "id": "G0_GMJABrJIp",
    "outputId": "bf672cf1-02a4-419c-b44a-26cd97a2f912",
    "scrolled": true
   },
   "outputs": [
    {
     "data": {
      "text/plain": [
       "<AxesSubplot:ylabel='Frequency'>"
      ]
     },
     "execution_count": 92,
     "metadata": {},
     "output_type": "execute_result"
    },
    {
     "data": {
      "image/png": "[encoded data removed]",
      "text/plain": [
       "<Figure size 432x432 with 1 Axes>"
      ]
     },
     "metadata": {
      "needs_background": "light"
     },
     "output_type": "display_data"
    }
   ],
   "source": [
    "members['subscription_length'].plot.hist(color='magenta', figsize=(6, 6), bins=30)"
   ]
  },
  {
   "cell_type": "markdown",
   "metadata": {
    "id": "oFb6JwOqrJIq"
   },
   "source": [
    "Категоризуем длинну подписки"
   ]
  },
  {
   "cell_type": "code",
   "execution_count": 93,
   "metadata": {
    "colab": {
     "base_uri": "https://localhost:8080/",
     "height": 884
    },
    "id": "cuDvxhu8rJIq",
    "outputId": "040c2fb2-6ae9-45a4-ebb2-3c7793b1ec60"
   },
   "outputs": [
    {
     "name": "stdout",
     "output_type": "stream",
     "text": [
      "counts: \n",
      "0     9699\n",
      "1     3459\n",
      "3     3100\n",
      "2     2333\n",
      "6     1652\n",
      "7     1597\n",
      "4     1498\n",
      "11    1422\n",
      "10    1380\n",
      "8     1330\n",
      "12    1298\n",
      "5     1292\n",
      "9     1000\n",
      "13     455\n",
      "18     377\n",
      "19     345\n",
      "21     326\n",
      "17     296\n",
      "14     291\n",
      "15     273\n",
      "16     266\n",
      "20     259\n",
      "22     171\n",
      "23     162\n",
      "24     104\n",
      "25      18\n",
      "Name: subscription_length, dtype: int64 \n",
      "max_days membership: 5149\n"
     ]
    },
    {
     "data": {
      "text/plain": [
       "<AxesSubplot:ylabel='Frequency'>"
      ]
     },
     "execution_count": 93,
     "metadata": {},
     "output_type": "execute_result"
    },
    {
     "data": {
      "image/png": "[encoded data removed]",
      "text/plain": [
       "<Figure size 432x432 with 1 Axes>"
      ]
     },
     "metadata": {
      "needs_background": "light"
     },
     "output_type": "display_data"
    }
   ],
   "source": [
    "def categorize_subscription(subscription, k=200):\n",
    "    return subscription.apply(lambda days: days // k)\n",
    "\n",
    "subscription_level = categorize_subscription(members.subscription_length, k=200)\n",
    "\n",
    "print('counts: \\n{} \\nmax_days membership: {}'\n",
    "      .format(subscription_level.value_counts(), members.subscription_length.max()))\n",
    "\n",
    "members['subscription_level'] = subscription_level\n",
    "subscription_level.plot.hist(color='magenta', figsize=(6, 6), bins=30)"
   ]
  },
  {
   "cell_type": "code",
   "execution_count": 94,
   "metadata": {
    "id": "vo9XeA7irJIr"
   },
   "outputs": [],
   "source": [
    "def plot_bar(frame, index_name):\n",
    "    '''\n",
    "    Counts unique values, and makes a bar plot with counted values.\n",
    "    \n",
    "    return: (column, bar_plot)\n",
    "    '''\n",
    "    column      = frame[index_name].value_counts()\n",
    "    column      = pd.DataFrame({ index_name : column.index, 'count' : column.values })\n",
    "    column['%'] = column['count'].apply(lambda x: x * 100 / column['count'].sum())\n",
    "    column      = column.sort_values(by=[index_name], ignore_index=True)\n",
    "    bar = column.plot.bar(color='magenta', figsize=(5, 5), x=index_name, y='%')\n",
    "    return column, bar"
   ]
  },
  {
   "cell_type": "markdown",
   "metadata": {
    "id": "8XOHmEBxrJIs"
   },
   "source": [
    "### Анализ категориальный признаков пользователей: \n",
    "\n",
    "\n",
    "**Посмотрим на распределение городов:**"
   ]
  },
  {
   "cell_type": "code",
   "execution_count": 95,
   "metadata": {
    "colab": {
     "base_uri": "https://localhost:8080/",
     "height": 353
    },
    "id": "sS3Q_aANrJIs",
    "outputId": "55745c59-b32c-4e17-f57c-edbfd256938c",
    "scrolled": true
   },
   "outputs": [
    {
     "data": {
      "text/plain": [
       "<AxesSubplot:xlabel='city'>"
      ]
     },
     "execution_count": 95,
     "metadata": {},
     "output_type": "execute_result"
    },
    {
     "data": {
      "image/png": "[encoded data removed]",
      "text/plain": [
       "<Figure size 360x360 with 1 Axes>"
      ]
     },
     "metadata": {
      "needs_background": "light"
     },
     "output_type": "display_data"
    }
   ],
   "source": [
    "city_count, bar = plot_bar(frame=members, index_name='city')\n",
    "bar"
   ]
  },
  {
   "cell_type": "markdown",
   "metadata": {
    "id": "cQya-fGQrJIs"
   },
   "source": [
    "Теперь зная распределение городов можно сделать разделение на **city_index==1, и city_index != 1**"
   ]
  },
  {
   "cell_type": "code",
   "execution_count": 96,
   "metadata": {
    "id": "tWgMzM8MrJIt"
   },
   "outputs": [],
   "source": [
    "def update_city_index(city_index):\n",
    "    if city_index == 1:\n",
    "        return 1\n",
    "    else:\n",
    "        return 0\n",
    "\n",
    "# Проверял -- работает хуже.\n",
    "# members['city'] = members['city'].apply(update_index)"
   ]
  },
  {
   "cell_type": "markdown",
   "metadata": {
    "id": "oLzvhRJTrJIt"
   },
   "source": [
    "**Посмотрим на распределение методов регистрации:**"
   ]
  },
  {
   "cell_type": "code",
   "execution_count": 97,
   "metadata": {
    "colab": {
     "base_uri": "https://localhost:8080/",
     "height": 354
    },
    "id": "t8MPwPB0rJIt",
    "outputId": "b9fc81fb-1d2e-41d7-c846-3a9707e08339"
   },
   "outputs": [
    {
     "data": {
      "text/plain": [
       "<AxesSubplot:xlabel='registered_via'>"
      ]
     },
     "execution_count": 97,
     "metadata": {},
     "output_type": "execute_result"
    },
    {
     "data": {
      "image/png": "[encoded data removed]",
      "text/plain": [
       "<Figure size 360x360 with 1 Axes>"
      ]
     },
     "metadata": {
      "needs_background": "light"
     },
     "output_type": "display_data"
    }
   ],
   "source": [
    "registered_count, bar = plot_bar(frame=members, index_name='registered_via')\n",
    "bar"
   ]
  },
  {
   "cell_type": "code",
   "execution_count": 98,
   "metadata": {
    "colab": {
     "base_uri": "https://localhost:8080/",
     "height": 235
    },
    "id": "StAR0pXvrJIu",
    "outputId": "0d54f745-70de-4bab-b60b-9b21fc5e4837",
    "scrolled": true
   },
   "outputs": [
    {
     "data": {
      "text/html": [
       "<div>\n",
       "<style scoped>\n",
       "    .dataframe tbody tr th:only-of-type {\n",
       "        vertical-align: middle;\n",
       "    }\n",
       "\n",
       "    .dataframe tbody tr th {\n",
       "        vertical-align: top;\n",
       "    }\n",
       "\n",
       "    .dataframe thead th {\n",
       "        text-align: right;\n",
       "    }\n",
       "</style>\n",
       "<table border=\"1\" class=\"dataframe\">\n",
       "  <thead>\n",
       "    <tr style=\"text-align: right;\">\n",
       "      <th></th>\n",
       "      <th>registered_via</th>\n",
       "      <th>count</th>\n",
       "      <th>%</th>\n",
       "    </tr>\n",
       "  </thead>\n",
       "  <tbody>\n",
       "    <tr>\n",
       "      <th>0</th>\n",
       "      <td>3</td>\n",
       "      <td>4879</td>\n",
       "      <td>14.181903</td>\n",
       "    </tr>\n",
       "    <tr>\n",
       "      <th>1</th>\n",
       "      <td>4</td>\n",
       "      <td>11392</td>\n",
       "      <td>33.113391</td>\n",
       "    </tr>\n",
       "    <tr>\n",
       "      <th>2</th>\n",
       "      <td>7</td>\n",
       "      <td>9433</td>\n",
       "      <td>27.419120</td>\n",
       "    </tr>\n",
       "    <tr>\n",
       "      <th>3</th>\n",
       "      <td>9</td>\n",
       "      <td>8628</td>\n",
       "      <td>25.079208</td>\n",
       "    </tr>\n",
       "    <tr>\n",
       "      <th>4</th>\n",
       "      <td>13</td>\n",
       "      <td>70</td>\n",
       "      <td>0.203471</td>\n",
       "    </tr>\n",
       "    <tr>\n",
       "      <th>5</th>\n",
       "      <td>16</td>\n",
       "      <td>1</td>\n",
       "      <td>0.002907</td>\n",
       "    </tr>\n",
       "  </tbody>\n",
       "</table>\n",
       "</div>"
      ],
      "text/plain": [
       "   registered_via  count          %\n",
       "0               3   4879  14.181903\n",
       "1               4  11392  33.113391\n",
       "2               7   9433  27.419120\n",
       "3               9   8628  25.079208\n",
       "4              13     70   0.203471\n",
       "5              16      1   0.002907"
      ]
     },
     "execution_count": 98,
     "metadata": {},
     "output_type": "execute_result"
    }
   ],
   "source": [
    "registered_count"
   ]
  },
  {
   "cell_type": "markdown",
   "metadata": {
    "id": "-dt28BpTrJIv"
   },
   "source": [
    "Отнесем выбросы для **registred_via=[16, 13]** к наиболее популярному методу регистрации **(4)**"
   ]
  },
  {
   "cell_type": "code",
   "execution_count": 99,
   "metadata": {
    "id": "jjE20XwPrJIv"
   },
   "outputs": [],
   "source": [
    "def update_registration_method(registration_method):\n",
    "    # 4 is the most popular registration method.\n",
    "    if registration_method not in [3, 4, 7, 9]:\n",
    "        return 4\n",
    "    else:\n",
    "        return registration_method"
   ]
  },
  {
   "cell_type": "code",
   "execution_count": 100,
   "metadata": {
    "colab": {
     "base_uri": "https://localhost:8080/",
     "height": 331
    },
    "id": "FTNil3TTrJIv",
    "outputId": "250b0b87-d9e1-4a6d-a885-bed078d3246b",
    "scrolled": true
   },
   "outputs": [
    {
     "data": {
      "image/png": "[encoded data removed]",
      "text/plain": [
       "<Figure size 360x360 with 1 Axes>"
      ]
     },
     "metadata": {
      "needs_background": "light"
     },
     "output_type": "display_data"
    }
   ],
   "source": [
    "members['registration_method'] = members['registered_via'].apply(update_registration_method) \n",
    "\n",
    "_, bar = plot_bar(members, index_name='registration_method')"
   ]
  },
  {
   "cell_type": "markdown",
   "metadata": {
    "id": "sCYoExm6rJIw"
   },
   "source": [
    "**Посмотрим на распределение пола пользователей**"
   ]
  },
  {
   "cell_type": "code",
   "execution_count": 101,
   "metadata": {
    "colab": {
     "base_uri": "https://localhost:8080/",
     "height": 409
    },
    "id": "KGqT91njrJIx",
    "outputId": "dc008ae1-3c46-4792-ee36-469ffac471c0",
    "scrolled": true
   },
   "outputs": [
    {
     "name": "stdout",
     "output_type": "stream",
     "text": [
      "male      7405\n",
      "female    7096\n",
      "Name: gender, dtype: int64 | nulls: 19902\n"
     ]
    },
    {
     "data": {
      "image/png": "[encoded data removed]",
      "text/plain": [
       "<Figure size 360x360 with 1 Axes>"
      ]
     },
     "metadata": {
      "needs_background": "light"
     },
     "output_type": "display_data"
    }
   ],
   "source": [
    "gender_count, bar = plot_bar(frame=members, index_name='gender')\n",
    "print('{} | nulls: {}'.format(members['gender'].value_counts(), members['gender'].isnull().sum()))"
   ]
  },
  {
   "cell_type": "markdown",
   "metadata": {
    "id": "UCURVfdwrJIy"
   },
   "source": [
    "**Удалим ненужные признаки:**"
   ]
  },
  {
   "cell_type": "code",
   "execution_count": 102,
   "metadata": {
    "colab": {
     "base_uri": "https://localhost:8080/",
     "height": 224
    },
    "id": "UIrjc9A6rJIy",
    "outputId": "b172ee65-490f-4d55-a8af-581698ca6b2c",
    "scrolled": true
   },
   "outputs": [
    {
     "data": {
      "text/html": [
       "<div>\n",
       "<style scoped>\n",
       "    .dataframe tbody tr th:only-of-type {\n",
       "        vertical-align: middle;\n",
       "    }\n",
       "\n",
       "    .dataframe tbody tr th {\n",
       "        vertical-align: top;\n",
       "    }\n",
       "\n",
       "    .dataframe thead th {\n",
       "        text-align: right;\n",
       "    }\n",
       "</style>\n",
       "<table border=\"1\" class=\"dataframe\">\n",
       "  <thead>\n",
       "    <tr style=\"text-align: right;\">\n",
       "      <th></th>\n",
       "      <th>user_id</th>\n",
       "      <th>city</th>\n",
       "      <th>bd</th>\n",
       "      <th>registration_year</th>\n",
       "      <th>registration_month</th>\n",
       "      <th>registration_day</th>\n",
       "      <th>expiration_year</th>\n",
       "      <th>expiration_month</th>\n",
       "      <th>expiration_day</th>\n",
       "      <th>subscription_length</th>\n",
       "      <th>subscription_level</th>\n",
       "      <th>registration_method</th>\n",
       "    </tr>\n",
       "  </thead>\n",
       "  <tbody>\n",
       "    <tr>\n",
       "      <th>0</th>\n",
       "      <td>XQxgAYj3klVKjR3oxPPXYYFp4soD4TuBghkhMTD4oTw=</td>\n",
       "      <td>1</td>\n",
       "      <td>0</td>\n",
       "      <td>2011</td>\n",
       "      <td>8</td>\n",
       "      <td>20</td>\n",
       "      <td>2017</td>\n",
       "      <td>9</td>\n",
       "      <td>20</td>\n",
       "      <td>2223</td>\n",
       "      <td>11</td>\n",
       "      <td>7</td>\n",
       "    </tr>\n",
       "    <tr>\n",
       "      <th>1</th>\n",
       "      <td>UizsfmJb9mV54qE9hCYyU07Va97c0lCRLEQX3ae+ztM=</td>\n",
       "      <td>1</td>\n",
       "      <td>0</td>\n",
       "      <td>2015</td>\n",
       "      <td>6</td>\n",
       "      <td>28</td>\n",
       "      <td>2017</td>\n",
       "      <td>6</td>\n",
       "      <td>22</td>\n",
       "      <td>725</td>\n",
       "      <td>3</td>\n",
       "      <td>7</td>\n",
       "    </tr>\n",
       "    <tr>\n",
       "      <th>2</th>\n",
       "      <td>D8nEhsIOBSoE6VthTaqDX8U6lqjJ7dLdr72mOyLya2A=</td>\n",
       "      <td>1</td>\n",
       "      <td>0</td>\n",
       "      <td>2016</td>\n",
       "      <td>4</td>\n",
       "      <td>11</td>\n",
       "      <td>2017</td>\n",
       "      <td>7</td>\n",
       "      <td>12</td>\n",
       "      <td>457</td>\n",
       "      <td>2</td>\n",
       "      <td>4</td>\n",
       "    </tr>\n",
       "    <tr>\n",
       "      <th>3</th>\n",
       "      <td>mCuD+tZ1hERA/o5GPqk38e041J8ZsBaLcu7nGoIIvhI=</td>\n",
       "      <td>1</td>\n",
       "      <td>0</td>\n",
       "      <td>2015</td>\n",
       "      <td>9</td>\n",
       "      <td>6</td>\n",
       "      <td>2015</td>\n",
       "      <td>9</td>\n",
       "      <td>7</td>\n",
       "      <td>1</td>\n",
       "      <td>0</td>\n",
       "      <td>9</td>\n",
       "    </tr>\n",
       "    <tr>\n",
       "      <th>4</th>\n",
       "      <td>q4HRBfVSssAFS9iRfxWrohxuk9kCYMKjHOEagUMV6rQ=</td>\n",
       "      <td>1</td>\n",
       "      <td>0</td>\n",
       "      <td>2017</td>\n",
       "      <td>1</td>\n",
       "      <td>26</td>\n",
       "      <td>2017</td>\n",
       "      <td>6</td>\n",
       "      <td>13</td>\n",
       "      <td>138</td>\n",
       "      <td>0</td>\n",
       "      <td>4</td>\n",
       "    </tr>\n",
       "  </tbody>\n",
       "</table>\n",
       "</div>"
      ],
      "text/plain": [
       "                                        user_id  city  bd  registration_year  \\\n",
       "0  XQxgAYj3klVKjR3oxPPXYYFp4soD4TuBghkhMTD4oTw=     1   0               2011   \n",
       "1  UizsfmJb9mV54qE9hCYyU07Va97c0lCRLEQX3ae+ztM=     1   0               2015   \n",
       "2  D8nEhsIOBSoE6VthTaqDX8U6lqjJ7dLdr72mOyLya2A=     1   0               2016   \n",
       "3  mCuD+tZ1hERA/o5GPqk38e041J8ZsBaLcu7nGoIIvhI=     1   0               2015   \n",
       "4  q4HRBfVSssAFS9iRfxWrohxuk9kCYMKjHOEagUMV6rQ=     1   0               2017   \n",
       "\n",
       "   registration_month  registration_day  expiration_year  expiration_month  \\\n",
       "0                   8                20             2017                 9   \n",
       "1                   6                28             2017                 6   \n",
       "2                   4                11             2017                 7   \n",
       "3                   9                 6             2015                 9   \n",
       "4                   1                26             2017                 6   \n",
       "\n",
       "   expiration_day  subscription_length  subscription_level  \\\n",
       "0              20                 2223                  11   \n",
       "1              22                  725                   3   \n",
       "2              12                  457                   2   \n",
       "3               7                    1                   0   \n",
       "4              13                  138                   0   \n",
       "\n",
       "   registration_method  \n",
       "0                    7  \n",
       "1                    7  \n",
       "2                    4  \n",
       "3                    9  \n",
       "4                    4  "
      ]
     },
     "execution_count": 102,
     "metadata": {},
     "output_type": "execute_result"
    }
   ],
   "source": [
    "members = members.drop(\n",
    "    ['gender', 'registered_via', 'expiration_date', 'registration_date'], \n",
    "    axis=1\n",
    ")\n",
    "\n",
    "members.head()"
   ]
  },
  {
   "cell_type": "markdown",
   "metadata": {
    "id": "QJP3VrnorJIz"
   },
   "source": [
    "### Замерджим пользователей к train и test:"
   ]
  },
  {
   "cell_type": "code",
   "execution_count": 103,
   "metadata": {
    "id": "veshNTpsrJIz"
   },
   "outputs": [],
   "source": [
    "train, test = merge(members, 'user_id')\n",
    "del members"
   ]
  },
  {
   "cell_type": "code",
   "execution_count": 104,
   "metadata": {
    "colab": {
     "base_uri": "https://localhost:8080/"
    },
    "id": "5qjLcnGKrJIz",
    "outputId": "a8cdc413-b261-4cbf-81ea-4f39fca8c380"
   },
   "outputs": [
    {
     "data": {
      "text/plain": [
       "user_id                     0\n",
       "song_id                     0\n",
       "source_system_tab       24849\n",
       "source_screen_name     414804\n",
       "source_type             21539\n",
       "target                      0\n",
       "city                        0\n",
       "bd                          0\n",
       "registration_year           0\n",
       "registration_month          0\n",
       "registration_day            0\n",
       "expiration_year             0\n",
       "expiration_month            0\n",
       "expiration_day              0\n",
       "subscription_length         0\n",
       "subscription_level          0\n",
       "registration_method         0\n",
       "dtype: int64"
      ]
     },
     "execution_count": 104,
     "metadata": {},
     "output_type": "execute_result"
    }
   ],
   "source": [
    "train.isnull().sum()"
   ]
  },
  {
   "cell_type": "markdown",
   "metadata": {
    "id": "OP9FEWCcrJI0"
   },
   "source": [
    "### Анализ признаков для песен: "
   ]
  },
  {
   "cell_type": "code",
   "execution_count": 105,
   "metadata": {
    "colab": {
     "base_uri": "https://localhost:8080/",
     "height": 272
    },
    "id": "E-z0NSS1rJI0",
    "outputId": "79671519-b4a1-4068-ffe4-caff261b1bc5"
   },
   "outputs": [
    {
     "data": {
      "text/html": [
       "<div>\n",
       "<style scoped>\n",
       "    .dataframe tbody tr th:only-of-type {\n",
       "        vertical-align: middle;\n",
       "    }\n",
       "\n",
       "    .dataframe tbody tr th {\n",
       "        vertical-align: top;\n",
       "    }\n",
       "\n",
       "    .dataframe thead th {\n",
       "        text-align: right;\n",
       "    }\n",
       "</style>\n",
       "<table border=\"1\" class=\"dataframe\">\n",
       "  <thead>\n",
       "    <tr style=\"text-align: right;\">\n",
       "      <th></th>\n",
       "      <th>song_id</th>\n",
       "      <th>song_length</th>\n",
       "      <th>genre_ids</th>\n",
       "      <th>artist_name</th>\n",
       "      <th>composer</th>\n",
       "      <th>lyricist</th>\n",
       "      <th>language</th>\n",
       "    </tr>\n",
       "  </thead>\n",
       "  <tbody>\n",
       "    <tr>\n",
       "      <th>0</th>\n",
       "      <td>CXoTN1eb7AI+DntdU1vbcwGRV4SCIDxZu+YD8JP8r4E=</td>\n",
       "      <td>247640</td>\n",
       "      <td>465</td>\n",
       "      <td>張信哲 (Jeff Chang)</td>\n",
       "      <td>董貞</td>\n",
       "      <td>何啟弘</td>\n",
       "      <td>3.0</td>\n",
       "    </tr>\n",
       "    <tr>\n",
       "      <th>1</th>\n",
       "      <td>o0kFgae9QtnYgRkVPqLJwa05zIhRlUjfF7O1tDw0ZDU=</td>\n",
       "      <td>197328</td>\n",
       "      <td>444</td>\n",
       "      <td>BLACKPINK</td>\n",
       "      <td>TEDDY|  FUTURE BOUNCE|  Bekuh BOOM</td>\n",
       "      <td>TEDDY</td>\n",
       "      <td>31.0</td>\n",
       "    </tr>\n",
       "    <tr>\n",
       "      <th>2</th>\n",
       "      <td>DwVvVurfpuz+XPuFvucclVQEyPqcpUkHR0ne1RQzPs0=</td>\n",
       "      <td>231781</td>\n",
       "      <td>465</td>\n",
       "      <td>SUPER JUNIOR</td>\n",
       "      <td>NaN</td>\n",
       "      <td>NaN</td>\n",
       "      <td>31.0</td>\n",
       "    </tr>\n",
       "    <tr>\n",
       "      <th>3</th>\n",
       "      <td>dKMBWoZyScdxSkihKG+Vf47nc18N9q4m58+b4e7dSSE=</td>\n",
       "      <td>273554</td>\n",
       "      <td>465</td>\n",
       "      <td>S.H.E</td>\n",
       "      <td>湯小康</td>\n",
       "      <td>徐世珍</td>\n",
       "      <td>3.0</td>\n",
       "    </tr>\n",
       "    <tr>\n",
       "      <th>4</th>\n",
       "      <td>W3bqWd3T+VeHFzHAUfARgW9AvVRaF4N5Yzm4Mr6Eo/o=</td>\n",
       "      <td>140329</td>\n",
       "      <td>726</td>\n",
       "      <td>貴族精選</td>\n",
       "      <td>Traditional</td>\n",
       "      <td>Traditional</td>\n",
       "      <td>52.0</td>\n",
       "    </tr>\n",
       "  </tbody>\n",
       "</table>\n",
       "</div>"
      ],
      "text/plain": [
       "                                        song_id  song_length genre_ids  \\\n",
       "0  CXoTN1eb7AI+DntdU1vbcwGRV4SCIDxZu+YD8JP8r4E=       247640       465   \n",
       "1  o0kFgae9QtnYgRkVPqLJwa05zIhRlUjfF7O1tDw0ZDU=       197328       444   \n",
       "2  DwVvVurfpuz+XPuFvucclVQEyPqcpUkHR0ne1RQzPs0=       231781       465   \n",
       "3  dKMBWoZyScdxSkihKG+Vf47nc18N9q4m58+b4e7dSSE=       273554       465   \n",
       "4  W3bqWd3T+VeHFzHAUfARgW9AvVRaF4N5Yzm4Mr6Eo/o=       140329       726   \n",
       "\n",
       "        artist_name                            composer     lyricist  language  \n",
       "0  張信哲 (Jeff Chang)                                  董貞          何啟弘       3.0  \n",
       "1         BLACKPINK  TEDDY|  FUTURE BOUNCE|  Bekuh BOOM        TEDDY      31.0  \n",
       "2      SUPER JUNIOR                                 NaN          NaN      31.0  \n",
       "3             S.H.E                                 湯小康          徐世珍       3.0  \n",
       "4              貴族精選                         Traditional  Traditional      52.0  "
      ]
     },
     "execution_count": 105,
     "metadata": {},
     "output_type": "execute_result"
    }
   ],
   "source": [
    "songs.head()"
   ]
  },
  {
   "cell_type": "code",
   "execution_count": 106,
   "metadata": {
    "colab": {
     "base_uri": "https://localhost:8080/",
     "height": 533
    },
    "id": "cVsoAOp5rJI0",
    "outputId": "f931ca46-3959-4c78-8ddd-5d0ca3b7b916",
    "scrolled": false
   },
   "outputs": [
    {
     "name": "stdout",
     "output_type": "stream",
     "text": [
      "   language    count          %\n",
      "0      -1.0   639467  27.847481\n",
      "1       3.0   106295   4.628930\n",
      "2      10.0    15482   0.674209\n",
      "3      17.0    92518   4.028970\n",
      "4      24.0    41744   1.817866\n",
      "5      31.0    39201   1.707123\n",
      "6      38.0     2385   0.103862\n",
      "7      45.0    14435   0.628615\n",
      "8      52.0  1336694  58.210292\n",
      "9      59.0     8098   0.352651\n"
     ]
    },
    {
     "data": {
      "image/png": "[encoded data removed]",
      "text/plain": [
       "<Figure size 360x360 with 1 Axes>"
      ]
     },
     "metadata": {
      "needs_background": "light"
     },
     "output_type": "display_data"
    }
   ],
   "source": [
    "language_count, bar = plot_bar(frame=songs, index_name='language')\n",
    "print(language_count)"
   ]
  },
  {
   "cell_type": "code",
   "execution_count": 107,
   "metadata": {
    "colab": {
     "base_uri": "https://localhost:8080/"
    },
    "id": "ulStQ83UpO1A",
    "outputId": "49c4555a-ae2a-4871-d208-5979a108f7ba"
   },
   "outputs": [
    {
     "data": {
      "text/plain": [
       "59"
      ]
     },
     "execution_count": 107,
     "metadata": {},
     "output_type": "execute_result"
    }
   ],
   "source": [
    "most_popular_language = int(language_count.max()['language'])\n",
    "\n",
    "# Заполним пропуски наиболее популярным языком и прибавим 2, чтобы в дальшнейшем CatBoost не ругался.\n",
    "songs['language'] = (songs['language']\n",
    "                     .fillna(most_popular_language)\n",
    "                     .astype(np.int8) + 2\n",
    "                    )\n",
    "\n",
    "most_popular_language"
   ]
  },
  {
   "cell_type": "markdown",
   "metadata": {
    "id": "P87xwLaDnqmw"
   },
   "source": [
    "Посмотрим на композиторов, артистов и лиричность"
   ]
  },
  {
   "cell_type": "code",
   "execution_count": 108,
   "metadata": {
    "colab": {
     "base_uri": "https://localhost:8080/"
    },
    "id": "uvpCkTmMrJI3",
    "outputId": "0157c059-ec43-4523-b09d-f901e7a2188c"
   },
   "outputs": [
    {
     "name": "stdout",
     "output_type": "stream",
     "text": [
      "Lyricist nan: 1945268 | Composer nan: 1071354 | Artist nan: 0\n"
     ]
    }
   ],
   "source": [
    "lyricist = songs['lyricist']\n",
    "composer = songs['composer']\n",
    "artists  = songs['artist_name']\n",
    "\n",
    "print('Lyricist nan: {} | Composer nan: {} | Artist nan: {}'\n",
    "      .format(lyricist.isnull().sum(), composer.isnull().sum(), artists.isnull().sum()))"
   ]
  },
  {
   "cell_type": "markdown",
   "metadata": {
    "id": "zUYM-455rJI4"
   },
   "source": [
    "Удалим строку с composer и lyricist, так как они содержат очень много nan-values."
   ]
  },
  {
   "cell_type": "code",
   "execution_count": 109,
   "metadata": {
    "colab": {
     "base_uri": "https://localhost:8080/",
     "height": 204
    },
    "id": "xMXaUL19rJI4",
    "outputId": "9a931fdc-8c55-48bd-e03c-5f211412f0ef"
   },
   "outputs": [
    {
     "data": {
      "text/html": [
       "<div>\n",
       "<style scoped>\n",
       "    .dataframe tbody tr th:only-of-type {\n",
       "        vertical-align: middle;\n",
       "    }\n",
       "\n",
       "    .dataframe tbody tr th {\n",
       "        vertical-align: top;\n",
       "    }\n",
       "\n",
       "    .dataframe thead th {\n",
       "        text-align: right;\n",
       "    }\n",
       "</style>\n",
       "<table border=\"1\" class=\"dataframe\">\n",
       "  <thead>\n",
       "    <tr style=\"text-align: right;\">\n",
       "      <th></th>\n",
       "      <th>song_id</th>\n",
       "      <th>song_length</th>\n",
       "      <th>genre_ids</th>\n",
       "      <th>artist_name</th>\n",
       "      <th>language</th>\n",
       "    </tr>\n",
       "  </thead>\n",
       "  <tbody>\n",
       "    <tr>\n",
       "      <th>0</th>\n",
       "      <td>CXoTN1eb7AI+DntdU1vbcwGRV4SCIDxZu+YD8JP8r4E=</td>\n",
       "      <td>247640</td>\n",
       "      <td>465</td>\n",
       "      <td>張信哲 (Jeff Chang)</td>\n",
       "      <td>5</td>\n",
       "    </tr>\n",
       "    <tr>\n",
       "      <th>1</th>\n",
       "      <td>o0kFgae9QtnYgRkVPqLJwa05zIhRlUjfF7O1tDw0ZDU=</td>\n",
       "      <td>197328</td>\n",
       "      <td>444</td>\n",
       "      <td>BLACKPINK</td>\n",
       "      <td>33</td>\n",
       "    </tr>\n",
       "    <tr>\n",
       "      <th>2</th>\n",
       "      <td>DwVvVurfpuz+XPuFvucclVQEyPqcpUkHR0ne1RQzPs0=</td>\n",
       "      <td>231781</td>\n",
       "      <td>465</td>\n",
       "      <td>SUPER JUNIOR</td>\n",
       "      <td>33</td>\n",
       "    </tr>\n",
       "    <tr>\n",
       "      <th>3</th>\n",
       "      <td>dKMBWoZyScdxSkihKG+Vf47nc18N9q4m58+b4e7dSSE=</td>\n",
       "      <td>273554</td>\n",
       "      <td>465</td>\n",
       "      <td>S.H.E</td>\n",
       "      <td>5</td>\n",
       "    </tr>\n",
       "    <tr>\n",
       "      <th>4</th>\n",
       "      <td>W3bqWd3T+VeHFzHAUfARgW9AvVRaF4N5Yzm4Mr6Eo/o=</td>\n",
       "      <td>140329</td>\n",
       "      <td>726</td>\n",
       "      <td>貴族精選</td>\n",
       "      <td>54</td>\n",
       "    </tr>\n",
       "  </tbody>\n",
       "</table>\n",
       "</div>"
      ],
      "text/plain": [
       "                                        song_id  song_length genre_ids  \\\n",
       "0  CXoTN1eb7AI+DntdU1vbcwGRV4SCIDxZu+YD8JP8r4E=       247640       465   \n",
       "1  o0kFgae9QtnYgRkVPqLJwa05zIhRlUjfF7O1tDw0ZDU=       197328       444   \n",
       "2  DwVvVurfpuz+XPuFvucclVQEyPqcpUkHR0ne1RQzPs0=       231781       465   \n",
       "3  dKMBWoZyScdxSkihKG+Vf47nc18N9q4m58+b4e7dSSE=       273554       465   \n",
       "4  W3bqWd3T+VeHFzHAUfARgW9AvVRaF4N5Yzm4Mr6Eo/o=       140329       726   \n",
       "\n",
       "        artist_name  language  \n",
       "0  張信哲 (Jeff Chang)         5  \n",
       "1         BLACKPINK        33  \n",
       "2      SUPER JUNIOR        33  \n",
       "3             S.H.E         5  \n",
       "4              貴族精選        54  "
      ]
     },
     "execution_count": 109,
     "metadata": {},
     "output_type": "execute_result"
    }
   ],
   "source": [
    "songs = songs.drop(['lyricist', 'composer'], axis=1)\n",
    "songs.head()"
   ]
  },
  {
   "cell_type": "markdown",
   "metadata": {
    "id": "10r-Tu8NrJI5"
   },
   "source": [
    "**Посмотрим на признак отвечающий за длину песен:**"
   ]
  },
  {
   "cell_type": "code",
   "execution_count": 110,
   "metadata": {
    "colab": {
     "base_uri": "https://localhost:8080/",
     "height": 402
    },
    "id": "dCkdIY_GrJI5",
    "outputId": "1cb28f2b-9240-4491-9691-25229632ee04",
    "scrolled": true
   },
   "outputs": [
    {
     "data": {
      "text/plain": [
       "<AxesSubplot:ylabel='Frequency'>"
      ]
     },
     "execution_count": 110,
     "metadata": {},
     "output_type": "execute_result"
    },
    {
     "data": {
      "image/png": "[encoded data removed]",
      "text/plain": [
       "<Figure size 432x432 with 1 Axes>"
      ]
     },
     "metadata": {
      "needs_background": "light"
     },
     "output_type": "display_data"
    }
   ],
   "source": [
    "max_length = songs['song_length'].max()\n",
    "min_length = songs['song_length'].min()\n",
    "\n",
    "normalized_length = songs['song_length'] / max_length\n",
    "normalized_length.plot.hist(figsize=(6, 6), bins=40, color='magenta')"
   ]
  },
  {
   "cell_type": "code",
   "execution_count": 111,
   "metadata": {
    "colab": {
     "base_uri": "https://localhost:8080/",
     "height": 445
    },
    "id": "GMPLj6h8rJI6",
    "outputId": "1da0803e-aeac-44dd-9901-ce7518e6cd27",
    "scrolled": false
   },
   "outputs": [
    {
     "name": "stdout",
     "output_type": "stream",
     "text": [
      "Выброшено 22110 песен с большой длинной\n"
     ]
    },
    {
     "data": {
      "image/png": "[encoded data removed]",
      "text/plain": [
       "<Figure size 504x504 with 1 Axes>"
      ]
     },
     "metadata": {
      "needs_background": "light"
     },
     "output_type": "display_data"
    }
   ],
   "source": [
    "mask = normalized_length < 0.06\n",
    "normalized_length = normalized_length[mask]\n",
    "print('Выброшено {} песен с большой длинной'\n",
    "  .format(songs.shape[0] - normalized_length.shape[0]))\n",
    "\n",
    "# Можно заметить что практически все песни остались => можно выбросить аутлайеры\n",
    "normalized_length.plot.hist(color='magenta', figsize=(7, 7), bins=300)\n",
    "\n",
    "songs = songs[mask]\n",
    "songs['song_length'] = songs.song_length.astype(np.float32)\n",
    "\n",
    "mean_song_length = songs['song_length'].mean()"
   ]
  },
  {
   "cell_type": "code",
   "execution_count": 112,
   "metadata": {
    "id": "Zxy7iAUbuOFh"
   },
   "outputs": [],
   "source": [
    "songs['song_length'] = songs['song_length'].fillna(mean_song_length)"
   ]
  },
  {
   "cell_type": "markdown",
   "metadata": {
    "id": "YKZ597RZrJI6"
   },
   "source": [
    "**Обработаем жанры песен:**"
   ]
  },
  {
   "cell_type": "code",
   "execution_count": null,
   "metadata": {
    "id": "KEBkND3ErJI6"
   },
   "outputs": [],
   "source": [
    "genres_counter = defaultdict(int)\n",
    "\n",
    "def fill_counter(genres):\n",
    "    for genre in genres.split('|'):\n",
    "        genres_counter[genre] += 1\n",
    "    \n",
    "    return genres"
   ]
  },
  {
   "cell_type": "markdown",
   "metadata": {
    "id": "pM6R4Ne3xiOW"
   },
   "source": [
    "Заполним наш словарь с жанрами:"
   ]
  },
  {
   "cell_type": "code",
   "execution_count": 114,
   "metadata": {
    "id": "QbPwtDTjxDba"
   },
   "outputs": [],
   "source": [
    "songs['genre_ids'] = songs['genre_ids'].dropna().apply(fill_counter)"
   ]
  },
  {
   "cell_type": "markdown",
   "metadata": {
    "id": "xT6jYdGkrJI7"
   },
   "source": [
    "**Заполняем пропуски наиболее популярным жанром**"
   ]
  },
  {
   "cell_type": "code",
   "execution_count": 115,
   "metadata": {
    "id": "OaF4cQZyrJI7"
   },
   "outputs": [],
   "source": [
    "most_popular_genre = max(genres_counter, key=lambda k: genres_counter[k])\n",
    "\n",
    "songs['genre_ids'] = songs['genre_ids'].fillna(most_popular_genre)"
   ]
  },
  {
   "cell_type": "code",
   "execution_count": 116,
   "metadata": {
    "id": "B-JUjFz3rJI7"
   },
   "outputs": [],
   "source": [
    "def save_one_genre(genres):\n",
    "    counts_genre = [(genres_counter[genre], genre) for genre in genres.split('|')]\n",
    "    c, g = max(counts_genre)\n",
    "    return g"
   ]
  },
  {
   "cell_type": "code",
   "execution_count": 117,
   "metadata": {
    "colab": {
     "base_uri": "https://localhost:8080/"
    },
    "id": "KiJb7MM2rJI8",
    "outputId": "ded1fd57-2c52-4159-df36-cb6b323f663b"
   },
   "outputs": [
    {
     "data": {
      "text/plain": [
       "174"
      ]
     },
     "execution_count": 117,
     "metadata": {},
     "output_type": "execute_result"
    }
   ],
   "source": [
    "songs['genre_ids'] = songs['genre_ids'].apply(save_one_genre)\n",
    "len(songs['genre_ids'].unique())"
   ]
  },
  {
   "cell_type": "markdown",
   "metadata": {
    "id": "svNQ9Elg_hT_"
   },
   "source": [
    "Обработаем артистов"
   ]
  },
  {
   "cell_type": "code",
   "execution_count": 118,
   "metadata": {
    "colab": {
     "base_uri": "https://localhost:8080/",
     "height": 35
    },
    "id": "xgz7K--9_jOJ",
    "outputId": "f63930dc-03b4-46d2-ad25-b72479c1116a"
   },
   "outputs": [
    {
     "data": {
      "text/plain": [
       "'｢冬のソナタ｣ オルゴールサウンドコレクション'"
      ]
     },
     "execution_count": 118,
     "metadata": {},
     "output_type": "execute_result"
    }
   ],
   "source": [
    "artists = songs['artist_name'].value_counts()\n",
    "artists = pd.DataFrame({ 'artist_name' : artists.index, 'count' : artists.values })\n",
    "\n",
    "most_popular_artist = artists.max()['artist_name']\n",
    "most_popular_artist"
   ]
  },
  {
   "cell_type": "code",
   "execution_count": 119,
   "metadata": {
    "colab": {
     "base_uri": "https://localhost:8080/"
    },
    "id": "6y9A9UrvrJI8",
    "outputId": "02f19f8b-1852-4870-8402-299b6e79b0dd"
   },
   "outputs": [
    {
     "data": {
      "text/plain": [
       "user_id                     0\n",
       "song_id                     0\n",
       "source_system_tab       24849\n",
       "source_screen_name     414804\n",
       "source_type             21539\n",
       "target                      0\n",
       "city                        0\n",
       "bd                          0\n",
       "registration_year           0\n",
       "registration_month          0\n",
       "registration_day            0\n",
       "expiration_year             0\n",
       "expiration_month            0\n",
       "expiration_day              0\n",
       "subscription_length         0\n",
       "subscription_level          0\n",
       "registration_method         0\n",
       "song_length              9251\n",
       "genre_ids                9251\n",
       "artist_name              9251\n",
       "language                 9251\n",
       "dtype: int64"
      ]
     },
     "execution_count": 119,
     "metadata": {},
     "output_type": "execute_result"
    }
   ],
   "source": [
    "train, test = merge(songs, 'song_id')\n",
    "del songs\n",
    "train.isnull().sum()"
   ]
  },
  {
   "cell_type": "markdown",
   "metadata": {
    "id": "n3KWqamJZl6c"
   },
   "source": [
    "### Анализ Song Extra Info:"
   ]
  },
  {
   "cell_type": "code",
   "execution_count": 120,
   "metadata": {
    "colab": {
     "base_uri": "https://localhost:8080/"
    },
    "id": "2U-LdbstZpL4",
    "outputId": "91f4c13d-8e87-460b-fcb7-9a3874da5caa"
   },
   "outputs": [
    {
     "data": {
      "text/plain": [
       "(                                        song_id             name          isrc\n",
       " 0  LP7pLJoJFBvyuUwvu+oLzjT+bI+UeBPURCecJsX1jjs=               我們  TWUM71200043\n",
       " 1  ClazTFnk6r0Bnuie44bocdNMM3rdlrq0bCGAsGUWcHE=  Let Me Love You  QMZSY1600015\n",
       " 2  u2ja/bZE3zhCGxvbbOB3zOoUjx27u40cf5g09UXMoKQ=              原諒我  TWA530887303\n",
       " 3  92Fqsy0+p6+RHe2EoLKjHahORHR1Kq1TBJoClW9v+Ts=          Classic  USSM11301446\n",
       " 4  0QFmz/+rJy1Q56C1DuYqT9hKKqi5TUqx0sN0IwvoHrw=             愛投羅網  TWA471306001,\n",
       " song_id    object\n",
       " name       object\n",
       " isrc       object\n",
       " dtype: object)"
      ]
     },
     "execution_count": 120,
     "metadata": {},
     "output_type": "execute_result"
    }
   ],
   "source": [
    "songs_extra.head(), songs_extra.dtypes"
   ]
  },
  {
   "cell_type": "markdown",
   "metadata": {
    "id": "wqax_hazwf3R"
   },
   "source": [
    "[Что такое ISRC?](https://www.ppluk.com/membership/more-information/isrc/)"
   ]
  },
  {
   "cell_type": "code",
   "execution_count": 121,
   "metadata": {
    "id": "_PvrMCaWwgUi"
   },
   "outputs": [],
   "source": [
    "def isrc_to_year(isrc):\n",
    "    year = int(isrc[5:7])\n",
    "    if year > 17:\n",
    "        return 1900 + year\n",
    "    else:\n",
    "        return 2000 + year\n",
    "\n",
    "def isrc_to_country_code(isrc):\n",
    "    return isrc[:2]\n",
    "\n",
    "def isrc_to_reg_code(isrc):\n",
    "    return isrc[7:]"
   ]
  },
  {
   "cell_type": "code",
   "execution_count": 122,
   "metadata": {
    "colab": {
     "base_uri": "https://localhost:8080/"
    },
    "id": "l5Y9DT_LxGLm",
    "outputId": "576387b7-a484-4f8b-cf01-679c76279847"
   },
   "outputs": [
    {
     "data": {
      "text/plain": [
       "((2159423, 1), (2295971, 3))"
      ]
     },
     "execution_count": 122,
     "metadata": {},
     "output_type": "execute_result"
    }
   ],
   "source": [
    "songs_na = pd.DataFrame({ 'isrc' : songs_extra['isrc'].dropna().astype(str) })\n",
    "songs_na.shape, songs_extra.shape"
   ]
  },
  {
   "cell_type": "code",
   "execution_count": 123,
   "metadata": {
    "colab": {
     "base_uri": "https://localhost:8080/"
    },
    "id": "7sg54EGd2Ck0",
    "outputId": "2f5df713-ee90-4d94-9235-fd552125465d"
   },
   "outputs": [
    {
     "name": "stdout",
     "output_type": "stream",
     "text": [
      "\n",
      "years:         \n",
      "2015    268266\n",
      "2016    254342\n",
      "2014    211560\n",
      "2013    136376\n",
      "2012    130063\n",
      "         ...  \n",
      "1945        86\n",
      "1944        79\n",
      "1928        78\n",
      "1943        70\n",
      "1948        38\n",
      "Name: year, Length: 100, dtype: int64\n",
      "\n",
      "country codes: \n",
      "US    651830\n",
      "GB    310782\n",
      "DE    194045\n",
      "FR    148459\n",
      "TC    104693\n",
      "       ...  \n",
      "GA         1\n",
      "BK         1\n",
      "AC         1\n",
      "HL         1\n",
      "IX         1\n",
      "Name: country_code, Length: 200, dtype: int64\n",
      "\n",
      "reg codes:    \n",
      "00001    11162\n",
      "00002     8854\n",
      "00003     7843\n",
      "00004     7300\n",
      "00005     7015\n",
      "         ...  \n",
      "29656        1\n",
      "99797        1\n",
      "73383        1\n",
      "79892        1\n",
      "79166        1\n",
      "Name: reg_org, Length: 99806, dtype: int64\n",
      "      \n"
     ]
    }
   ],
   "source": [
    "songs_na['year']         = songs_na.isrc.apply(isrc_to_year)\n",
    "songs_na['country_code'] = songs_na.isrc.apply(isrc_to_country_code)\n",
    "songs_na['reg_org']      = songs_na.isrc.apply(isrc_to_reg_code)\n",
    "\n",
    "print('''\n",
    "years:         \n",
    "{}\n",
    "\n",
    "country codes: \n",
    "{}\n",
    "\n",
    "reg codes:    \n",
    "{}\n",
    "      '''\n",
    "      .format(songs_na.year.value_counts(), \n",
    "              songs_na.country_code.value_counts(),\n",
    "              songs_na.reg_org.value_counts()))\n",
    "\n",
    "most_common_year = 15\n",
    "most_common_country_code = 'US'\n",
    "most_common_reg_code = '00001'"
   ]
  },
  {
   "cell_type": "code",
   "execution_count": 124,
   "metadata": {
    "id": "QIPSJg6n1Wp7"
   },
   "outputs": [],
   "source": [
    "isrc_nulls = songs_extra['isrc'].isnull()\n",
    "\n",
    "songs_extra['song_registration_year'] = most_common_year\n",
    "songs_extra['song_registration_year'] = songs_extra.song_registration_year.astype(np.uint8)\n",
    "songs_extra['song_country_code'] = most_common_country_code\n",
    "songs_extra['song_registration_organisation'] = most_common_reg_code"
   ]
  },
  {
   "cell_type": "code",
   "execution_count": 125,
   "metadata": {
    "colab": {
     "base_uri": "https://localhost:8080/",
     "height": 275
    },
    "id": "mdWRyKhb6uQR",
    "outputId": "fec938c6-e6e0-49bb-a42d-15af4fe4c69c"
   },
   "outputs": [
    {
     "data": {
      "text/html": [
       "<div>\n",
       "<style scoped>\n",
       "    .dataframe tbody tr th:only-of-type {\n",
       "        vertical-align: middle;\n",
       "    }\n",
       "\n",
       "    .dataframe tbody tr th {\n",
       "        vertical-align: top;\n",
       "    }\n",
       "\n",
       "    .dataframe thead th {\n",
       "        text-align: right;\n",
       "    }\n",
       "</style>\n",
       "<table border=\"1\" class=\"dataframe\">\n",
       "  <thead>\n",
       "    <tr style=\"text-align: right;\">\n",
       "      <th></th>\n",
       "      <th>song_id</th>\n",
       "      <th>name</th>\n",
       "      <th>isrc</th>\n",
       "      <th>song_registration_year</th>\n",
       "      <th>song_country_code</th>\n",
       "      <th>song_registration_organisation</th>\n",
       "    </tr>\n",
       "  </thead>\n",
       "  <tbody>\n",
       "    <tr>\n",
       "      <th>0</th>\n",
       "      <td>LP7pLJoJFBvyuUwvu+oLzjT+bI+UeBPURCecJsX1jjs=</td>\n",
       "      <td>我們</td>\n",
       "      <td>TWUM71200043</td>\n",
       "      <td>2012</td>\n",
       "      <td>TW</td>\n",
       "      <td>00043</td>\n",
       "    </tr>\n",
       "    <tr>\n",
       "      <th>1</th>\n",
       "      <td>ClazTFnk6r0Bnuie44bocdNMM3rdlrq0bCGAsGUWcHE=</td>\n",
       "      <td>Let Me Love You</td>\n",
       "      <td>QMZSY1600015</td>\n",
       "      <td>2016</td>\n",
       "      <td>QM</td>\n",
       "      <td>00015</td>\n",
       "    </tr>\n",
       "    <tr>\n",
       "      <th>2</th>\n",
       "      <td>u2ja/bZE3zhCGxvbbOB3zOoUjx27u40cf5g09UXMoKQ=</td>\n",
       "      <td>原諒我</td>\n",
       "      <td>TWA530887303</td>\n",
       "      <td>2008</td>\n",
       "      <td>TW</td>\n",
       "      <td>87303</td>\n",
       "    </tr>\n",
       "    <tr>\n",
       "      <th>3</th>\n",
       "      <td>92Fqsy0+p6+RHe2EoLKjHahORHR1Kq1TBJoClW9v+Ts=</td>\n",
       "      <td>Classic</td>\n",
       "      <td>USSM11301446</td>\n",
       "      <td>2013</td>\n",
       "      <td>US</td>\n",
       "      <td>01446</td>\n",
       "    </tr>\n",
       "    <tr>\n",
       "      <th>4</th>\n",
       "      <td>0QFmz/+rJy1Q56C1DuYqT9hKKqi5TUqx0sN0IwvoHrw=</td>\n",
       "      <td>愛投羅網</td>\n",
       "      <td>TWA471306001</td>\n",
       "      <td>2013</td>\n",
       "      <td>TW</td>\n",
       "      <td>06001</td>\n",
       "    </tr>\n",
       "  </tbody>\n",
       "</table>\n",
       "</div>"
      ],
      "text/plain": [
       "                                        song_id             name  \\\n",
       "0  LP7pLJoJFBvyuUwvu+oLzjT+bI+UeBPURCecJsX1jjs=               我們   \n",
       "1  ClazTFnk6r0Bnuie44bocdNMM3rdlrq0bCGAsGUWcHE=  Let Me Love You   \n",
       "2  u2ja/bZE3zhCGxvbbOB3zOoUjx27u40cf5g09UXMoKQ=              原諒我   \n",
       "3  92Fqsy0+p6+RHe2EoLKjHahORHR1Kq1TBJoClW9v+Ts=          Classic   \n",
       "4  0QFmz/+rJy1Q56C1DuYqT9hKKqi5TUqx0sN0IwvoHrw=             愛投羅網   \n",
       "\n",
       "           isrc  song_registration_year song_country_code  \\\n",
       "0  TWUM71200043                    2012                TW   \n",
       "1  QMZSY1600015                    2016                QM   \n",
       "2  TWA530887303                    2008                TW   \n",
       "3  USSM11301446                    2013                US   \n",
       "4  TWA471306001                    2013                TW   \n",
       "\n",
       "  song_registration_organisation  \n",
       "0                          00043  \n",
       "1                          00015  \n",
       "2                          87303  \n",
       "3                          01446  \n",
       "4                          06001  "
      ]
     },
     "execution_count": 125,
     "metadata": {},
     "output_type": "execute_result"
    }
   ],
   "source": [
    "def apply_transform(name, func):\n",
    "    mask = ~isrc_nulls\n",
    "    songs_extra.loc[mask, name] = songs_extra.loc[mask, 'isrc'].apply(func)\n",
    "\n",
    "apply_transform('song_registration_year', isrc_to_year)\n",
    "apply_transform('song_country_code', isrc_to_country_code)\n",
    "apply_transform('song_registration_organisation', isrc_to_reg_code)\n",
    "\n",
    "songs_extra.head()"
   ]
  },
  {
   "cell_type": "code",
   "execution_count": 126,
   "metadata": {
    "colab": {
     "base_uri": "https://localhost:8080/"
    },
    "id": "fYunFvu2xhz6",
    "outputId": "75bcd3b5-1b4c-4afc-d4d2-b5aef190b952"
   },
   "outputs": [
    {
     "data": {
      "text/plain": [
       "user_id                                0\n",
       "song_id                                0\n",
       "source_system_tab                  24849\n",
       "source_screen_name                414804\n",
       "source_type                        21539\n",
       "target                                 0\n",
       "city                                   0\n",
       "bd                                     0\n",
       "registration_year                      0\n",
       "registration_month                     0\n",
       "registration_day                       0\n",
       "expiration_year                        0\n",
       "expiration_month                       0\n",
       "expiration_day                         0\n",
       "subscription_length                    0\n",
       "subscription_level                     0\n",
       "registration_method                    0\n",
       "song_length                         9251\n",
       "genre_ids                           9251\n",
       "artist_name                         9251\n",
       "language                            9251\n",
       "song_registration_year              1455\n",
       "song_country_code                   1455\n",
       "song_registration_organisation      1455\n",
       "dtype: int64"
      ]
     },
     "execution_count": 126,
     "metadata": {},
     "output_type": "execute_result"
    }
   ],
   "source": [
    "songs_extra = songs_extra.drop(['isrc', 'name'], axis=1)\n",
    "train, test = merge(songs_extra, 'song_id')\n",
    "\n",
    "del songs_extra\n",
    "\n",
    "train.isnull().sum()"
   ]
  },
  {
   "cell_type": "markdown",
   "metadata": {
    "id": "JIoJHv8grJI-"
   },
   "source": [
    "### Обработка train dataset:"
   ]
  },
  {
   "cell_type": "code",
   "execution_count": 127,
   "metadata": {
    "colab": {
     "base_uri": "https://localhost:8080/"
    },
    "id": "nrzPPw5-rJI-",
    "outputId": "16f3f686-32cc-4fde-d8f6-31b00f8c9238"
   },
   "outputs": [
    {
     "data": {
      "text/plain": [
       "user_id                            object\n",
       "song_id                            object\n",
       "source_system_tab                  object\n",
       "source_screen_name                 object\n",
       "source_type                        object\n",
       "target                              uint8\n",
       "city                                uint8\n",
       "bd                                  int16\n",
       "registration_year                   int64\n",
       "registration_month                  int64\n",
       "registration_day                    int64\n",
       "expiration_year                     int64\n",
       "expiration_month                    int64\n",
       "expiration_day                      int64\n",
       "subscription_length                 int32\n",
       "subscription_level                  int64\n",
       "registration_method                 int64\n",
       "song_length                       float32\n",
       "genre_ids                          object\n",
       "artist_name                        object\n",
       "language                          float64\n",
       "song_registration_year            float64\n",
       "song_country_code                  object\n",
       "song_registration_organisation     object\n",
       "dtype: object"
      ]
     },
     "execution_count": 127,
     "metadata": {},
     "output_type": "execute_result"
    }
   ],
   "source": [
    "train.dtypes"
   ]
  },
  {
   "cell_type": "code",
   "execution_count": 128,
   "metadata": {
    "id": "2BgB4SKirJI_"
   },
   "outputs": [],
   "source": [
    "def process_train_column(name):\n",
    "    global train\n",
    "    count, bar = plot_bar(train, index_name=name)\n",
    "    print('{}{}nulls: {}'.format(name, curve_sep, train[name].isnull().sum()))\n",
    "    return count"
   ]
  },
  {
   "cell_type": "markdown",
   "metadata": {
    "id": "MXjvx6otrJI_"
   },
   "source": [
    "**Source system tab -- то как пользователь вызвал событие прослушивания**"
   ]
  },
  {
   "cell_type": "code",
   "execution_count": 129,
   "metadata": {
    "colab": {
     "base_uri": "https://localhost:8080/",
     "height": 712
    },
    "id": "wLQ21D6vrJJA",
    "outputId": "8d92d44a-be76-41d3-d9d8-a8552f5a4c7f",
    "scrolled": true
   },
   "outputs": [
    {
     "name": "stdout",
     "output_type": "stream",
     "text": [
      "source_system_tab\n",
      "~~~~~~~~~~~~~~~~~~~~~~~~~~~~~~~~\n",
      "nulls: 24849\n"
     ]
    },
    {
     "data": {
      "text/html": [
       "<div>\n",
       "<style scoped>\n",
       "    .dataframe tbody tr th:only-of-type {\n",
       "        vertical-align: middle;\n",
       "    }\n",
       "\n",
       "    .dataframe tbody tr th {\n",
       "        vertical-align: top;\n",
       "    }\n",
       "\n",
       "    .dataframe thead th {\n",
       "        text-align: right;\n",
       "    }\n",
       "</style>\n",
       "<table border=\"1\" class=\"dataframe\">\n",
       "  <thead>\n",
       "    <tr style=\"text-align: right;\">\n",
       "      <th></th>\n",
       "      <th>source_system_tab</th>\n",
       "      <th>count</th>\n",
       "      <th>%</th>\n",
       "    </tr>\n",
       "  </thead>\n",
       "  <tbody>\n",
       "    <tr>\n",
       "      <th>0</th>\n",
       "      <td>discover</td>\n",
       "      <td>2179252</td>\n",
       "      <td>29.639327</td>\n",
       "    </tr>\n",
       "    <tr>\n",
       "      <th>1</th>\n",
       "      <td>explore</td>\n",
       "      <td>167949</td>\n",
       "      <td>2.284222</td>\n",
       "    </tr>\n",
       "    <tr>\n",
       "      <th>2</th>\n",
       "      <td>listen with</td>\n",
       "      <td>212266</td>\n",
       "      <td>2.886964</td>\n",
       "    </tr>\n",
       "    <tr>\n",
       "      <th>3</th>\n",
       "      <td>my library</td>\n",
       "      <td>3684730</td>\n",
       "      <td>50.114865</td>\n",
       "    </tr>\n",
       "    <tr>\n",
       "      <th>4</th>\n",
       "      <td>notification</td>\n",
       "      <td>6185</td>\n",
       "      <td>0.084120</td>\n",
       "    </tr>\n",
       "    <tr>\n",
       "      <th>5</th>\n",
       "      <td>radio</td>\n",
       "      <td>476701</td>\n",
       "      <td>6.483462</td>\n",
       "    </tr>\n",
       "    <tr>\n",
       "      <th>6</th>\n",
       "      <td>search</td>\n",
       "      <td>623286</td>\n",
       "      <td>8.477119</td>\n",
       "    </tr>\n",
       "    <tr>\n",
       "      <th>7</th>\n",
       "      <td>settings</td>\n",
       "      <td>2200</td>\n",
       "      <td>0.029922</td>\n",
       "    </tr>\n",
       "  </tbody>\n",
       "</table>\n",
       "</div>"
      ],
      "text/plain": [
       "  source_system_tab    count          %\n",
       "0          discover  2179252  29.639327\n",
       "1           explore   167949   2.284222\n",
       "2       listen with   212266   2.886964\n",
       "3        my library  3684730  50.114865\n",
       "4      notification     6185   0.084120\n",
       "5             radio   476701   6.483462\n",
       "6            search   623286   8.477119\n",
       "7          settings     2200   0.029922"
      ]
     },
     "execution_count": 129,
     "metadata": {},
     "output_type": "execute_result"
    },
    {
     "data": {
      "image/png": "[encoded data removed]",
      "text/plain": [
       "<Figure size 360x360 with 1 Axes>"
      ]
     },
     "metadata": {
      "needs_background": "light"
     },
     "output_type": "display_data"
    }
   ],
   "source": [
    "count = process_train_column('source_system_tab')\n",
    "count"
   ]
  },
  {
   "cell_type": "markdown",
   "metadata": {
    "id": "OMmAHvWErJJA"
   },
   "source": [
    "**Удалим строки с нулами их всего 25к:**"
   ]
  },
  {
   "cell_type": "code",
   "execution_count": 130,
   "metadata": {
    "colab": {
     "base_uri": "https://localhost:8080/",
     "height": 35
    },
    "id": "xWWk3LjFrJJA",
    "outputId": "5033e9da-ca82-41ed-a1f3-a78e58509d74"
   },
   "outputs": [
    {
     "data": {
      "text/plain": [
       "'my library'"
      ]
     },
     "execution_count": 130,
     "metadata": {},
     "output_type": "execute_result"
    }
   ],
   "source": [
    "most_popular_system_tab = count.loc[count['count'].idxmax(), 'source_system_tab']\n",
    "most_popular_system_tab"
   ]
  },
  {
   "cell_type": "markdown",
   "metadata": {
    "id": "84-OZ2KVrJJB"
   },
   "source": [
    "**Source screen name**"
   ]
  },
  {
   "cell_type": "code",
   "execution_count": 131,
   "metadata": {
    "colab": {
     "base_uri": "https://localhost:8080/",
     "height": 1000
    },
    "id": "9_BWGxLtrJJB",
    "outputId": "0890cb8c-61df-46e8-9d72-cfc12a9d0fd6",
    "scrolled": true
   },
   "outputs": [
    {
     "name": "stdout",
     "output_type": "stream",
     "text": [
      "source_screen_name\n",
      "~~~~~~~~~~~~~~~~~~~~~~~~~~~~~~~~\n",
      "nulls: 414804\n"
     ]
    },
    {
     "data": {
      "text/html": [
       "<div>\n",
       "<style scoped>\n",
       "    .dataframe tbody tr th:only-of-type {\n",
       "        vertical-align: middle;\n",
       "    }\n",
       "\n",
       "    .dataframe tbody tr th {\n",
       "        vertical-align: top;\n",
       "    }\n",
       "\n",
       "    .dataframe thead th {\n",
       "        text-align: right;\n",
       "    }\n",
       "</style>\n",
       "<table border=\"1\" class=\"dataframe\">\n",
       "  <thead>\n",
       "    <tr style=\"text-align: right;\">\n",
       "      <th></th>\n",
       "      <th>source_screen_name</th>\n",
       "      <th>count</th>\n",
       "      <th>%</th>\n",
       "    </tr>\n",
       "  </thead>\n",
       "  <tbody>\n",
       "    <tr>\n",
       "      <th>0</th>\n",
       "      <td>Album more</td>\n",
       "      <td>420156</td>\n",
       "      <td>6.034458</td>\n",
       "    </tr>\n",
       "    <tr>\n",
       "      <th>1</th>\n",
       "      <td>Artist more</td>\n",
       "      <td>252429</td>\n",
       "      <td>3.625492</td>\n",
       "    </tr>\n",
       "    <tr>\n",
       "      <th>2</th>\n",
       "      <td>Concert</td>\n",
       "      <td>47</td>\n",
       "      <td>0.000675</td>\n",
       "    </tr>\n",
       "    <tr>\n",
       "      <th>3</th>\n",
       "      <td>Discover Chart</td>\n",
       "      <td>213658</td>\n",
       "      <td>3.068646</td>\n",
       "    </tr>\n",
       "    <tr>\n",
       "      <th>4</th>\n",
       "      <td>Discover Feature</td>\n",
       "      <td>244246</td>\n",
       "      <td>3.507964</td>\n",
       "    </tr>\n",
       "    <tr>\n",
       "      <th>5</th>\n",
       "      <td>Discover Genre</td>\n",
       "      <td>82202</td>\n",
       "      <td>1.180620</td>\n",
       "    </tr>\n",
       "    <tr>\n",
       "      <th>6</th>\n",
       "      <td>Discover New</td>\n",
       "      <td>15955</td>\n",
       "      <td>0.229152</td>\n",
       "    </tr>\n",
       "    <tr>\n",
       "      <th>7</th>\n",
       "      <td>Explore</td>\n",
       "      <td>72342</td>\n",
       "      <td>1.039006</td>\n",
       "    </tr>\n",
       "    <tr>\n",
       "      <th>8</th>\n",
       "      <td>Local playlist more</td>\n",
       "      <td>3228202</td>\n",
       "      <td>46.364799</td>\n",
       "    </tr>\n",
       "    <tr>\n",
       "      <th>9</th>\n",
       "      <td>My library</td>\n",
       "      <td>75980</td>\n",
       "      <td>1.091257</td>\n",
       "    </tr>\n",
       "    <tr>\n",
       "      <th>10</th>\n",
       "      <td>My library_Search</td>\n",
       "      <td>6451</td>\n",
       "      <td>0.092652</td>\n",
       "    </tr>\n",
       "    <tr>\n",
       "      <th>11</th>\n",
       "      <td>Online playlist more</td>\n",
       "      <td>1294689</td>\n",
       "      <td>18.594870</td>\n",
       "    </tr>\n",
       "    <tr>\n",
       "      <th>12</th>\n",
       "      <td>Others profile more</td>\n",
       "      <td>201795</td>\n",
       "      <td>2.898265</td>\n",
       "    </tr>\n",
       "    <tr>\n",
       "      <th>13</th>\n",
       "      <td>Payment</td>\n",
       "      <td>12</td>\n",
       "      <td>0.000172</td>\n",
       "    </tr>\n",
       "    <tr>\n",
       "      <th>14</th>\n",
       "      <td>Radio</td>\n",
       "      <td>474467</td>\n",
       "      <td>6.814495</td>\n",
       "    </tr>\n",
       "    <tr>\n",
       "      <th>15</th>\n",
       "      <td>Search</td>\n",
       "      <td>298487</td>\n",
       "      <td>4.286996</td>\n",
       "    </tr>\n",
       "    <tr>\n",
       "      <th>16</th>\n",
       "      <td>Search Home</td>\n",
       "      <td>13482</td>\n",
       "      <td>0.193634</td>\n",
       "    </tr>\n",
       "    <tr>\n",
       "      <th>17</th>\n",
       "      <td>Search Trends</td>\n",
       "      <td>13632</td>\n",
       "      <td>0.195789</td>\n",
       "    </tr>\n",
       "    <tr>\n",
       "      <th>18</th>\n",
       "      <td>Self profile more</td>\n",
       "      <td>212</td>\n",
       "      <td>0.003045</td>\n",
       "    </tr>\n",
       "    <tr>\n",
       "      <th>19</th>\n",
       "      <td>Unknown</td>\n",
       "      <td>54170</td>\n",
       "      <td>0.778012</td>\n",
       "    </tr>\n",
       "  </tbody>\n",
       "</table>\n",
       "</div>"
      ],
      "text/plain": [
       "      source_screen_name    count          %\n",
       "0             Album more   420156   6.034458\n",
       "1            Artist more   252429   3.625492\n",
       "2                Concert       47   0.000675\n",
       "3         Discover Chart   213658   3.068646\n",
       "4       Discover Feature   244246   3.507964\n",
       "5         Discover Genre    82202   1.180620\n",
       "6           Discover New    15955   0.229152\n",
       "7                Explore    72342   1.039006\n",
       "8    Local playlist more  3228202  46.364799\n",
       "9             My library    75980   1.091257\n",
       "10     My library_Search     6451   0.092652\n",
       "11  Online playlist more  1294689  18.594870\n",
       "12   Others profile more   201795   2.898265\n",
       "13               Payment       12   0.000172\n",
       "14                 Radio   474467   6.814495\n",
       "15                Search   298487   4.286996\n",
       "16           Search Home    13482   0.193634\n",
       "17         Search Trends    13632   0.195789\n",
       "18     Self profile more      212   0.003045\n",
       "19               Unknown    54170   0.778012"
      ]
     },
     "execution_count": 131,
     "metadata": {},
     "output_type": "execute_result"
    },
    {
     "data": {
      "image/png": "[encoded data removed]",
      "text/plain": [
       "<Figure size 360x360 with 1 Axes>"
      ]
     },
     "metadata": {
      "needs_background": "light"
     },
     "output_type": "display_data"
    }
   ],
   "source": [
    "count = process_train_column('source_screen_name')\n",
    "count"
   ]
  },
  {
   "cell_type": "markdown",
   "metadata": {
    "id": "M5QQ_RSwrJJB"
   },
   "source": [
    "Удаляем строки с payment, concert, self profile more так для них очень мало данных."
   ]
  },
  {
   "cell_type": "code",
   "execution_count": 132,
   "metadata": {
    "colab": {
     "base_uri": "https://localhost:8080/",
     "height": 35
    },
    "id": "6PKiNPHxrJJC",
    "outputId": "e87d8649-f386-42a4-d831-2701815c8444",
    "scrolled": true
   },
   "outputs": [
    {
     "data": {
      "text/plain": [
       "'Local playlist more'"
      ]
     },
     "execution_count": 132,
     "metadata": {},
     "output_type": "execute_result"
    }
   ],
   "source": [
    "most_popular_source_screen = count.loc[count['count'].idxmax(), 'source_screen_name']\n",
    "\n",
    "mask = (train.source_screen_name != 'Payment') \\\n",
    "     & (train.source_screen_name != 'Concert') \\\n",
    "     & (train.source_screen_name != 'Self profile more')\n",
    "\n",
    "train = train[mask]\n",
    "\n",
    "most_popular_source_screen"
   ]
  },
  {
   "cell_type": "markdown",
   "metadata": {
    "id": "znBs1iIorJJC"
   },
   "source": [
    "**Source type**"
   ]
  },
  {
   "cell_type": "code",
   "execution_count": 133,
   "metadata": {
    "colab": {
     "base_uri": "https://localhost:8080/",
     "height": 474
    },
    "id": "6cSkGHl_rJJD",
    "outputId": "73382129-9207-4d71-8561-49c19bd2ffd4"
   },
   "outputs": [
    {
     "name": "stdout",
     "output_type": "stream",
     "text": [
      "source_type\n",
      "~~~~~~~~~~~~~~~~~~~~~~~~~~~~~~~~\n",
      "nulls: 21539\n"
     ]
    },
    {
     "data": {
      "image/png": "[encoded data removed]",
      "text/plain": [
       "<Figure size 360x360 with 1 Axes>"
      ]
     },
     "metadata": {
      "needs_background": "light"
     },
     "output_type": "display_data"
    }
   ],
   "source": [
    "count = process_train_column('source_type')"
   ]
  },
  {
   "cell_type": "markdown",
   "metadata": {
    "id": "XjGtgyHqrJJD"
   },
   "source": [
    "**Удалим строки с нулами их всего 25к:**"
   ]
  },
  {
   "cell_type": "code",
   "execution_count": 134,
   "metadata": {
    "colab": {
     "base_uri": "https://localhost:8080/",
     "height": 35
    },
    "id": "Sa_475nurJJE",
    "outputId": "435ad96a-1ec2-418e-da74-850538975ece"
   },
   "outputs": [
    {
     "data": {
      "text/plain": [
       "'local-library'"
      ]
     },
     "execution_count": 134,
     "metadata": {},
     "output_type": "execute_result"
    }
   ],
   "source": [
    "most_popular_source_type = count.loc[count['count'].idxmax(), 'source_type']\n",
    "most_popular_source_type"
   ]
  },
  {
   "cell_type": "markdown",
   "metadata": {
    "id": "s3qC_eqlrJJE"
   },
   "source": [
    "## Запуск CatBoost"
   ]
  },
  {
   "cell_type": "markdown",
   "metadata": {
    "id": "MN3WU7kxrJJF"
   },
   "source": [
    "**Train dtypes**"
   ]
  },
  {
   "cell_type": "code",
   "execution_count": 135,
   "metadata": {
    "colab": {
     "base_uri": "https://localhost:8080/"
    },
    "id": "Ef00GRMX9Xi9",
    "outputId": "9e34a127-9004-4215-9829-374856adfb3b"
   },
   "outputs": [
    {
     "data": {
      "text/plain": [
       "user_id                            object\n",
       "song_id                            object\n",
       "source_system_tab                  object\n",
       "source_screen_name                 object\n",
       "source_type                        object\n",
       "target                              uint8\n",
       "city                                uint8\n",
       "bd                                  int16\n",
       "registration_year                   int64\n",
       "registration_month                  int64\n",
       "registration_day                    int64\n",
       "expiration_year                     int64\n",
       "expiration_month                    int64\n",
       "expiration_day                      int64\n",
       "subscription_length                 int32\n",
       "subscription_level                  int64\n",
       "registration_method                 int64\n",
       "song_length                       float32\n",
       "genre_ids                          object\n",
       "artist_name                        object\n",
       "language                          float64\n",
       "song_registration_year            float64\n",
       "song_country_code                  object\n",
       "song_registration_organisation     object\n",
       "dtype: object"
      ]
     },
     "execution_count": 135,
     "metadata": {},
     "output_type": "execute_result"
    }
   ],
   "source": [
    "train.dtypes"
   ]
  },
  {
   "cell_type": "code",
   "execution_count": 136,
   "metadata": {
    "id": "UHrDWWzfrJJF",
    "scrolled": true
   },
   "outputs": [],
   "source": [
    "def warn_on(name):\n",
    "    return 'Warning: {} not in columns'.format(name)\n",
    "\n",
    "def to_type(frame, name, dtype):\n",
    "    if name in frame.columns:\n",
    "        frame.loc[:, name] = frame[name].astype(dtype)\n",
    "    else:\n",
    "        RuntimeWarning(warn_on(name))\n",
    "\n",
    "def to_category(frame, names):\n",
    "    for name in names:\n",
    "        to_type(frame=frame, name=name, dtype='category')"
   ]
  },
  {
   "cell_type": "code",
   "execution_count": 164,
   "metadata": {
    "colab": {
     "base_uri": "https://localhost:8080/"
    },
    "id": "mCyEP0bWvf0U",
    "outputId": "9acbb17a-1f09-4317-99bf-b5e51747c2bd"
   },
   "outputs": [
    {
     "data": {
      "text/plain": [
       "user_id                                0\n",
       "song_id                                0\n",
       "source_system_tab                  24849\n",
       "source_screen_name                414804\n",
       "source_type                        21539\n",
       "target                                 0\n",
       "city                                   0\n",
       "bd                                     0\n",
       "registration_year                      0\n",
       "registration_month                     0\n",
       "registration_day                       0\n",
       "expiration_year                        0\n",
       "expiration_month                       0\n",
       "expiration_day                         0\n",
       "subscription_length                    0\n",
       "subscription_level                     0\n",
       "registration_method                    0\n",
       "song_length                         9251\n",
       "genre_ids                           9251\n",
       "artist_name                         9251\n",
       "language                            9251\n",
       "song_registration_year              1455\n",
       "song_country_code                   1455\n",
       "song_registration_organisation      1455\n",
       "dtype: int64"
      ]
     },
     "execution_count": 164,
     "metadata": {},
     "output_type": "execute_result"
    }
   ],
   "source": [
    "cat_features = [ \n",
    "                # Sources\n",
    "                'source_system_tab', \n",
    "                'source_screen_name',\n",
    "                'source_type',\n",
    "\n",
    "                # Members\n",
    "                'city',\n",
    "                'subscription_level',\n",
    "                'registration_method',\n",
    "\n",
    "                #Songs\n",
    "                'genre_ids',\n",
    "                'language',\n",
    "                'artist_name',\n",
    "\n",
    "                # Dates\n",
    "                'registration_year',\n",
    "                'registration_month',\n",
    "\n",
    "                'expiration_year',\n",
    "                'expiration_month',\n",
    "\n",
    "                # Songs extra\n",
    "                'song_registration_year',\n",
    "                'song_country_code',\n",
    "                'song_registration_organisation',\n",
    "]\n",
    "\n",
    "to_drop = [\n",
    "           'song_id', \n",
    "           'target',\n",
    "    \n",
    "           # Dates -- если их оставить то они будут личить в test.\n",
    "           'expiration_day',\n",
    "           'registration_day',\n",
    "]\n",
    "\n",
    "to_int = {\n",
    "    'language'               : np.uint8,\n",
    "    'song_registration_year' : np.uint32\n",
    "}\n",
    "\n",
    "train.isnull().sum()"
   ]
  },
  {
   "cell_type": "markdown",
   "metadata": {
    "id": "fI4yV1-oDbP2"
   },
   "source": [
    "Функция заполняющая пропуски наиболее популярным элементом из рассматриваемой категории"
   ]
  },
  {
   "cell_type": "code",
   "execution_count": 165,
   "metadata": {
    "id": "seNCeTUK_Qpp"
   },
   "outputs": [],
   "source": [
    "def fill_na(frame, name, value):\n",
    "    \"\"\"\n",
    "    Fills columns in frame with specified value.\n",
    "    \"\"\"\n",
    "    if name in frame.columns:\n",
    "        frame.loc[:, name] = frame[name].fillna(value)\n",
    "    else:\n",
    "        warn_on_name(name)\n",
    "\n",
    "\n",
    "def fill_na_(frame):\n",
    "    \"\"\"\n",
    "    Fills NA with all known column mean values\n",
    "    \"\"\"\n",
    "    # Songs\n",
    "    fill_na(frame, 'artist_name', most_popular_artist)\n",
    "    fill_na(frame, 'song_length', mean_song_length)\n",
    "    fill_na(frame, 'genre_ids', most_popular_genre)\n",
    "    fill_na(frame, 'language', most_popular_language)\n",
    "    fill_na(frame, 'song_registration_year', most_common_year)\n",
    "    fill_na(frame, 'song_country_code',  most_common_country_code)\n",
    "    fill_na(frame, 'song_registration_organisation', most_common_reg_code)\n",
    "\n",
    "    # Sources\n",
    "    fill_na(frame, 'source_type', most_popular_source_type)\n",
    "    fill_na(frame, 'source_system_tab', most_popular_system_tab)\n",
    "    fill_na(frame, 'source_screen_name', most_popular_source_screen)\n",
    "    "
   ]
  },
  {
   "cell_type": "code",
   "execution_count": 166,
   "metadata": {},
   "outputs": [],
   "source": [
    "def add_biases(dataset):\n",
    "    artists = dataset['artist_name']\n",
    "    genres  = dataset['genre_ids']\n",
    "    users   = dataset['user_id']\n",
    "\n",
    "    def user_to_item(items, name):\n",
    "        dataset['user_item'] = users.astype(str) + items.astype(str)\n",
    "        item_counts   = dataset['user_item'].value_counts()\n",
    "        dataset[name] = dataset['user_item'].apply(lambda item: item_counts[item])\n",
    "        dataset.drop(['user_item'], axis=1, inplace=True)\n",
    "        \n",
    "    artist_name_counts      = artists.value_counts()\n",
    "    dataset['artist_count'] = artists.apply(lambda a: artist_name_counts[a])\n",
    "    user_to_item(genres,  'user_genres_counter')\n",
    "    user_to_item(artists, 'user_artists_counter')     "
   ]
  },
  {
   "cell_type": "markdown",
   "metadata": {
    "id": "cFwW8cixDOhx"
   },
   "source": [
    "Функция позволяющий обрабатывать датасет либо выбрасывая все нулы, либо заполняя их средними значениями:"
   ]
  },
  {
   "cell_type": "code",
   "execution_count": 167,
   "metadata": {
    "id": "Pr140wTYBPsL"
   },
   "outputs": [],
   "source": [
    "def process_dataset(dataset, drop_na=False, to_drop=to_drop):\n",
    "    print('start processing...')\n",
    "    X_, y_ = None, None\n",
    "    if drop_na:\n",
    "        X_ = dataset.dropna()\n",
    "        y_ = X_.target\n",
    "    else:\n",
    "        X_ = copy(dataset)\n",
    "        y_ = X_.target\n",
    "        fill_na_(X_)\n",
    "      \n",
    "    for name, dtype in to_int.items():\n",
    "        X_.loc[:, name] = X_[name].astype(dtype)\n",
    "     \n",
    "    print('categorizing...')\n",
    "    to_category(X_, cat_features)\n",
    "    \n",
    "    print('adding biases...')\n",
    "    add_biases(X_)\n",
    "    \n",
    "    print('finished')\n",
    "    \n",
    "    return X_.drop(to_drop, axis=1), y_"
   ]
  },
  {
   "cell_type": "markdown",
   "metadata": {
    "id": "4vnayVHnjYRS"
   },
   "source": [
    "Опишем нашу CatBoost модель:\n",
    "так как у нас задача предсказания 0 / 1 то будет учить LogLoss."
   ]
  },
  {
   "cell_type": "code",
   "execution_count": 141,
   "metadata": {
    "id": "pK3Pa25ErJJF"
   },
   "outputs": [],
   "source": [
    "def get_model(iterations=300):\n",
    "    \"\"\"\n",
    "    Creates custom CatBoost model.\n",
    "    \n",
    "    Documentation for hyperpararms: https://catboost.ai/docs/concepts/speed-up-training.html\n",
    "    \"\"\"\n",
    "    params = {\n",
    "      'loss_function'              : 'Logloss',\n",
    "      'custom_metric'              : 'AUC',\n",
    "      'train_dir'                  : 'train_log',\n",
    "      'max_ctr_complexity'         : 1, \n",
    "      'leaf_estimation_iterations' : 1,\n",
    "      'learning_rate'              : 0.1,\n",
    "      'iterations'                 : iterations    \n",
    "    }\n",
    "    return CatBoost(params=params)"
   ]
  },
  {
   "cell_type": "code",
   "execution_count": 142,
   "metadata": {},
   "outputs": [],
   "source": [
    "def drop_user_id(X):\n",
    "    return X.drop(['user_id'], axis=1)\n",
    "\n",
    "def split_users(X, y, k):\n",
    "    X['is_test'] = X['user_id'].apply(lambda x: hash(x) % 1000 < 1000 // k)\n",
    "     \n",
    "    test_mask  = X['is_test'] == True\n",
    "    train_mask = X['is_test'] == False\n",
    "    X.drop(['is_test'], axis=1, inplace=True)\n",
    "    \n",
    "    return drop_user_id(X[train_mask]), y[train_mask], drop_user_id(X[test_mask]), y[test_mask]"
   ]
  },
  {
   "cell_type": "code",
   "execution_count": 143,
   "metadata": {
    "id": "zC4Pz3qorJJG"
   },
   "outputs": [],
   "source": [
    "def k_fold_train(X, y, iterations=300, k=5):\n",
    "    \"\"\"\n",
    "    returns: (aucs, models)\n",
    "    \"\"\"\n",
    "    aucs, models = [], []    \n",
    "    \n",
    "    for i in range(k):\n",
    "        print('Fold {} / {}'.format(i + 1, k))\n",
    "        model = get_model(iterations=iterations)\n",
    "        \n",
    "        X_train, y_train, X__test, y__test = split_users(X, y, k)\n",
    "        \n",
    "        X__test, X_eval, y__test, y_eval = train_test_split(X__test, \n",
    "                                                            y__test, \n",
    "                                                            test_size=0.1,\n",
    "                                                            shuffle=True)\n",
    "        \n",
    "        log_freq = iterations // 20 if iterations > 20 else 3\n",
    "        \n",
    "        model.fit(X_train, \n",
    "                  y_train,\n",
    "                  cat_features=cat_features,\n",
    "                  eval_set=(X_eval, y_eval),\n",
    "                  metric_period=log_freq,\n",
    "                  use_best_model=True,\n",
    "                  verbose=True\n",
    "                 )\n",
    "        \n",
    "        models.append(model)\n",
    "    \n",
    "        predicted = model.predict(X__test)\n",
    "        auc = roc_auc_score(y__test, predicted)\n",
    "        \n",
    "        aucs.append(auc)\n",
    "        print(\"AUC: {:07f}{}\".format(auc, curve_sep))\n",
    "        \n",
    "    return aucs, models   "
   ]
  },
  {
   "cell_type": "code",
   "execution_count": 144,
   "metadata": {
    "id": "ZD1XHzQurJJG",
    "scrolled": true
   },
   "outputs": [],
   "source": [
    "def train_random_sample(X, y, train_size, iterations=300, k=5):\n",
    "    \"\"\"\n",
    "    returns: (aucs, models), x_test, y_test\n",
    "    \"\"\"\n",
    "    X_train, X_test, y_train, y_test = train_test_split(X, \n",
    "                                                        y, \n",
    "                                                        shuffle=True, \n",
    "                                                        train_size=train_size)\n",
    "    \n",
    "    return k_fold_train(X_train, y_train, iterations=iterations, k=k), Xtest, y_test"
   ]
  },
  {
   "cell_type": "code",
   "execution_count": 145,
   "metadata": {},
   "outputs": [],
   "source": [
    "def train_ensemble(X, y, train_size, k=10, iterations=300):\n",
    "    models = []\n",
    "    for i in range(k):\n",
    "        print('Model {} / {}'.format(i + 1, k))\n",
    "        X_train, _, y_train, _ = train_test_split(X, y, shuffle=True, train_size=train_size)\n",
    "        \n",
    "        model = get_model(iterations)\n",
    "        model.fit(X_train, y_train, cat_features=cat_features, verbose=True, metric_period=iterations // 10)\n",
    "        models.append(model)\n",
    "        \n",
    "    return models    "
   ]
  },
  {
   "cell_type": "markdown",
   "metadata": {},
   "source": [
    "**Shap values**"
   ]
  },
  {
   "cell_type": "code",
   "execution_count": 146,
   "metadata": {},
   "outputs": [],
   "source": [
    "def explain_shap_values(X, y, model):\n",
    "    _, X_test, _, _ = train_test_split(drop_user_id(X), y, test_size=0.2, shuffle=True)\n",
    "    shap_values = shap.TreeExplainer(model).shap_values(X_test)\n",
    "    shap.summary_plot(shap_values, X_test, max_display=X_test.shape[1])"
   ]
  },
  {
   "cell_type": "markdown",
   "metadata": {
    "id": "wHchI-xM9EF1"
   },
   "source": [
    "**Протестируем нашу модель на двух датасетах, в одном все NA строки будут выкинуты, в другом заполнены либо средними либо наиболее повторяющимися значениями.**\n",
    "\n",
    "Сначала протестируем на датасете в которым выкинуты все NA-value строки."
   ]
  },
  {
   "cell_type": "code",
   "execution_count": 147,
   "metadata": {},
   "outputs": [
    {
     "name": "stdout",
     "output_type": "stream",
     "text": [
      "start processing...\n"
     ]
    },
    {
     "name": "stderr",
     "output_type": "stream",
     "text": [
      "\n",
      "A value is trying to be set on a copy of a slice from a DataFrame.\n",
      "Try using .loc[row_indexer,col_indexer] = value instead\n",
      "\n",
      "See the caveats in the documentation: https://pandas.pydata.org/pandas-docs/stable/user_guide/indexing.html#returning-a-view-versus-a-copy\n"
     ]
    },
    {
     "name": "stdout",
     "output_type": "stream",
     "text": [
      "categorizing...\n",
      "adding biases...\n"
     ]
    },
    {
     "name": "stderr",
     "output_type": "stream",
     "text": [
      "\n",
      "A value is trying to be set on a copy of a slice from a DataFrame.\n",
      "Try using .loc[row_indexer,col_indexer] = value instead\n",
      "\n",
      "See the caveats in the documentation: https://pandas.pydata.org/pandas-docs/stable/user_guide/indexing.html#returning-a-view-versus-a-copy\n",
      "\n",
      "A value is trying to be set on a copy of a slice from a DataFrame.\n",
      "Try using .loc[row_indexer,col_indexer] = value instead\n",
      "\n",
      "See the caveats in the documentation: https://pandas.pydata.org/pandas-docs/stable/user_guide/indexing.html#returning-a-view-versus-a-copy\n",
      "\n",
      "A value is trying to be set on a copy of a slice from a DataFrame.\n",
      "Try using .loc[row_indexer,col_indexer] = value instead\n",
      "\n",
      "See the caveats in the documentation: https://pandas.pydata.org/pandas-docs/stable/user_guide/indexing.html#returning-a-view-versus-a-copy\n",
      "\n",
      "A value is trying to be set on a copy of a slice from a DataFrame\n",
      "\n",
      "See the caveats in the documentation: https://pandas.pydata.org/pandas-docs/stable/user_guide/indexing.html#returning-a-view-versus-a-copy\n"
     ]
    },
    {
     "name": "stdout",
     "output_type": "stream",
     "text": [
      "finished\n",
      "CPU times: user 1min 33s, sys: 25.9 s, total: 1min 59s\n",
      "Wall time: 2min 11s\n"
     ]
    },
    {
     "data": {
      "text/plain": [
       "(6949045, 23)"
      ]
     },
     "execution_count": 147,
     "metadata": {},
     "output_type": "execute_result"
    }
   ],
   "source": [
    "%%time\n",
    "X_droped_na, y_droped_na = process_dataset(train, drop_na=True)\n",
    "\n",
    "X_droped_na.shape"
   ]
  },
  {
   "cell_type": "code",
   "execution_count": 148,
   "metadata": {},
   "outputs": [
    {
     "data": {
      "text/html": [
       "<div>\n",
       "<style scoped>\n",
       "    .dataframe tbody tr th:only-of-type {\n",
       "        vertical-align: middle;\n",
       "    }\n",
       "\n",
       "    .dataframe tbody tr th {\n",
       "        vertical-align: top;\n",
       "    }\n",
       "\n",
       "    .dataframe thead th {\n",
       "        text-align: right;\n",
       "    }\n",
       "</style>\n",
       "<table border=\"1\" class=\"dataframe\">\n",
       "  <thead>\n",
       "    <tr style=\"text-align: right;\">\n",
       "      <th></th>\n",
       "      <th>user_id</th>\n",
       "      <th>source_system_tab</th>\n",
       "      <th>source_screen_name</th>\n",
       "      <th>source_type</th>\n",
       "      <th>city</th>\n",
       "      <th>bd</th>\n",
       "      <th>registration_year</th>\n",
       "      <th>registration_month</th>\n",
       "      <th>expiration_year</th>\n",
       "      <th>expiration_month</th>\n",
       "      <th>...</th>\n",
       "      <th>song_length</th>\n",
       "      <th>genre_ids</th>\n",
       "      <th>artist_name</th>\n",
       "      <th>language</th>\n",
       "      <th>song_registration_year</th>\n",
       "      <th>song_country_code</th>\n",
       "      <th>song_registration_organisation</th>\n",
       "      <th>artist_count</th>\n",
       "      <th>user_genres_counter</th>\n",
       "      <th>user_artists_counter</th>\n",
       "    </tr>\n",
       "  </thead>\n",
       "  <tbody>\n",
       "    <tr>\n",
       "      <th>0</th>\n",
       "      <td>FGtllVqz18RPiwJj/edr2gV78zirAiY/9SmYvia+kCg=</td>\n",
       "      <td>explore</td>\n",
       "      <td>Explore</td>\n",
       "      <td>online-playlist</td>\n",
       "      <td>1</td>\n",
       "      <td>0</td>\n",
       "      <td>2012</td>\n",
       "      <td>1</td>\n",
       "      <td>2017</td>\n",
       "      <td>10</td>\n",
       "      <td>...</td>\n",
       "      <td>206471.0</td>\n",
       "      <td>359</td>\n",
       "      <td>Bastille</td>\n",
       "      <td>54</td>\n",
       "      <td>2016</td>\n",
       "      <td>GB</td>\n",
       "      <td>02854</td>\n",
       "      <td>1079</td>\n",
       "      <td>162</td>\n",
       "      <td>3</td>\n",
       "    </tr>\n",
       "    <tr>\n",
       "      <th>1</th>\n",
       "      <td>Xumu+NIjS6QYVxDS4/t3SawvJ7viT9hPKXmf0RtLNx8=</td>\n",
       "      <td>my library</td>\n",
       "      <td>Local playlist more</td>\n",
       "      <td>local-playlist</td>\n",
       "      <td>13</td>\n",
       "      <td>24</td>\n",
       "      <td>2011</td>\n",
       "      <td>5</td>\n",
       "      <td>2017</td>\n",
       "      <td>9</td>\n",
       "      <td>...</td>\n",
       "      <td>284584.0</td>\n",
       "      <td>1259</td>\n",
       "      <td>Various Artists</td>\n",
       "      <td>54</td>\n",
       "      <td>1999</td>\n",
       "      <td>US</td>\n",
       "      <td>10183</td>\n",
       "      <td>292987</td>\n",
       "      <td>47</td>\n",
       "      <td>24</td>\n",
       "    </tr>\n",
       "    <tr>\n",
       "      <th>2</th>\n",
       "      <td>Xumu+NIjS6QYVxDS4/t3SawvJ7viT9hPKXmf0RtLNx8=</td>\n",
       "      <td>my library</td>\n",
       "      <td>Local playlist more</td>\n",
       "      <td>local-playlist</td>\n",
       "      <td>13</td>\n",
       "      <td>24</td>\n",
       "      <td>2011</td>\n",
       "      <td>5</td>\n",
       "      <td>2017</td>\n",
       "      <td>9</td>\n",
       "      <td>...</td>\n",
       "      <td>225396.0</td>\n",
       "      <td>1259</td>\n",
       "      <td>Nas</td>\n",
       "      <td>54</td>\n",
       "      <td>2006</td>\n",
       "      <td>US</td>\n",
       "      <td>18761</td>\n",
       "      <td>276</td>\n",
       "      <td>47</td>\n",
       "      <td>2</td>\n",
       "    </tr>\n",
       "    <tr>\n",
       "      <th>3</th>\n",
       "      <td>Xumu+NIjS6QYVxDS4/t3SawvJ7viT9hPKXmf0RtLNx8=</td>\n",
       "      <td>my library</td>\n",
       "      <td>Local playlist more</td>\n",
       "      <td>local-playlist</td>\n",
       "      <td>13</td>\n",
       "      <td>24</td>\n",
       "      <td>2011</td>\n",
       "      <td>5</td>\n",
       "      <td>2017</td>\n",
       "      <td>9</td>\n",
       "      <td>...</td>\n",
       "      <td>255512.0</td>\n",
       "      <td>1019</td>\n",
       "      <td>Soundway</td>\n",
       "      <td>1</td>\n",
       "      <td>2010</td>\n",
       "      <td>GB</td>\n",
       "      <td>00063</td>\n",
       "      <td>1</td>\n",
       "      <td>1</td>\n",
       "      <td>1</td>\n",
       "    </tr>\n",
       "    <tr>\n",
       "      <th>4</th>\n",
       "      <td>FGtllVqz18RPiwJj/edr2gV78zirAiY/9SmYvia+kCg=</td>\n",
       "      <td>explore</td>\n",
       "      <td>Explore</td>\n",
       "      <td>online-playlist</td>\n",
       "      <td>1</td>\n",
       "      <td>0</td>\n",
       "      <td>2012</td>\n",
       "      <td>1</td>\n",
       "      <td>2017</td>\n",
       "      <td>10</td>\n",
       "      <td>...</td>\n",
       "      <td>187802.0</td>\n",
       "      <td>1011</td>\n",
       "      <td>Brett Young</td>\n",
       "      <td>54</td>\n",
       "      <td>2016</td>\n",
       "      <td>QM</td>\n",
       "      <td>06003</td>\n",
       "      <td>415</td>\n",
       "      <td>38</td>\n",
       "      <td>1</td>\n",
       "    </tr>\n",
       "  </tbody>\n",
       "</table>\n",
       "<p>5 rows × 23 columns</p>\n",
       "</div>"
      ],
      "text/plain": [
       "                                        user_id source_system_tab  \\\n",
       "0  FGtllVqz18RPiwJj/edr2gV78zirAiY/9SmYvia+kCg=           explore   \n",
       "1  Xumu+NIjS6QYVxDS4/t3SawvJ7viT9hPKXmf0RtLNx8=        my library   \n",
       "2  Xumu+NIjS6QYVxDS4/t3SawvJ7viT9hPKXmf0RtLNx8=        my library   \n",
       "3  Xumu+NIjS6QYVxDS4/t3SawvJ7viT9hPKXmf0RtLNx8=        my library   \n",
       "4  FGtllVqz18RPiwJj/edr2gV78zirAiY/9SmYvia+kCg=           explore   \n",
       "\n",
       "    source_screen_name      source_type city  bd registration_year  \\\n",
       "0              Explore  online-playlist    1   0              2012   \n",
       "1  Local playlist more   local-playlist   13  24              2011   \n",
       "2  Local playlist more   local-playlist   13  24              2011   \n",
       "3  Local playlist more   local-playlist   13  24              2011   \n",
       "4              Explore  online-playlist    1   0              2012   \n",
       "\n",
       "  registration_month expiration_year expiration_month  ...  song_length  \\\n",
       "0                  1            2017               10  ...     206471.0   \n",
       "1                  5            2017                9  ...     284584.0   \n",
       "2                  5            2017                9  ...     225396.0   \n",
       "3                  5            2017                9  ...     255512.0   \n",
       "4                  1            2017               10  ...     187802.0   \n",
       "\n",
       "  genre_ids      artist_name  language song_registration_year  \\\n",
       "0       359         Bastille        54                   2016   \n",
       "1      1259  Various Artists        54                   1999   \n",
       "2      1259              Nas        54                   2006   \n",
       "3      1019         Soundway         1                   2010   \n",
       "4      1011      Brett Young        54                   2016   \n",
       "\n",
       "  song_country_code song_registration_organisation artist_count  \\\n",
       "0                GB                          02854         1079   \n",
       "1                US                          10183       292987   \n",
       "2                US                          18761          276   \n",
       "3                GB                          00063            1   \n",
       "4                QM                          06003          415   \n",
       "\n",
       "  user_genres_counter user_artists_counter  \n",
       "0                 162                    3  \n",
       "1                  47                   24  \n",
       "2                  47                    2  \n",
       "3                   1                    1  \n",
       "4                  38                    1  \n",
       "\n",
       "[5 rows x 23 columns]"
      ]
     },
     "execution_count": 148,
     "metadata": {},
     "output_type": "execute_result"
    }
   ],
   "source": [
    "X_droped_na.head()"
   ]
  },
  {
   "cell_type": "code",
   "execution_count": 149,
   "metadata": {
    "colab": {
     "base_uri": "https://localhost:8080/"
    },
    "id": "ChLLPn-5aZ2P",
    "outputId": "ade46fa5-8a6a-45ce-b27d-972d77fe77c6"
   },
   "outputs": [
    {
     "name": "stdout",
     "output_type": "stream",
     "text": [
      "Fold 1 / 5\n",
      "0:\tlearn: 0.6844437\ttest: 0.6843843\tbest: 0.6843843 (0)\ttotal: 3.92s\tremaining: 26m 6s\n",
      "20:\tlearn: 0.6357822\ttest: 0.6355994\tbest: 0.6355994 (20)\ttotal: 42s\tremaining: 12m 38s\n",
      "40:\tlearn: 0.6284037\ttest: 0.6288735\tbest: 0.6288735 (40)\ttotal: 1m 16s\tremaining: 11m 11s\n",
      "60:\tlearn: 0.6253123\ttest: 0.6264609\tbest: 0.6264609 (60)\ttotal: 1m 50s\tremaining: 10m 14s\n",
      "80:\tlearn: 0.6233355\ttest: 0.6250548\tbest: 0.6250548 (80)\ttotal: 2m 25s\tremaining: 9m 31s\n",
      "100:\tlearn: 0.6219917\ttest: 0.6241548\tbest: 0.6241548 (100)\ttotal: 2m 58s\tremaining: 8m 49s\n",
      "120:\tlearn: 0.6206936\ttest: 0.6231222\tbest: 0.6231222 (120)\ttotal: 3m 35s\tremaining: 8m 16s\n",
      "140:\tlearn: 0.6197782\ttest: 0.6225117\tbest: 0.6225117 (140)\ttotal: 4m 9s\tremaining: 7m 37s\n",
      "160:\tlearn: 0.6188510\ttest: 0.6220980\tbest: 0.6220980 (160)\ttotal: 4m 43s\tremaining: 7m 1s\n",
      "180:\tlearn: 0.6180629\ttest: 0.6217011\tbest: 0.6217011 (180)\ttotal: 5m 17s\tremaining: 6m 24s\n",
      "200:\tlearn: 0.6172657\ttest: 0.6213681\tbest: 0.6213681 (200)\ttotal: 5m 51s\tremaining: 5m 47s\n",
      "220:\tlearn: 0.6165232\ttest: 0.6210922\tbest: 0.6210922 (220)\ttotal: 6m 25s\tremaining: 5m 11s\n",
      "240:\tlearn: 0.6159549\ttest: 0.6208121\tbest: 0.6208121 (240)\ttotal: 6m 58s\tremaining: 4m 36s\n",
      "260:\tlearn: 0.6154247\ttest: 0.6205974\tbest: 0.6205974 (260)\ttotal: 7m 34s\tremaining: 4m 2s\n",
      "280:\tlearn: 0.6148963\ttest: 0.6204812\tbest: 0.6204812 (280)\ttotal: 8m 9s\tremaining: 3m 27s\n",
      "300:\tlearn: 0.6143330\ttest: 0.6202784\tbest: 0.6202784 (300)\ttotal: 8m 42s\tremaining: 2m 51s\n",
      "320:\tlearn: 0.6137865\ttest: 0.6200221\tbest: 0.6200221 (320)\ttotal: 9m 16s\tremaining: 2m 17s\n",
      "340:\tlearn: 0.6133583\ttest: 0.6199491\tbest: 0.6199491 (340)\ttotal: 9m 50s\tremaining: 1m 42s\n",
      "360:\tlearn: 0.6128676\ttest: 0.6197565\tbest: 0.6197565 (360)\ttotal: 10m 24s\tremaining: 1m 7s\n",
      "380:\tlearn: 0.6124660\ttest: 0.6195335\tbest: 0.6195335 (380)\ttotal: 10m 58s\tremaining: 32.8s\n",
      "399:\tlearn: 0.6120062\ttest: 0.6194744\tbest: 0.6194744 (399)\ttotal: 11m 30s\tremaining: 0us\n",
      "\n",
      "bestTest = 0.6194743693\n",
      "bestIteration = 399\n",
      "\n",
      "AUC: 0.712097\n",
      "~~~~~~~~~~~~~~~~~~~~~~~~~~~~~~~~\n",
      "\n",
      "Fold 2 / 5\n",
      "0:\tlearn: 0.6844437\ttest: 0.6844140\tbest: 0.6844140 (0)\ttotal: 5.02s\tremaining: 33m 21s\n",
      "20:\tlearn: 0.6357822\ttest: 0.6364118\tbest: 0.6364118 (20)\ttotal: 43.4s\tremaining: 13m 3s\n",
      "40:\tlearn: 0.6284037\ttest: 0.6298688\tbest: 0.6298688 (40)\ttotal: 1m 17s\tremaining: 11m 19s\n",
      "60:\tlearn: 0.6253123\ttest: 0.6275635\tbest: 0.6275635 (60)\ttotal: 1m 51s\tremaining: 10m 21s\n",
      "80:\tlearn: 0.6233355\ttest: 0.6262392\tbest: 0.6262392 (80)\ttotal: 2m 26s\tremaining: 9m 36s\n",
      "100:\tlearn: 0.6219917\ttest: 0.6253566\tbest: 0.6253566 (100)\ttotal: 3m\tremaining: 8m 53s\n",
      "120:\tlearn: 0.6206936\ttest: 0.6243848\tbest: 0.6243848 (120)\ttotal: 3m 34s\tremaining: 8m 13s\n",
      "140:\tlearn: 0.6197782\ttest: 0.6237733\tbest: 0.6237733 (140)\ttotal: 4m 7s\tremaining: 7m 35s\n",
      "160:\tlearn: 0.6188510\ttest: 0.6233656\tbest: 0.6233656 (160)\ttotal: 4m 41s\tremaining: 6m 57s\n",
      "180:\tlearn: 0.6180629\ttest: 0.6229774\tbest: 0.6229774 (180)\ttotal: 5m 15s\tremaining: 6m 22s\n",
      "200:\tlearn: 0.6172657\ttest: 0.6226501\tbest: 0.6226501 (200)\ttotal: 5m 49s\tremaining: 5m 46s\n",
      "220:\tlearn: 0.6165232\ttest: 0.6224103\tbest: 0.6224103 (220)\ttotal: 6m 23s\tremaining: 5m 10s\n",
      "240:\tlearn: 0.6159549\ttest: 0.6221997\tbest: 0.6221997 (240)\ttotal: 6m 57s\tremaining: 4m 35s\n",
      "260:\tlearn: 0.6154247\ttest: 0.6220178\tbest: 0.6220178 (260)\ttotal: 7m 31s\tremaining: 4m\n",
      "280:\tlearn: 0.6148963\ttest: 0.6219343\tbest: 0.6219343 (280)\ttotal: 8m 4s\tremaining: 3m 25s\n",
      "300:\tlearn: 0.6143330\ttest: 0.6217549\tbest: 0.6217549 (300)\ttotal: 8m 38s\tremaining: 2m 50s\n",
      "320:\tlearn: 0.6137865\ttest: 0.6215057\tbest: 0.6215057 (320)\ttotal: 9m 12s\tremaining: 2m 16s\n",
      "340:\tlearn: 0.6133583\ttest: 0.6214544\tbest: 0.6214544 (340)\ttotal: 9m 46s\tremaining: 1m 41s\n",
      "360:\tlearn: 0.6128676\ttest: 0.6212760\tbest: 0.6212760 (360)\ttotal: 10m 20s\tremaining: 1m 7s\n",
      "380:\tlearn: 0.6124660\ttest: 0.6210654\tbest: 0.6210654 (380)\ttotal: 10m 55s\tremaining: 32.7s\n",
      "399:\tlearn: 0.6120062\ttest: 0.6209572\tbest: 0.6209572 (399)\ttotal: 11m 27s\tremaining: 0us\n",
      "\n",
      "bestTest = 0.6209572394\n",
      "bestIteration = 399\n",
      "\n",
      "AUC: 0.712296\n",
      "~~~~~~~~~~~~~~~~~~~~~~~~~~~~~~~~\n",
      "\n",
      "Fold 3 / 5\n",
      "0:\tlearn: 0.6844437\ttest: 0.6844322\tbest: 0.6844322 (0)\ttotal: 5.39s\tremaining: 35m 50s\n",
      "20:\tlearn: 0.6357822\ttest: 0.6362472\tbest: 0.6362472 (20)\ttotal: 43.5s\tremaining: 13m 5s\n",
      "40:\tlearn: 0.6284037\ttest: 0.6290139\tbest: 0.6290139 (40)\ttotal: 1m 17s\tremaining: 11m 22s\n",
      "60:\tlearn: 0.6253123\ttest: 0.6265101\tbest: 0.6265101 (60)\ttotal: 1m 52s\tremaining: 10m 23s\n",
      "80:\tlearn: 0.6233355\ttest: 0.6250560\tbest: 0.6250560 (80)\ttotal: 2m 26s\tremaining: 9m 35s\n",
      "100:\tlearn: 0.6219917\ttest: 0.6240813\tbest: 0.6240813 (100)\ttotal: 2m 59s\tremaining: 8m 52s\n",
      "120:\tlearn: 0.6206936\ttest: 0.6231281\tbest: 0.6231281 (120)\ttotal: 3m 34s\tremaining: 8m 14s\n",
      "140:\tlearn: 0.6197782\ttest: 0.6225262\tbest: 0.6225262 (140)\ttotal: 4m 8s\tremaining: 7m 35s\n",
      "160:\tlearn: 0.6188510\ttest: 0.6220721\tbest: 0.6220721 (160)\ttotal: 4m 41s\tremaining: 6m 58s\n",
      "180:\tlearn: 0.6180629\ttest: 0.6216761\tbest: 0.6216761 (180)\ttotal: 5m 16s\tremaining: 6m 22s\n",
      "200:\tlearn: 0.6172657\ttest: 0.6213191\tbest: 0.6213191 (200)\ttotal: 5m 49s\tremaining: 5m 46s\n",
      "220:\tlearn: 0.6165232\ttest: 0.6210555\tbest: 0.6210555 (220)\ttotal: 6m 23s\tremaining: 5m 10s\n",
      "240:\tlearn: 0.6159549\ttest: 0.6208040\tbest: 0.6208040 (240)\ttotal: 6m 57s\tremaining: 4m 35s\n",
      "260:\tlearn: 0.6154247\ttest: 0.6206083\tbest: 0.6206083 (260)\ttotal: 7m 31s\tremaining: 4m\n",
      "280:\tlearn: 0.6148963\ttest: 0.6205150\tbest: 0.6205150 (280)\ttotal: 8m 5s\tremaining: 3m 25s\n",
      "300:\tlearn: 0.6143330\ttest: 0.6203010\tbest: 0.6203010 (300)\ttotal: 8m 39s\tremaining: 2m 50s\n",
      "320:\tlearn: 0.6137865\ttest: 0.6200226\tbest: 0.6200226 (320)\ttotal: 9m 13s\tremaining: 2m 16s\n",
      "340:\tlearn: 0.6133583\ttest: 0.6199649\tbest: 0.6199649 (340)\ttotal: 9m 46s\tremaining: 1m 41s\n",
      "360:\tlearn: 0.6128676\ttest: 0.6198024\tbest: 0.6198024 (360)\ttotal: 10m 20s\tremaining: 1m 7s\n",
      "380:\tlearn: 0.6124660\ttest: 0.6195980\tbest: 0.6195980 (380)\ttotal: 10m 54s\tremaining: 32.6s\n",
      "399:\tlearn: 0.6120062\ttest: 0.6194794\tbest: 0.6194794 (399)\ttotal: 11m 26s\tremaining: 0us\n",
      "\n",
      "bestTest = 0.619479381\n",
      "bestIteration = 399\n",
      "\n",
      "AUC: 0.712095\n",
      "~~~~~~~~~~~~~~~~~~~~~~~~~~~~~~~~\n",
      "\n",
      "Fold 4 / 5\n",
      "0:\tlearn: 0.6844437\ttest: 0.6844238\tbest: 0.6844238 (0)\ttotal: 5.98s\tremaining: 39m 46s\n",
      "20:\tlearn: 0.6357822\ttest: 0.6365493\tbest: 0.6365493 (20)\ttotal: 44.4s\tremaining: 13m 21s\n",
      "40:\tlearn: 0.6284037\ttest: 0.6299788\tbest: 0.6299788 (40)\ttotal: 1m 19s\tremaining: 11m 32s\n",
      "60:\tlearn: 0.6253123\ttest: 0.6276297\tbest: 0.6276297 (60)\ttotal: 1m 54s\tremaining: 10m 34s\n",
      "80:\tlearn: 0.6233355\ttest: 0.6262372\tbest: 0.6262372 (80)\ttotal: 2m 28s\tremaining: 9m 44s\n",
      "100:\tlearn: 0.6219917\ttest: 0.6253568\tbest: 0.6253568 (100)\ttotal: 3m 2s\tremaining: 8m 59s\n",
      "120:\tlearn: 0.6206936\ttest: 0.6243857\tbest: 0.6243857 (120)\ttotal: 3m 36s\tremaining: 8m 20s\n",
      "140:\tlearn: 0.6197782\ttest: 0.6237812\tbest: 0.6237812 (140)\ttotal: 4m 10s\tremaining: 7m 40s\n",
      "160:\tlearn: 0.6188510\ttest: 0.6233379\tbest: 0.6233379 (160)\ttotal: 4m 44s\tremaining: 7m 1s\n",
      "180:\tlearn: 0.6180629\ttest: 0.6229603\tbest: 0.6229603 (180)\ttotal: 5m 18s\tremaining: 6m 24s\n",
      "200:\tlearn: 0.6172657\ttest: 0.6226573\tbest: 0.6226573 (200)\ttotal: 5m 51s\tremaining: 5m 48s\n",
      "220:\tlearn: 0.6165232\ttest: 0.6224080\tbest: 0.6224080 (220)\ttotal: 6m 25s\tremaining: 5m 12s\n",
      "240:\tlearn: 0.6159549\ttest: 0.6221743\tbest: 0.6221743 (240)\ttotal: 6m 59s\tremaining: 4m 36s\n",
      "260:\tlearn: 0.6154247\ttest: 0.6219526\tbest: 0.6219526 (260)\ttotal: 7m 33s\tremaining: 4m 1s\n",
      "280:\tlearn: 0.6148963\ttest: 0.6218549\tbest: 0.6218549 (280)\ttotal: 8m 7s\tremaining: 3m 26s\n",
      "300:\tlearn: 0.6143330\ttest: 0.6216328\tbest: 0.6216328 (300)\ttotal: 8m 41s\tremaining: 2m 51s\n",
      "320:\tlearn: 0.6137865\ttest: 0.6213857\tbest: 0.6213857 (320)\ttotal: 9m 14s\tremaining: 2m 16s\n",
      "340:\tlearn: 0.6133583\ttest: 0.6212951\tbest: 0.6212951 (340)\ttotal: 9m 48s\tremaining: 1m 41s\n",
      "360:\tlearn: 0.6128676\ttest: 0.6211325\tbest: 0.6211325 (360)\ttotal: 10m 22s\tremaining: 1m 7s\n",
      "380:\tlearn: 0.6124660\ttest: 0.6209184\tbest: 0.6209184 (380)\ttotal: 10m 56s\tremaining: 32.7s\n",
      "399:\tlearn: 0.6120062\ttest: 0.6208097\tbest: 0.6208097 (399)\ttotal: 11m 28s\tremaining: 0us\n",
      "\n",
      "bestTest = 0.6208096976\n",
      "bestIteration = 399\n",
      "\n",
      "AUC: 0.712292\n",
      "~~~~~~~~~~~~~~~~~~~~~~~~~~~~~~~~\n",
      "\n",
      "Fold 5 / 5\n",
      "0:\tlearn: 0.6844437\ttest: 0.6844531\tbest: 0.6844531 (0)\ttotal: 4.97s\tremaining: 33m 1s\n",
      "20:\tlearn: 0.6357822\ttest: 0.6365486\tbest: 0.6365486 (20)\ttotal: 42.4s\tremaining: 12m 44s\n"
     ]
    },
    {
     "name": "stdout",
     "output_type": "stream",
     "text": [
      "40:\tlearn: 0.6284037\ttest: 0.6298939\tbest: 0.6298939 (40)\ttotal: 1m 15s\tremaining: 11m 3s\n",
      "60:\tlearn: 0.6253123\ttest: 0.6275341\tbest: 0.6275341 (60)\ttotal: 1m 49s\tremaining: 10m 10s\n",
      "80:\tlearn: 0.6233355\ttest: 0.6261956\tbest: 0.6261956 (80)\ttotal: 2m 23s\tremaining: 9m 24s\n",
      "100:\tlearn: 0.6219917\ttest: 0.6253323\tbest: 0.6253323 (100)\ttotal: 2m 57s\tremaining: 8m 44s\n",
      "120:\tlearn: 0.6206936\ttest: 0.6243545\tbest: 0.6243545 (120)\ttotal: 3m 30s\tremaining: 8m 6s\n",
      "140:\tlearn: 0.6197782\ttest: 0.6237200\tbest: 0.6237200 (140)\ttotal: 4m 4s\tremaining: 7m 29s\n",
      "160:\tlearn: 0.6188510\ttest: 0.6232822\tbest: 0.6232822 (160)\ttotal: 4m 38s\tremaining: 6m 53s\n",
      "180:\tlearn: 0.6180629\ttest: 0.6228715\tbest: 0.6228715 (180)\ttotal: 5m 13s\tremaining: 6m 19s\n",
      "200:\tlearn: 0.6172657\ttest: 0.6225832\tbest: 0.6225832 (200)\ttotal: 5m 47s\tremaining: 5m 43s\n",
      "220:\tlearn: 0.6165232\ttest: 0.6223516\tbest: 0.6223516 (220)\ttotal: 6m 20s\tremaining: 5m 8s\n",
      "240:\tlearn: 0.6159549\ttest: 0.6221176\tbest: 0.6221176 (240)\ttotal: 6m 54s\tremaining: 4m 33s\n",
      "260:\tlearn: 0.6154247\ttest: 0.6218656\tbest: 0.6218656 (260)\ttotal: 7m 28s\tremaining: 3m 58s\n",
      "280:\tlearn: 0.6148963\ttest: 0.6217607\tbest: 0.6217607 (280)\ttotal: 8m 2s\tremaining: 3m 24s\n",
      "300:\tlearn: 0.6143330\ttest: 0.6215412\tbest: 0.6215412 (300)\ttotal: 8m 36s\tremaining: 2m 49s\n",
      "320:\tlearn: 0.6137865\ttest: 0.6212663\tbest: 0.6212663 (320)\ttotal: 9m 9s\tremaining: 2m 15s\n",
      "340:\tlearn: 0.6133583\ttest: 0.6211858\tbest: 0.6211858 (340)\ttotal: 9m 43s\tremaining: 1m 41s\n",
      "360:\tlearn: 0.6128676\ttest: 0.6210138\tbest: 0.6210138 (360)\ttotal: 10m 17s\tremaining: 1m 6s\n",
      "380:\tlearn: 0.6124660\ttest: 0.6208267\tbest: 0.6208267 (380)\ttotal: 10m 51s\tremaining: 32.5s\n",
      "399:\tlearn: 0.6120062\ttest: 0.6207368\tbest: 0.6207368 (399)\ttotal: 11m 23s\tremaining: 0us\n",
      "\n",
      "bestTest = 0.620736846\n",
      "bestIteration = 399\n",
      "\n",
      "AUC: 0.712247\n",
      "~~~~~~~~~~~~~~~~~~~~~~~~~~~~~~~~\n",
      "\n",
      "CPU times: user 3h 35min 36s, sys: 1min 53s, total: 3h 37min 30s\n",
      "Wall time: 59min 28s\n"
     ]
    }
   ],
   "source": [
    "%%time\n",
    "aucs, models = k_fold_train(X=X_droped_na, \n",
    "                            y=y_droped_na,\n",
    "                            iterations=400)"
   ]
  },
  {
   "cell_type": "code",
   "execution_count": 150,
   "metadata": {
    "id": "o0XMDv-O6Nle"
   },
   "outputs": [
    {
     "data": {
      "text/plain": [
       "[0.7120967477668338,\n",
       " 0.7122964981961148,\n",
       " 0.712094995595175,\n",
       " 0.7122918319391013,\n",
       " 0.7122466014621558]"
      ]
     },
     "execution_count": 150,
     "metadata": {},
     "output_type": "execute_result"
    }
   ],
   "source": [
    "aucs"
   ]
  },
  {
   "cell_type": "markdown",
   "metadata": {},
   "source": [
    "SHAP values explanation for droped NA dataset"
   ]
  },
  {
   "cell_type": "code",
   "execution_count": 151,
   "metadata": {},
   "outputs": [
    {
     "data": {
      "image/png": "[encoded data removed]",
      "text/plain": [
       "<Figure size 576x741.6 with 2 Axes>"
      ]
     },
     "metadata": {
      "needs_background": "light"
     },
     "output_type": "display_data"
    }
   ],
   "source": [
    "%%time\n",
    "explain_shap_values(X_droped_na, y_droped_na, models[0])"
   ]
  },
  {
   "cell_type": "markdown",
   "metadata": {},
   "source": [
    "**Натренируем модель на датасете в котором все NA-value были заменены на \"среднее по больнице\" (c) Евгений Малютин**"
   ]
  },
  {
   "cell_type": "code",
   "execution_count": 152,
   "metadata": {
    "scrolled": true
   },
   "outputs": [
    {
     "name": "stdout",
     "output_type": "stream",
     "text": [
      "CPU times: user 7min 58s, sys: 7.3 s, total: 8min 5s\n",
      "Wall time: 3min 45s\n",
      "start processing...\n",
      "categorizing...\n",
      "adding biases...\n",
      "finished\n",
      "CPU times: user 1min 36s, sys: 31.1 s, total: 2min 8s\n",
      "Wall time: 2min 21s\n"
     ]
    },
    {
     "data": {
      "text/plain": [
       "(7377147, 23)"
      ]
     },
     "execution_count": 152,
     "metadata": {},
     "output_type": "execute_result"
    }
   ],
   "source": [
    "%%time\n",
    "X_filled_na, y_filled_na = process_dataset(train, drop_na=False)\n",
    "X_filled_na.shape"
   ]
  },
  {
   "cell_type": "code",
   "execution_count": 153,
   "metadata": {
    "scrolled": true
   },
   "outputs": [
    {
     "data": {
      "text/html": [
       "<div>\n",
       "<style scoped>\n",
       "    .dataframe tbody tr th:only-of-type {\n",
       "        vertical-align: middle;\n",
       "    }\n",
       "\n",
       "    .dataframe tbody tr th {\n",
       "        vertical-align: top;\n",
       "    }\n",
       "\n",
       "    .dataframe thead th {\n",
       "        text-align: right;\n",
       "    }\n",
       "</style>\n",
       "<table border=\"1\" class=\"dataframe\">\n",
       "  <thead>\n",
       "    <tr style=\"text-align: right;\">\n",
       "      <th></th>\n",
       "      <th>user_id</th>\n",
       "      <th>source_system_tab</th>\n",
       "      <th>source_screen_name</th>\n",
       "      <th>source_type</th>\n",
       "      <th>city</th>\n",
       "      <th>bd</th>\n",
       "      <th>registration_year</th>\n",
       "      <th>registration_month</th>\n",
       "      <th>expiration_year</th>\n",
       "      <th>expiration_month</th>\n",
       "      <th>...</th>\n",
       "      <th>song_length</th>\n",
       "      <th>genre_ids</th>\n",
       "      <th>artist_name</th>\n",
       "      <th>language</th>\n",
       "      <th>song_registration_year</th>\n",
       "      <th>song_country_code</th>\n",
       "      <th>song_registration_organisation</th>\n",
       "      <th>artist_count</th>\n",
       "      <th>user_genres_counter</th>\n",
       "      <th>user_artists_counter</th>\n",
       "    </tr>\n",
       "  </thead>\n",
       "  <tbody>\n",
       "    <tr>\n",
       "      <th>0</th>\n",
       "      <td>FGtllVqz18RPiwJj/edr2gV78zirAiY/9SmYvia+kCg=</td>\n",
       "      <td>explore</td>\n",
       "      <td>Explore</td>\n",
       "      <td>online-playlist</td>\n",
       "      <td>1</td>\n",
       "      <td>0</td>\n",
       "      <td>2012</td>\n",
       "      <td>1</td>\n",
       "      <td>2017</td>\n",
       "      <td>10</td>\n",
       "      <td>...</td>\n",
       "      <td>206471.0</td>\n",
       "      <td>359</td>\n",
       "      <td>Bastille</td>\n",
       "      <td>54</td>\n",
       "      <td>2016</td>\n",
       "      <td>GB</td>\n",
       "      <td>02854</td>\n",
       "      <td>1140</td>\n",
       "      <td>166</td>\n",
       "      <td>3</td>\n",
       "    </tr>\n",
       "    <tr>\n",
       "      <th>1</th>\n",
       "      <td>Xumu+NIjS6QYVxDS4/t3SawvJ7viT9hPKXmf0RtLNx8=</td>\n",
       "      <td>my library</td>\n",
       "      <td>Local playlist more</td>\n",
       "      <td>local-playlist</td>\n",
       "      <td>13</td>\n",
       "      <td>24</td>\n",
       "      <td>2011</td>\n",
       "      <td>5</td>\n",
       "      <td>2017</td>\n",
       "      <td>9</td>\n",
       "      <td>...</td>\n",
       "      <td>284584.0</td>\n",
       "      <td>1259</td>\n",
       "      <td>Various Artists</td>\n",
       "      <td>54</td>\n",
       "      <td>1999</td>\n",
       "      <td>US</td>\n",
       "      <td>10183</td>\n",
       "      <td>303342</td>\n",
       "      <td>47</td>\n",
       "      <td>24</td>\n",
       "    </tr>\n",
       "    <tr>\n",
       "      <th>2</th>\n",
       "      <td>Xumu+NIjS6QYVxDS4/t3SawvJ7viT9hPKXmf0RtLNx8=</td>\n",
       "      <td>my library</td>\n",
       "      <td>Local playlist more</td>\n",
       "      <td>local-playlist</td>\n",
       "      <td>13</td>\n",
       "      <td>24</td>\n",
       "      <td>2011</td>\n",
       "      <td>5</td>\n",
       "      <td>2017</td>\n",
       "      <td>9</td>\n",
       "      <td>...</td>\n",
       "      <td>225396.0</td>\n",
       "      <td>1259</td>\n",
       "      <td>Nas</td>\n",
       "      <td>54</td>\n",
       "      <td>2006</td>\n",
       "      <td>US</td>\n",
       "      <td>18761</td>\n",
       "      <td>289</td>\n",
       "      <td>47</td>\n",
       "      <td>2</td>\n",
       "    </tr>\n",
       "    <tr>\n",
       "      <th>3</th>\n",
       "      <td>Xumu+NIjS6QYVxDS4/t3SawvJ7viT9hPKXmf0RtLNx8=</td>\n",
       "      <td>my library</td>\n",
       "      <td>Local playlist more</td>\n",
       "      <td>local-playlist</td>\n",
       "      <td>13</td>\n",
       "      <td>24</td>\n",
       "      <td>2011</td>\n",
       "      <td>5</td>\n",
       "      <td>2017</td>\n",
       "      <td>9</td>\n",
       "      <td>...</td>\n",
       "      <td>255512.0</td>\n",
       "      <td>1019</td>\n",
       "      <td>Soundway</td>\n",
       "      <td>1</td>\n",
       "      <td>2010</td>\n",
       "      <td>GB</td>\n",
       "      <td>00063</td>\n",
       "      <td>1</td>\n",
       "      <td>1</td>\n",
       "      <td>1</td>\n",
       "    </tr>\n",
       "    <tr>\n",
       "      <th>4</th>\n",
       "      <td>FGtllVqz18RPiwJj/edr2gV78zirAiY/9SmYvia+kCg=</td>\n",
       "      <td>explore</td>\n",
       "      <td>Explore</td>\n",
       "      <td>online-playlist</td>\n",
       "      <td>1</td>\n",
       "      <td>0</td>\n",
       "      <td>2012</td>\n",
       "      <td>1</td>\n",
       "      <td>2017</td>\n",
       "      <td>10</td>\n",
       "      <td>...</td>\n",
       "      <td>187802.0</td>\n",
       "      <td>1011</td>\n",
       "      <td>Brett Young</td>\n",
       "      <td>54</td>\n",
       "      <td>2016</td>\n",
       "      <td>QM</td>\n",
       "      <td>06003</td>\n",
       "      <td>427</td>\n",
       "      <td>38</td>\n",
       "      <td>1</td>\n",
       "    </tr>\n",
       "  </tbody>\n",
       "</table>\n",
       "<p>5 rows × 23 columns</p>\n",
       "</div>"
      ],
      "text/plain": [
       "                                        user_id source_system_tab  \\\n",
       "0  FGtllVqz18RPiwJj/edr2gV78zirAiY/9SmYvia+kCg=           explore   \n",
       "1  Xumu+NIjS6QYVxDS4/t3SawvJ7viT9hPKXmf0RtLNx8=        my library   \n",
       "2  Xumu+NIjS6QYVxDS4/t3SawvJ7viT9hPKXmf0RtLNx8=        my library   \n",
       "3  Xumu+NIjS6QYVxDS4/t3SawvJ7viT9hPKXmf0RtLNx8=        my library   \n",
       "4  FGtllVqz18RPiwJj/edr2gV78zirAiY/9SmYvia+kCg=           explore   \n",
       "\n",
       "    source_screen_name      source_type city  bd registration_year  \\\n",
       "0              Explore  online-playlist    1   0              2012   \n",
       "1  Local playlist more   local-playlist   13  24              2011   \n",
       "2  Local playlist more   local-playlist   13  24              2011   \n",
       "3  Local playlist more   local-playlist   13  24              2011   \n",
       "4              Explore  online-playlist    1   0              2012   \n",
       "\n",
       "  registration_month expiration_year expiration_month  ...  song_length  \\\n",
       "0                  1            2017               10  ...     206471.0   \n",
       "1                  5            2017                9  ...     284584.0   \n",
       "2                  5            2017                9  ...     225396.0   \n",
       "3                  5            2017                9  ...     255512.0   \n",
       "4                  1            2017               10  ...     187802.0   \n",
       "\n",
       "  genre_ids      artist_name  language song_registration_year  \\\n",
       "0       359         Bastille        54                   2016   \n",
       "1      1259  Various Artists        54                   1999   \n",
       "2      1259              Nas        54                   2006   \n",
       "3      1019         Soundway         1                   2010   \n",
       "4      1011      Brett Young        54                   2016   \n",
       "\n",
       "  song_country_code song_registration_organisation artist_count  \\\n",
       "0                GB                          02854         1140   \n",
       "1                US                          10183       303342   \n",
       "2                US                          18761          289   \n",
       "3                GB                          00063            1   \n",
       "4                QM                          06003          427   \n",
       "\n",
       "  user_genres_counter user_artists_counter  \n",
       "0                 166                    3  \n",
       "1                  47                   24  \n",
       "2                  47                    2  \n",
       "3                   1                    1  \n",
       "4                  38                    1  \n",
       "\n",
       "[5 rows x 23 columns]"
      ]
     },
     "execution_count": 153,
     "metadata": {},
     "output_type": "execute_result"
    }
   ],
   "source": [
    "X_filled_na.head()"
   ]
  },
  {
   "cell_type": "code",
   "execution_count": 154,
   "metadata": {},
   "outputs": [
    {
     "name": "stdout",
     "output_type": "stream",
     "text": [
      "Fold 1 / 5\n",
      "0:\tlearn: 0.6845552\ttest: 0.6844863\tbest: 0.6844863 (0)\ttotal: 4.85s\tremaining: 32m 15s\n",
      "20:\tlearn: 0.6370153\ttest: 0.6369113\tbest: 0.6369113 (20)\ttotal: 43.6s\tremaining: 13m 6s\n",
      "40:\tlearn: 0.6293431\ttest: 0.6297828\tbest: 0.6297828 (40)\ttotal: 1m 19s\tremaining: 11m 37s\n",
      "60:\tlearn: 0.6264261\ttest: 0.6274406\tbest: 0.6274406 (60)\ttotal: 1m 57s\tremaining: 10m 51s\n",
      "80:\tlearn: 0.6242726\ttest: 0.6257417\tbest: 0.6257417 (80)\ttotal: 2m 34s\tremaining: 10m 7s\n",
      "100:\tlearn: 0.6226493\ttest: 0.6245882\tbest: 0.6245882 (100)\ttotal: 3m 10s\tremaining: 9m 23s\n",
      "120:\tlearn: 0.6213714\ttest: 0.6237911\tbest: 0.6237911 (120)\ttotal: 3m 47s\tremaining: 8m 43s\n",
      "140:\tlearn: 0.6202334\ttest: 0.6230858\tbest: 0.6230858 (140)\ttotal: 4m 23s\tremaining: 8m 3s\n",
      "160:\tlearn: 0.6192694\ttest: 0.6224796\tbest: 0.6224796 (160)\ttotal: 4m 58s\tremaining: 7m 23s\n",
      "180:\tlearn: 0.6184522\ttest: 0.6220064\tbest: 0.6220064 (180)\ttotal: 5m 34s\tremaining: 6m 45s\n",
      "200:\tlearn: 0.6176556\ttest: 0.6216483\tbest: 0.6216483 (200)\ttotal: 6m 11s\tremaining: 6m 7s\n",
      "220:\tlearn: 0.6170021\ttest: 0.6213866\tbest: 0.6213866 (220)\ttotal: 6m 47s\tremaining: 5m 29s\n",
      "240:\tlearn: 0.6163740\ttest: 0.6212196\tbest: 0.6212196 (240)\ttotal: 7m 22s\tremaining: 4m 52s\n",
      "260:\tlearn: 0.6158244\ttest: 0.6210496\tbest: 0.6210496 (260)\ttotal: 7m 59s\tremaining: 4m 15s\n",
      "280:\tlearn: 0.6152500\ttest: 0.6208318\tbest: 0.6208318 (280)\ttotal: 8m 35s\tremaining: 3m 38s\n",
      "300:\tlearn: 0.6147461\ttest: 0.6206479\tbest: 0.6206479 (300)\ttotal: 9m 11s\tremaining: 3m 1s\n",
      "320:\tlearn: 0.6142165\ttest: 0.6204989\tbest: 0.6204989 (320)\ttotal: 9m 47s\tremaining: 2m 24s\n",
      "340:\tlearn: 0.6135992\ttest: 0.6203371\tbest: 0.6203371 (340)\ttotal: 10m 23s\tremaining: 1m 47s\n",
      "360:\tlearn: 0.6131046\ttest: 0.6203326\tbest: 0.6203326 (360)\ttotal: 10m 59s\tremaining: 1m 11s\n",
      "380:\tlearn: 0.6127349\ttest: 0.6201663\tbest: 0.6201663 (380)\ttotal: 11m 36s\tremaining: 34.7s\n",
      "399:\tlearn: 0.6123071\ttest: 0.6200987\tbest: 0.6200987 (399)\ttotal: 12m 10s\tremaining: 0us\n",
      "\n",
      "bestTest = 0.6200987209\n",
      "bestIteration = 399\n",
      "\n",
      "AUC: 0.711995\n",
      "~~~~~~~~~~~~~~~~~~~~~~~~~~~~~~~~\n",
      "\n",
      "Fold 2 / 5\n",
      "0:\tlearn: 0.6845552\ttest: 0.6846049\tbest: 0.6846049 (0)\ttotal: 5.69s\tremaining: 37m 51s\n",
      "20:\tlearn: 0.6370153\ttest: 0.6376652\tbest: 0.6376652 (20)\ttotal: 44s\tremaining: 13m 13s\n",
      "40:\tlearn: 0.6293431\ttest: 0.6304090\tbest: 0.6304090 (40)\ttotal: 1m 19s\tremaining: 11m 38s\n",
      "60:\tlearn: 0.6264261\ttest: 0.6280689\tbest: 0.6280689 (60)\ttotal: 1m 55s\tremaining: 10m 43s\n",
      "80:\tlearn: 0.6242726\ttest: 0.6263598\tbest: 0.6263598 (80)\ttotal: 2m 31s\tremaining: 9m 58s\n",
      "100:\tlearn: 0.6226493\ttest: 0.6252312\tbest: 0.6252312 (100)\ttotal: 3m 8s\tremaining: 9m 17s\n",
      "120:\tlearn: 0.6213714\ttest: 0.6244151\tbest: 0.6244151 (120)\ttotal: 3m 44s\tremaining: 8m 37s\n",
      "140:\tlearn: 0.6202334\ttest: 0.6237570\tbest: 0.6237570 (140)\ttotal: 4m 20s\tremaining: 7m 59s\n",
      "160:\tlearn: 0.6192694\ttest: 0.6230873\tbest: 0.6230873 (160)\ttotal: 4m 57s\tremaining: 7m 22s\n",
      "180:\tlearn: 0.6184522\ttest: 0.6226271\tbest: 0.6226271 (180)\ttotal: 5m 33s\tremaining: 6m 43s\n",
      "200:\tlearn: 0.6176556\ttest: 0.6222711\tbest: 0.6222711 (200)\ttotal: 6m 9s\tremaining: 6m 5s\n",
      "220:\tlearn: 0.6170021\ttest: 0.6220017\tbest: 0.6220017 (220)\ttotal: 6m 46s\tremaining: 5m 28s\n",
      "240:\tlearn: 0.6163740\ttest: 0.6218159\tbest: 0.6218159 (240)\ttotal: 7m 21s\tremaining: 4m 51s\n",
      "260:\tlearn: 0.6158244\ttest: 0.6216031\tbest: 0.6216031 (260)\ttotal: 7m 57s\tremaining: 4m 14s\n",
      "280:\tlearn: 0.6152500\ttest: 0.6213018\tbest: 0.6213018 (280)\ttotal: 8m 33s\tremaining: 3m 37s\n",
      "300:\tlearn: 0.6147461\ttest: 0.6211063\tbest: 0.6211063 (300)\ttotal: 9m 9s\tremaining: 3m\n",
      "320:\tlearn: 0.6142165\ttest: 0.6209373\tbest: 0.6209373 (320)\ttotal: 9m 45s\tremaining: 2m 24s\n",
      "340:\tlearn: 0.6135992\ttest: 0.6207714\tbest: 0.6207714 (340)\ttotal: 10m 21s\tremaining: 1m 47s\n",
      "360:\tlearn: 0.6131046\ttest: 0.6207272\tbest: 0.6207272 (360)\ttotal: 10m 57s\tremaining: 1m 11s\n",
      "380:\tlearn: 0.6127349\ttest: 0.6205673\tbest: 0.6205673 (380)\ttotal: 11m 33s\tremaining: 34.6s\n",
      "399:\tlearn: 0.6123071\ttest: 0.6204898\tbest: 0.6204898 (399)\ttotal: 12m 8s\tremaining: 0us\n",
      "\n",
      "bestTest = 0.6204897912\n",
      "bestIteration = 399\n",
      "\n",
      "AUC: 0.712098\n",
      "~~~~~~~~~~~~~~~~~~~~~~~~~~~~~~~~\n",
      "\n",
      "Fold 3 / 5\n",
      "0:\tlearn: 0.6845552\ttest: 0.6845719\tbest: 0.6845719 (0)\ttotal: 6.05s\tremaining: 40m 14s\n",
      "20:\tlearn: 0.6370153\ttest: 0.6374141\tbest: 0.6374141 (20)\ttotal: 45.1s\tremaining: 13m 34s\n",
      "40:\tlearn: 0.6293431\ttest: 0.6302832\tbest: 0.6302832 (40)\ttotal: 1m 20s\tremaining: 11m 46s\n",
      "60:\tlearn: 0.6264261\ttest: 0.6279351\tbest: 0.6279351 (60)\ttotal: 1m 57s\tremaining: 10m 50s\n",
      "80:\tlearn: 0.6242726\ttest: 0.6262715\tbest: 0.6262715 (80)\ttotal: 2m 33s\tremaining: 10m 3s\n",
      "100:\tlearn: 0.6226493\ttest: 0.6251810\tbest: 0.6251810 (100)\ttotal: 3m 8s\tremaining: 9m 19s\n",
      "120:\tlearn: 0.6213714\ttest: 0.6243772\tbest: 0.6243772 (120)\ttotal: 3m 44s\tremaining: 8m 38s\n",
      "140:\tlearn: 0.6202334\ttest: 0.6236756\tbest: 0.6236756 (140)\ttotal: 4m 20s\tremaining: 7m 59s\n",
      "160:\tlearn: 0.6192694\ttest: 0.6230211\tbest: 0.6230211 (160)\ttotal: 4m 56s\tremaining: 7m 20s\n",
      "180:\tlearn: 0.6184522\ttest: 0.6225355\tbest: 0.6225355 (180)\ttotal: 5m 32s\tremaining: 6m 42s\n",
      "200:\tlearn: 0.6176556\ttest: 0.6221280\tbest: 0.6221280 (200)\ttotal: 6m 8s\tremaining: 6m 4s\n",
      "220:\tlearn: 0.6170021\ttest: 0.6218529\tbest: 0.6218529 (220)\ttotal: 6m 45s\tremaining: 5m 28s\n",
      "240:\tlearn: 0.6163740\ttest: 0.6216819\tbest: 0.6216819 (240)\ttotal: 7m 21s\tremaining: 4m 51s\n",
      "260:\tlearn: 0.6158244\ttest: 0.6214999\tbest: 0.6214999 (260)\ttotal: 7m 57s\tremaining: 4m 14s\n",
      "280:\tlearn: 0.6152500\ttest: 0.6212062\tbest: 0.6212062 (280)\ttotal: 8m 34s\tremaining: 3m 37s\n",
      "300:\tlearn: 0.6147461\ttest: 0.6209912\tbest: 0.6209912 (300)\ttotal: 9m 10s\tremaining: 3m\n",
      "320:\tlearn: 0.6142165\ttest: 0.6208263\tbest: 0.6208263 (320)\ttotal: 9m 46s\tremaining: 2m 24s\n",
      "340:\tlearn: 0.6135992\ttest: 0.6206226\tbest: 0.6206226 (340)\ttotal: 10m 22s\tremaining: 1m 47s\n",
      "360:\tlearn: 0.6131046\ttest: 0.6206190\tbest: 0.6206190 (360)\ttotal: 10m 58s\tremaining: 1m 11s\n",
      "380:\tlearn: 0.6127349\ttest: 0.6204435\tbest: 0.6204435 (380)\ttotal: 11m 34s\tremaining: 34.6s\n",
      "399:\tlearn: 0.6123071\ttest: 0.6203421\tbest: 0.6203421 (399)\ttotal: 12m 8s\tremaining: 0us\n",
      "\n",
      "bestTest = 0.6203421158\n",
      "bestIteration = 399\n",
      "\n",
      "AUC: 0.712096\n",
      "~~~~~~~~~~~~~~~~~~~~~~~~~~~~~~~~\n",
      "\n",
      "Fold 4 / 5\n",
      "0:\tlearn: 0.6845552\ttest: 0.6843961\tbest: 0.6843961 (0)\ttotal: 5.56s\tremaining: 36m 59s\n",
      "20:\tlearn: 0.6370153\ttest: 0.6358336\tbest: 0.6358336 (20)\ttotal: 44.2s\tremaining: 13m 18s\n",
      "40:\tlearn: 0.6293431\ttest: 0.6284503\tbest: 0.6284503 (40)\ttotal: 1m 19s\tremaining: 11m 38s\n",
      "60:\tlearn: 0.6264261\ttest: 0.6259976\tbest: 0.6259976 (60)\ttotal: 1m 56s\tremaining: 10m 45s\n",
      "80:\tlearn: 0.6242726\ttest: 0.6242811\tbest: 0.6242811 (80)\ttotal: 2m 32s\tremaining: 9m 59s\n",
      "100:\tlearn: 0.6226493\ttest: 0.6231991\tbest: 0.6231991 (100)\ttotal: 3m 8s\tremaining: 9m 17s\n",
      "120:\tlearn: 0.6213714\ttest: 0.6223782\tbest: 0.6223782 (120)\ttotal: 3m 44s\tremaining: 8m 37s\n",
      "140:\tlearn: 0.6202334\ttest: 0.6216629\tbest: 0.6216629 (140)\ttotal: 4m 20s\tremaining: 7m 58s\n",
      "160:\tlearn: 0.6192694\ttest: 0.6209931\tbest: 0.6209931 (160)\ttotal: 4m 56s\tremaining: 7m 19s\n",
      "180:\tlearn: 0.6184522\ttest: 0.6205446\tbest: 0.6205446 (180)\ttotal: 5m 32s\tremaining: 6m 42s\n",
      "200:\tlearn: 0.6176556\ttest: 0.6201803\tbest: 0.6201803 (200)\ttotal: 6m 8s\tremaining: 6m 4s\n",
      "220:\tlearn: 0.6170021\ttest: 0.6199139\tbest: 0.6199139 (220)\ttotal: 6m 44s\tremaining: 5m 27s\n",
      "240:\tlearn: 0.6163740\ttest: 0.6197284\tbest: 0.6197284 (240)\ttotal: 7m 20s\tremaining: 4m 50s\n",
      "260:\tlearn: 0.6158244\ttest: 0.6195324\tbest: 0.6195324 (260)\ttotal: 7m 56s\tremaining: 4m 13s\n",
      "280:\tlearn: 0.6152500\ttest: 0.6192402\tbest: 0.6192402 (280)\ttotal: 8m 32s\tremaining: 3m 36s\n",
      "300:\tlearn: 0.6147461\ttest: 0.6190308\tbest: 0.6190308 (300)\ttotal: 9m 10s\tremaining: 3m 1s\n",
      "320:\tlearn: 0.6142165\ttest: 0.6189176\tbest: 0.6189176 (320)\ttotal: 9m 47s\tremaining: 2m 24s\n",
      "340:\tlearn: 0.6135992\ttest: 0.6187050\tbest: 0.6187050 (340)\ttotal: 10m 23s\tremaining: 1m 47s\n",
      "360:\tlearn: 0.6131046\ttest: 0.6186547\tbest: 0.6186547 (360)\ttotal: 10m 59s\tremaining: 1m 11s\n",
      "380:\tlearn: 0.6127349\ttest: 0.6184569\tbest: 0.6184569 (380)\ttotal: 11m 35s\tremaining: 34.7s\n",
      "399:\tlearn: 0.6123071\ttest: 0.6183956\tbest: 0.6183956 (399)\ttotal: 12m 9s\tremaining: 0us\n",
      "\n",
      "bestTest = 0.6183955506\n",
      "bestIteration = 399\n",
      "\n",
      "AUC: 0.711755\n",
      "~~~~~~~~~~~~~~~~~~~~~~~~~~~~~~~~\n",
      "\n",
      "Fold 5 / 5\n",
      "0:\tlearn: 0.6845552\ttest: 0.6844343\tbest: 0.6844343 (0)\ttotal: 5.94s\tremaining: 39m 30s\n",
      "20:\tlearn: 0.6370153\ttest: 0.6363867\tbest: 0.6363867 (20)\ttotal: 44.5s\tremaining: 13m 23s\n"
     ]
    },
    {
     "name": "stdout",
     "output_type": "stream",
     "text": [
      "40:\tlearn: 0.6293431\ttest: 0.6291322\tbest: 0.6291322 (40)\ttotal: 1m 20s\tremaining: 11m 46s\n",
      "60:\tlearn: 0.6264261\ttest: 0.6267648\tbest: 0.6267648 (60)\ttotal: 1m 56s\tremaining: 10m 48s\n",
      "80:\tlearn: 0.6242726\ttest: 0.6251166\tbest: 0.6251166 (80)\ttotal: 2m 32s\tremaining: 10m 1s\n",
      "100:\tlearn: 0.6226493\ttest: 0.6240116\tbest: 0.6240116 (100)\ttotal: 3m 8s\tremaining: 9m 19s\n",
      "120:\tlearn: 0.6213714\ttest: 0.6232286\tbest: 0.6232286 (120)\ttotal: 3m 44s\tremaining: 8m 38s\n",
      "140:\tlearn: 0.6202334\ttest: 0.6225686\tbest: 0.6225686 (140)\ttotal: 4m 20s\tremaining: 7m 58s\n",
      "160:\tlearn: 0.6192694\ttest: 0.6219339\tbest: 0.6219339 (160)\ttotal: 4m 56s\tremaining: 7m 20s\n",
      "180:\tlearn: 0.6184522\ttest: 0.6214763\tbest: 0.6214763 (180)\ttotal: 5m 32s\tremaining: 6m 42s\n",
      "200:\tlearn: 0.6176556\ttest: 0.6211267\tbest: 0.6211267 (200)\ttotal: 6m 8s\tremaining: 6m 4s\n",
      "220:\tlearn: 0.6170021\ttest: 0.6208728\tbest: 0.6208728 (220)\ttotal: 6m 44s\tremaining: 5m 27s\n",
      "240:\tlearn: 0.6163740\ttest: 0.6207022\tbest: 0.6207022 (240)\ttotal: 7m 20s\tremaining: 4m 50s\n",
      "260:\tlearn: 0.6158244\ttest: 0.6205115\tbest: 0.6205115 (260)\ttotal: 7m 56s\tremaining: 4m 13s\n",
      "280:\tlearn: 0.6152500\ttest: 0.6202556\tbest: 0.6202556 (280)\ttotal: 8m 32s\tremaining: 3m 37s\n",
      "300:\tlearn: 0.6147461\ttest: 0.6200604\tbest: 0.6200604 (300)\ttotal: 9m 8s\tremaining: 3m\n",
      "320:\tlearn: 0.6142165\ttest: 0.6198867\tbest: 0.6198867 (320)\ttotal: 9m 44s\tremaining: 2m 23s\n",
      "340:\tlearn: 0.6135992\ttest: 0.6197386\tbest: 0.6197386 (340)\ttotal: 10m 20s\tremaining: 1m 47s\n",
      "360:\tlearn: 0.6131046\ttest: 0.6197237\tbest: 0.6197237 (360)\ttotal: 10m 56s\tremaining: 1m 10s\n",
      "380:\tlearn: 0.6127349\ttest: 0.6195763\tbest: 0.6195763 (380)\ttotal: 11m 32s\tremaining: 34.6s\n",
      "399:\tlearn: 0.6123071\ttest: 0.6194795\tbest: 0.6194795 (399)\ttotal: 12m 8s\tremaining: 0us\n",
      "\n",
      "bestTest = 0.619479496\n",
      "bestIteration = 399\n",
      "\n",
      "AUC: 0.711924\n",
      "~~~~~~~~~~~~~~~~~~~~~~~~~~~~~~~~\n",
      "\n",
      "CPU times: user 3h 49min 8s, sys: 2min, total: 3h 51min 9s\n",
      "Wall time: 1h 3min 4s\n"
     ]
    }
   ],
   "source": [
    "%%time\n",
    "aucs, models = k_fold_train(X=X_filled_na, \n",
    "                            y=y_filled_na, \n",
    "                            iterations=400)"
   ]
  },
  {
   "cell_type": "code",
   "execution_count": 155,
   "metadata": {},
   "outputs": [
    {
     "data": {
      "text/plain": [
       "[0.7119950300518444,\n",
       " 0.7120977396362845,\n",
       " 0.7120958254921211,\n",
       " 0.7117545902678906,\n",
       " 0.7119235316468829]"
      ]
     },
     "execution_count": 155,
     "metadata": {},
     "output_type": "execute_result"
    }
   ],
   "source": [
    "aucs"
   ]
  },
  {
   "cell_type": "markdown",
   "metadata": {},
   "source": [
    "**SHAP values explanation for filled NA dataset**"
   ]
  },
  {
   "cell_type": "code",
   "execution_count": 156,
   "metadata": {
    "scrolled": true
   },
   "outputs": [
    {
     "data": {
      "image/png": "[encoded data removed]",
      "text/plain": [
       "<Figure size 576x741.6 with 2 Axes>"
      ]
     },
     "metadata": {
      "needs_background": "light"
     },
     "output_type": "display_data"
    },
    {
     "name": "stdout",
     "output_type": "stream",
     "text": [
      "CPU times: user 8min 25s, sys: 7.23 s, total: 8min 33s\n",
      "Wall time: 3min 58s\n"
     ]
    }
   ],
   "source": [
    "%%time\n",
    "explain_shap_values(X_filled_na, y_filled_na, models[0])"
   ]
  },
  {
   "cell_type": "markdown",
   "metadata": {},
   "source": [
    "**Save droped NA train dataset**"
   ]
  },
  {
   "cell_type": "code",
   "execution_count": 168,
   "metadata": {},
   "outputs": [
    {
     "name": "stdout",
     "output_type": "stream",
     "text": [
      "start processing...\n"
     ]
    },
    {
     "name": "stderr",
     "output_type": "stream",
     "text": [
      "\n",
      "A value is trying to be set on a copy of a slice from a DataFrame.\n",
      "Try using .loc[row_indexer,col_indexer] = value instead\n",
      "\n",
      "See the caveats in the documentation: https://pandas.pydata.org/pandas-docs/stable/user_guide/indexing.html#returning-a-view-versus-a-copy\n"
     ]
    },
    {
     "name": "stdout",
     "output_type": "stream",
     "text": [
      "categorizing...\n",
      "adding biases...\n"
     ]
    },
    {
     "name": "stderr",
     "output_type": "stream",
     "text": [
      "\n",
      "A value is trying to be set on a copy of a slice from a DataFrame.\n",
      "Try using .loc[row_indexer,col_indexer] = value instead\n",
      "\n",
      "See the caveats in the documentation: https://pandas.pydata.org/pandas-docs/stable/user_guide/indexing.html#returning-a-view-versus-a-copy\n",
      "\n",
      "A value is trying to be set on a copy of a slice from a DataFrame.\n",
      "Try using .loc[row_indexer,col_indexer] = value instead\n",
      "\n",
      "See the caveats in the documentation: https://pandas.pydata.org/pandas-docs/stable/user_guide/indexing.html#returning-a-view-versus-a-copy\n",
      "\n",
      "A value is trying to be set on a copy of a slice from a DataFrame.\n",
      "Try using .loc[row_indexer,col_indexer] = value instead\n",
      "\n",
      "See the caveats in the documentation: https://pandas.pydata.org/pandas-docs/stable/user_guide/indexing.html#returning-a-view-versus-a-copy\n",
      "\n",
      "A value is trying to be set on a copy of a slice from a DataFrame\n",
      "\n",
      "See the caveats in the documentation: https://pandas.pydata.org/pandas-docs/stable/user_guide/indexing.html#returning-a-view-versus-a-copy\n"
     ]
    },
    {
     "name": "stdout",
     "output_type": "stream",
     "text": [
      "finished\n",
      "CPU times: user 1min 37s, sys: 30.8 s, total: 2min 8s\n",
      "Wall time: 2min 23s\n"
     ]
    },
    {
     "data": {
      "text/html": [
       "<div>\n",
       "<style scoped>\n",
       "    .dataframe tbody tr th:only-of-type {\n",
       "        vertical-align: middle;\n",
       "    }\n",
       "\n",
       "    .dataframe tbody tr th {\n",
       "        vertical-align: top;\n",
       "    }\n",
       "\n",
       "    .dataframe thead th {\n",
       "        text-align: right;\n",
       "    }\n",
       "</style>\n",
       "<table border=\"1\" class=\"dataframe\">\n",
       "  <thead>\n",
       "    <tr style=\"text-align: right;\">\n",
       "      <th></th>\n",
       "      <th>user_id</th>\n",
       "      <th>song_id</th>\n",
       "      <th>source_system_tab</th>\n",
       "      <th>source_screen_name</th>\n",
       "      <th>source_type</th>\n",
       "      <th>target</th>\n",
       "      <th>city</th>\n",
       "      <th>bd</th>\n",
       "      <th>registration_year</th>\n",
       "      <th>registration_month</th>\n",
       "      <th>...</th>\n",
       "      <th>song_length</th>\n",
       "      <th>genre_ids</th>\n",
       "      <th>artist_name</th>\n",
       "      <th>language</th>\n",
       "      <th>song_registration_year</th>\n",
       "      <th>song_country_code</th>\n",
       "      <th>song_registration_organisation</th>\n",
       "      <th>artist_count</th>\n",
       "      <th>user_genres_counter</th>\n",
       "      <th>user_artists_counter</th>\n",
       "    </tr>\n",
       "  </thead>\n",
       "  <tbody>\n",
       "    <tr>\n",
       "      <th>0</th>\n",
       "      <td>FGtllVqz18RPiwJj/edr2gV78zirAiY/9SmYvia+kCg=</td>\n",
       "      <td>BBzumQNXUHKdEBOB7mAJuzok+IJA1c2Ryg/yzTF6tik=</td>\n",
       "      <td>explore</td>\n",
       "      <td>Explore</td>\n",
       "      <td>online-playlist</td>\n",
       "      <td>1</td>\n",
       "      <td>1</td>\n",
       "      <td>0</td>\n",
       "      <td>2012</td>\n",
       "      <td>1</td>\n",
       "      <td>...</td>\n",
       "      <td>206471.0</td>\n",
       "      <td>359</td>\n",
       "      <td>Bastille</td>\n",
       "      <td>54</td>\n",
       "      <td>2016</td>\n",
       "      <td>GB</td>\n",
       "      <td>02854</td>\n",
       "      <td>1079</td>\n",
       "      <td>162</td>\n",
       "      <td>3</td>\n",
       "    </tr>\n",
       "    <tr>\n",
       "      <th>1</th>\n",
       "      <td>Xumu+NIjS6QYVxDS4/t3SawvJ7viT9hPKXmf0RtLNx8=</td>\n",
       "      <td>bhp/MpSNoqoxOIB+/l8WPqu6jldth4DIpCm3ayXnJqM=</td>\n",
       "      <td>my library</td>\n",
       "      <td>Local playlist more</td>\n",
       "      <td>local-playlist</td>\n",
       "      <td>1</td>\n",
       "      <td>13</td>\n",
       "      <td>24</td>\n",
       "      <td>2011</td>\n",
       "      <td>5</td>\n",
       "      <td>...</td>\n",
       "      <td>284584.0</td>\n",
       "      <td>1259</td>\n",
       "      <td>Various Artists</td>\n",
       "      <td>54</td>\n",
       "      <td>1999</td>\n",
       "      <td>US</td>\n",
       "      <td>10183</td>\n",
       "      <td>292987</td>\n",
       "      <td>47</td>\n",
       "      <td>24</td>\n",
       "    </tr>\n",
       "    <tr>\n",
       "      <th>2</th>\n",
       "      <td>Xumu+NIjS6QYVxDS4/t3SawvJ7viT9hPKXmf0RtLNx8=</td>\n",
       "      <td>JNWfrrC7zNN7BdMpsISKa4Mw+xVJYNnxXh3/Epw7QgY=</td>\n",
       "      <td>my library</td>\n",
       "      <td>Local playlist more</td>\n",
       "      <td>local-playlist</td>\n",
       "      <td>1</td>\n",
       "      <td>13</td>\n",
       "      <td>24</td>\n",
       "      <td>2011</td>\n",
       "      <td>5</td>\n",
       "      <td>...</td>\n",
       "      <td>225396.0</td>\n",
       "      <td>1259</td>\n",
       "      <td>Nas</td>\n",
       "      <td>54</td>\n",
       "      <td>2006</td>\n",
       "      <td>US</td>\n",
       "      <td>18761</td>\n",
       "      <td>276</td>\n",
       "      <td>47</td>\n",
       "      <td>2</td>\n",
       "    </tr>\n",
       "    <tr>\n",
       "      <th>3</th>\n",
       "      <td>Xumu+NIjS6QYVxDS4/t3SawvJ7viT9hPKXmf0RtLNx8=</td>\n",
       "      <td>2A87tzfnJTSWqD7gIZHisolhe4DMdzkbd6LzO1KHjNs=</td>\n",
       "      <td>my library</td>\n",
       "      <td>Local playlist more</td>\n",
       "      <td>local-playlist</td>\n",
       "      <td>1</td>\n",
       "      <td>13</td>\n",
       "      <td>24</td>\n",
       "      <td>2011</td>\n",
       "      <td>5</td>\n",
       "      <td>...</td>\n",
       "      <td>255512.0</td>\n",
       "      <td>1019</td>\n",
       "      <td>Soundway</td>\n",
       "      <td>1</td>\n",
       "      <td>2010</td>\n",
       "      <td>GB</td>\n",
       "      <td>00063</td>\n",
       "      <td>1</td>\n",
       "      <td>1</td>\n",
       "      <td>1</td>\n",
       "    </tr>\n",
       "    <tr>\n",
       "      <th>4</th>\n",
       "      <td>FGtllVqz18RPiwJj/edr2gV78zirAiY/9SmYvia+kCg=</td>\n",
       "      <td>3qm6XTZ6MOCU11x8FIVbAGH5l5uMkT3/ZalWG1oo2Gc=</td>\n",
       "      <td>explore</td>\n",
       "      <td>Explore</td>\n",
       "      <td>online-playlist</td>\n",
       "      <td>1</td>\n",
       "      <td>1</td>\n",
       "      <td>0</td>\n",
       "      <td>2012</td>\n",
       "      <td>1</td>\n",
       "      <td>...</td>\n",
       "      <td>187802.0</td>\n",
       "      <td>1011</td>\n",
       "      <td>Brett Young</td>\n",
       "      <td>54</td>\n",
       "      <td>2016</td>\n",
       "      <td>QM</td>\n",
       "      <td>06003</td>\n",
       "      <td>415</td>\n",
       "      <td>38</td>\n",
       "      <td>1</td>\n",
       "    </tr>\n",
       "  </tbody>\n",
       "</table>\n",
       "<p>5 rows × 25 columns</p>\n",
       "</div>"
      ],
      "text/plain": [
       "                                        user_id  \\\n",
       "0  FGtllVqz18RPiwJj/edr2gV78zirAiY/9SmYvia+kCg=   \n",
       "1  Xumu+NIjS6QYVxDS4/t3SawvJ7viT9hPKXmf0RtLNx8=   \n",
       "2  Xumu+NIjS6QYVxDS4/t3SawvJ7viT9hPKXmf0RtLNx8=   \n",
       "3  Xumu+NIjS6QYVxDS4/t3SawvJ7viT9hPKXmf0RtLNx8=   \n",
       "4  FGtllVqz18RPiwJj/edr2gV78zirAiY/9SmYvia+kCg=   \n",
       "\n",
       "                                        song_id source_system_tab  \\\n",
       "0  BBzumQNXUHKdEBOB7mAJuzok+IJA1c2Ryg/yzTF6tik=           explore   \n",
       "1  bhp/MpSNoqoxOIB+/l8WPqu6jldth4DIpCm3ayXnJqM=        my library   \n",
       "2  JNWfrrC7zNN7BdMpsISKa4Mw+xVJYNnxXh3/Epw7QgY=        my library   \n",
       "3  2A87tzfnJTSWqD7gIZHisolhe4DMdzkbd6LzO1KHjNs=        my library   \n",
       "4  3qm6XTZ6MOCU11x8FIVbAGH5l5uMkT3/ZalWG1oo2Gc=           explore   \n",
       "\n",
       "    source_screen_name      source_type  target city  bd registration_year  \\\n",
       "0              Explore  online-playlist       1    1   0              2012   \n",
       "1  Local playlist more   local-playlist       1   13  24              2011   \n",
       "2  Local playlist more   local-playlist       1   13  24              2011   \n",
       "3  Local playlist more   local-playlist       1   13  24              2011   \n",
       "4              Explore  online-playlist       1    1   0              2012   \n",
       "\n",
       "  registration_month  ... song_length genre_ids      artist_name language  \\\n",
       "0                  1  ...    206471.0       359         Bastille       54   \n",
       "1                  5  ...    284584.0      1259  Various Artists       54   \n",
       "2                  5  ...    225396.0      1259              Nas       54   \n",
       "3                  5  ...    255512.0      1019         Soundway        1   \n",
       "4                  1  ...    187802.0      1011      Brett Young       54   \n",
       "\n",
       "  song_registration_year  song_country_code song_registration_organisation  \\\n",
       "0                   2016                 GB                          02854   \n",
       "1                   1999                 US                          10183   \n",
       "2                   2006                 US                          18761   \n",
       "3                   2010                 GB                          00063   \n",
       "4                   2016                 QM                          06003   \n",
       "\n",
       "  artist_count user_genres_counter user_artists_counter  \n",
       "0         1079                 162                    3  \n",
       "1       292987                  47                   24  \n",
       "2          276                  47                    2  \n",
       "3            1                   1                    1  \n",
       "4          415                  38                    1  \n",
       "\n",
       "[5 rows x 25 columns]"
      ]
     },
     "execution_count": 168,
     "metadata": {},
     "output_type": "execute_result"
    }
   ],
   "source": [
    "%%time\n",
    "X_, _ = process_dataset(train, drop_na=True, to_drop=['expiration_day', 'registration_day'])\n",
    "X_.head()"
   ]
  },
  {
   "cell_type": "code",
   "execution_count": 169,
   "metadata": {
    "scrolled": false
   },
   "outputs": [
    {
     "name": "stdout",
     "output_type": "stream",
     "text": [
      "CPU times: user 1min 13s, sys: 3.07 s, total: 1min 16s\n",
      "Wall time: 1min 20s\n"
     ]
    }
   ],
   "source": [
    "%%time\n",
    "X_.to_csv('data/train_processed.csv', index=False)"
   ]
  },
  {
   "cell_type": "markdown",
   "metadata": {},
   "source": [
    "#### Kaggle part"
   ]
  },
  {
   "cell_type": "code",
   "execution_count": 158,
   "metadata": {
    "scrolled": true
   },
   "outputs": [
    {
     "name": "stdout",
     "output_type": "stream",
     "text": [
      "start processing...\n",
      "categorizing...\n",
      "adding biases...\n",
      "finished\n"
     ]
    }
   ],
   "source": [
    "test['target'] = 0\n",
    "test_filled, _ = process_dataset(test)"
   ]
  },
  {
   "cell_type": "code",
   "execution_count": 159,
   "metadata": {},
   "outputs": [
    {
     "name": "stdout",
     "output_type": "stream",
     "text": [
      "CPU times: user 41.2 s, sys: 1.05 s, total: 42.3 s\n",
      "Wall time: 27.7 s\n"
     ]
    }
   ],
   "source": [
    "%%time\n",
    "predictions = [m.predict(test_filled.drop(['id', 'user_id'], axis=1), prediction_type='Probability')[:, 1] for m in models]\n",
    "predictions = np.array(predictions)"
   ]
  },
  {
   "cell_type": "code",
   "execution_count": 160,
   "metadata": {},
   "outputs": [
    {
     "data": {
      "text/html": [
       "<div>\n",
       "<style scoped>\n",
       "    .dataframe tbody tr th:only-of-type {\n",
       "        vertical-align: middle;\n",
       "    }\n",
       "\n",
       "    .dataframe tbody tr th {\n",
       "        vertical-align: top;\n",
       "    }\n",
       "\n",
       "    .dataframe thead th {\n",
       "        text-align: right;\n",
       "    }\n",
       "</style>\n",
       "<table border=\"1\" class=\"dataframe\">\n",
       "  <thead>\n",
       "    <tr style=\"text-align: right;\">\n",
       "      <th></th>\n",
       "      <th>id</th>\n",
       "      <th>target</th>\n",
       "    </tr>\n",
       "  </thead>\n",
       "  <tbody>\n",
       "    <tr>\n",
       "      <th>0</th>\n",
       "      <td>0</td>\n",
       "      <td>0.486963</td>\n",
       "    </tr>\n",
       "    <tr>\n",
       "      <th>1</th>\n",
       "      <td>1</td>\n",
       "      <td>0.551272</td>\n",
       "    </tr>\n",
       "    <tr>\n",
       "      <th>2</th>\n",
       "      <td>2</td>\n",
       "      <td>0.120482</td>\n",
       "    </tr>\n",
       "    <tr>\n",
       "      <th>3</th>\n",
       "      <td>3</td>\n",
       "      <td>0.124779</td>\n",
       "    </tr>\n",
       "    <tr>\n",
       "      <th>4</th>\n",
       "      <td>4</td>\n",
       "      <td>0.089637</td>\n",
       "    </tr>\n",
       "  </tbody>\n",
       "</table>\n",
       "</div>"
      ],
      "text/plain": [
       "   id    target\n",
       "0   0  0.486963\n",
       "1   1  0.551272\n",
       "2   2  0.120482\n",
       "3   3  0.124779\n",
       "4   4  0.089637"
      ]
     },
     "execution_count": 160,
     "metadata": {},
     "output_type": "execute_result"
    }
   ],
   "source": [
    "submission = pd.DataFrame({ 'id': test.id, 'target': predictions.mean(axis=0) })\n",
    "submission.head()"
   ]
  },
  {
   "cell_type": "code",
   "execution_count": 161,
   "metadata": {},
   "outputs": [],
   "source": [
    "submission.to_csv('submission.csv', index=False)"
   ]
  },
  {
   "cell_type": "code",
   "execution_count": 162,
   "metadata": {},
   "outputs": [],
   "source": [
    "# Kaggle AUC ~ 0.69"
   ]
  }
 ],
 "metadata": {
  "accelerator": "GPU",
  "colab": {
   "collapsed_sections": [],
   "name": "music.ipynb",
   "provenance": []
  },
  "kernelspec": {
   "display_name": "Python 3",
   "language": "python",
   "name": "python3"
  },
  "language_info": {
   "codemirror_mode": {
    "name": "ipython",
    "version": 3
   },
   "file_extension": ".py",
   "mimetype": "text/x-python",
   "name": "python",
   "nbconvert_exporter": "python",
   "pygments_lexer": "ipython3",
   "version": "3.7.10"
  }
 },
 "nbformat": 4,
 "nbformat_minor": 1
}
