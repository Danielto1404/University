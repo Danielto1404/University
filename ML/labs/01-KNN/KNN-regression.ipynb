{
 "cells": [
  {
   "cell_type": "markdown",
   "metadata": {
    "pycharm": {
     "name": "#%% md\n"
    }
   },
   "source": [
    "### Reading data:"
   ]
  },
  {
   "cell_type": "code",
   "execution_count": 159,
   "metadata": {
    "pycharm": {
     "name": "#%%\n"
    }
   },
   "outputs": [
    {
     "name": "stdout",
     "output_type": "stream",
     "text": [
      "     largest_spot_size  spot_distribution  Activity  Evolution  \\\n",
      "0                    4                  2         1          2   \n",
      "1                    4                  2         1          3   \n",
      "2                    4                  2         1          3   \n",
      "3                    4                  2         1          3   \n",
      "4                    0                  2         1          3   \n",
      "..                 ...                ...       ...        ...   \n",
      "310                  3                  2         1          2   \n",
      "311                  3                  2         1          3   \n",
      "312                  0                  2         1          3   \n",
      "313                  3                  2         1          3   \n",
      "314                  2                  0         1          3   \n",
      "\n",
      "     Previous_24_hour_flare_activity_code  Historically-complex  \\\n",
      "0                                       1                     1   \n",
      "1                                       1                     1   \n",
      "2                                       1                     1   \n",
      "3                                       1                     1   \n",
      "4                                       1                     1   \n",
      "..                                    ...                   ...   \n",
      "310                                     1                     2   \n",
      "311                                     1                     1   \n",
      "312                                     1                     1   \n",
      "313                                     1                     1   \n",
      "314                                     1                     1   \n",
      "\n",
      "     Did_region_become_historically_complex  Area  Area_of_the_largest_spot  \\\n",
      "0                                         2     1                         2   \n",
      "1                                         2     1                         2   \n",
      "2                                         2     1                         1   \n",
      "3                                         2     1                         2   \n",
      "4                                         2     1                         2   \n",
      "..                                      ...   ...                       ...   \n",
      "310                                       2     1                         2   \n",
      "311                                       2     1                         2   \n",
      "312                                       2     1                         2   \n",
      "313                                       2     1                         1   \n",
      "314                                       2     2                         2   \n",
      "\n",
      "     C-class_flares_production_by_this_region  \\\n",
      "0                                           0   \n",
      "1                                           0   \n",
      "2                                           0   \n",
      "3                                           0   \n",
      "4                                           0   \n",
      "..                                        ...   \n",
      "310                                         0   \n",
      "311                                         0   \n",
      "312                                         0   \n",
      "313                                         0   \n",
      "314                                         0   \n",
      "\n",
      "     M-class_flares_production_by_this_region  \\\n",
      "0                                           0   \n",
      "1                                           0   \n",
      "2                                           0   \n",
      "3                                           0   \n",
      "4                                           0   \n",
      "..                                        ...   \n",
      "310                                         0   \n",
      "311                                         0   \n",
      "312                                         0   \n",
      "313                                         0   \n",
      "314                                         2   \n",
      "\n",
      "     X-class_flares_production_by_this_region  class  \n",
      "0                                           0      1  \n",
      "1                                           0      2  \n",
      "2                                           0      1  \n",
      "3                                           0      2  \n",
      "4                                           0      2  \n",
      "..                                        ...    ...  \n",
      "310                                         0      1  \n",
      "311                                         0      2  \n",
      "312                                         0      3  \n",
      "313                                         0      1  \n",
      "314                                         0      3  \n",
      "\n",
      "[315 rows x 13 columns]\n"
     ]
    }
   ],
   "source": [
    "from collections import Set\n",
    "from enum import Enum\n",
    "from functools import reduce\n",
    "from operator import attrgetter\n",
    "\n",
    "import pandas as pd\n",
    "\n",
    "\n",
    "\n",
    "dataset = pd.read_csv(\"/Users/daniilkorolev/Documents/GitHub/3rd-year/ml/labs/01-KNN/solar.csv\")\n",
    "print(dataset)"
   ]
  },
  {
   "cell_type": "markdown",
   "metadata": {},
   "source": [
    "### Data understanding:\n",
    "* sex: sex (1 = male; 0 = female)\n",
    "\n",
    "* cp: chest pain type\n",
    " * Value 1: typical angina\n",
    " * Value 2: atypical angina\n",
    " * Value 3: non-anginal pain\n",
    " * Value 4: asymptomatic\n",
    "\n",
    "* fbs: (fasting blood sugar > 120 mg/dl) (1 = true; 0 = false)\n",
    "\n",
    "* restecg: resting electrocardiographic results\n",
    " * Value 0: normal\n",
    " * Value 1: having ST-T wave abnormality (T wave inversions and/or ST elevation or depression of > 0.05 mV)\n",
    " * Value 2: showing probable or definite left ventricular hypertrophy by Estes' criteria\n",
    "\n",
    "* exang: exercise induced angina (1 = yes; 0 = no)\n",
    "\n",
    "* slope: the slope of the peak exercise ST segment\n",
    "\n",
    "* thal:\n",
    " * Value 0: normal\n",
    " * Value 1: fixed defect\n",
    " * Value 2: reversable defect\n"
   ]
  },
  {
   "cell_type": "markdown",
   "metadata": {
    "pycharm": {
     "name": "#%% md\n"
    }
   },
   "source": [
    "### Min max normalization for dataset"
   ]
  },
  {
   "cell_type": "code",
   "execution_count": 160,
   "metadata": {
    "pycharm": {
     "name": "#%%\n"
    }
   },
   "outputs": [
    {
     "name": "stdout",
     "output_type": "stream",
     "text": [
      "     largest_spot_size  spot_distribution  Activity  Evolution  \\\n",
      "0                  0.8           0.666667       0.0        0.5   \n",
      "1                  0.8           0.666667       0.0        1.0   \n",
      "2                  0.8           0.666667       0.0        1.0   \n",
      "3                  0.8           0.666667       0.0        1.0   \n",
      "4                  0.0           0.666667       0.0        1.0   \n",
      "..                 ...                ...       ...        ...   \n",
      "310                0.6           0.666667       0.0        0.5   \n",
      "311                0.6           0.666667       0.0        1.0   \n",
      "312                0.0           0.666667       0.0        1.0   \n",
      "313                0.6           0.666667       0.0        1.0   \n",
      "314                0.4           0.000000       0.0        1.0   \n",
      "\n",
      "     Previous_24_hour_flare_activity_code  Historically-complex  \\\n",
      "0                                     0.0                   0.0   \n",
      "1                                     0.0                   0.0   \n",
      "2                                     0.0                   0.0   \n",
      "3                                     0.0                   0.0   \n",
      "4                                     0.0                   0.0   \n",
      "..                                    ...                   ...   \n",
      "310                                   0.0                   1.0   \n",
      "311                                   0.0                   0.0   \n",
      "312                                   0.0                   0.0   \n",
      "313                                   0.0                   0.0   \n",
      "314                                   0.0                   0.0   \n",
      "\n",
      "     Did_region_become_historically_complex  Area  Area_of_the_largest_spot  \\\n",
      "0                                       1.0   0.0                       1.0   \n",
      "1                                       1.0   0.0                       1.0   \n",
      "2                                       1.0   0.0                       0.0   \n",
      "3                                       1.0   0.0                       1.0   \n",
      "4                                       1.0   0.0                       1.0   \n",
      "..                                      ...   ...                       ...   \n",
      "310                                     1.0   0.0                       1.0   \n",
      "311                                     1.0   0.0                       1.0   \n",
      "312                                     1.0   0.0                       1.0   \n",
      "313                                     1.0   0.0                       0.0   \n",
      "314                                     1.0   1.0                       1.0   \n",
      "\n",
      "     C-class_flares_production_by_this_region  \\\n",
      "0                                         0.0   \n",
      "1                                         0.0   \n",
      "2                                         0.0   \n",
      "3                                         0.0   \n",
      "4                                         0.0   \n",
      "..                                        ...   \n",
      "310                                       0.0   \n",
      "311                                       0.0   \n",
      "312                                       0.0   \n",
      "313                                       0.0   \n",
      "314                                       0.0   \n",
      "\n",
      "     M-class_flares_production_by_this_region  \\\n",
      "0                                         0.0   \n",
      "1                                         0.0   \n",
      "2                                         0.0   \n",
      "3                                         0.0   \n",
      "4                                         0.0   \n",
      "..                                        ...   \n",
      "310                                       0.0   \n",
      "311                                       0.0   \n",
      "312                                       0.0   \n",
      "313                                       0.0   \n",
      "314                                       0.5   \n",
      "\n",
      "     X-class_flares_production_by_this_region  class  \n",
      "0                                         0.0      1  \n",
      "1                                         0.0      2  \n",
      "2                                         0.0      1  \n",
      "3                                         0.0      2  \n",
      "4                                         0.0      2  \n",
      "..                                        ...    ...  \n",
      "310                                       0.0      1  \n",
      "311                                       0.0      2  \n",
      "312                                       0.0      3  \n",
      "313                                       0.0      1  \n",
      "314                                       0.0      3  \n",
      "\n",
      "[315 rows x 13 columns]\n"
     ]
    }
   ],
   "source": [
    "for feature in dataset:\n",
    "\n",
    "    if feature == 'class':\n",
    "        dataset['class'] -= dataset['class'].min()\n",
    "        continue\n",
    "\n",
    "    valueColumn = dataset[feature]\n",
    "\n",
    "    normalizedColumn = (valueColumn - valueColumn.min()) /\\\n",
    "                       (valueColumn.max() - valueColumn.min())\n",
    "\n",
    "    dataset[feature] = normalizedColumn\n",
    "\n",
    "print(dataset)"
   ]
  },
  {
   "cell_type": "markdown",
   "metadata": {
    "pycharm": {
     "name": "#%% md\n"
    }
   },
   "source": [
    "### Get one-hot transformation dataset & naive dataset:"
   ]
  },
  {
   "cell_type": "code",
   "execution_count": 161,
   "metadata": {
    "pycharm": {
     "name": "#%%\n"
    }
   },
   "outputs": [],
   "source": [
    "class Object:\n",
    "    def __init__(self, regressionValue, features, distance=float('inf')):\n",
    "        self.regressionValue = regressionValue\n",
    "        self.features = features\n",
    "        self.distance = distance\n",
    "\n",
    "\n",
    "one_hot_dataset = []\n",
    "naive_dataset = []\n",
    "\n",
    "\n",
    "def normilizeColumn(column):\n",
    "    minFeatureValue = column.min()\n",
    "    return column - minFeatureValue\n",
    "\n",
    "for (i, feature) in enumerate(dataset):\n",
    "\n",
    "    if feature != 'class':\n",
    "        one_hot_feature_vectors = normilizeColumn(\n",
    "            pd.get_dummies(dataset[feature])\n",
    "        )\n",
    "\n",
    "        for (j, one_hot_feature_vector) in one_hot_feature_vectors.iterrows():\n",
    "\n",
    "            if i == 0:\n",
    "                one_hot_object = Object(regressionValue=0,\n",
    "                                        features=list(map(float, one_hot_feature_vector.array)))\n",
    "                one_hot_dataset.append(one_hot_object)\n",
    "\n",
    "                naive_object = Object(regressionValue=0,\n",
    "                                      features=[float(dataset[feature][j])])\n",
    "                naive_dataset.append(naive_object)\n",
    "\n",
    "            else:\n",
    "                one_hot_dataset[j].features += list(map(float, one_hot_feature_vector.array))\n",
    "\n",
    "                naive_dataset[j].features.append(dataset[feature][j])\n",
    "\n",
    "    else:\n",
    "        for (j, c) in enumerate(dataset['class']):\n",
    "            one_hot_dataset[j].regressionValue = int(c)\n",
    "            naive_dataset[j].regressionValue = int(c)"
   ]
  },
  {
   "cell_type": "markdown",
   "metadata": {},
   "source": [
    "### Distance & kernel functions:"
   ]
  },
  {
   "cell_type": "code",
   "execution_count": 162,
   "metadata": {
    "pycharm": {
     "name": "#%%\n"
    }
   },
   "outputs": [],
   "source": [
    "from math import e, pi, sqrt, cos\n",
    "\n",
    "def applySubtractThenFunction(function):\n",
    "    def combinator(pair):\n",
    "        return function(pair[0] - pair[1])\n",
    "\n",
    "    return combinator\n",
    "\n",
    "distanceFunctions = \\\n",
    "    {\n",
    "        'manhattan': lambda xs, ys: sum(\n",
    "            map(\n",
    "                applySubtractThenFunction(abs), zip(xs, ys)\n",
    "            )\n",
    "        ),\n",
    "\n",
    "        'euclidean': lambda xs, ys: sqrt(\n",
    "            sum(\n",
    "                map(\n",
    "                    applySubtractThenFunction(lambda x: x ** 2), zip(xs, ys)\n",
    "                )\n",
    "            )\n",
    "        ),\n",
    "\n",
    "        'chebyshev': lambda xs, ys: max(\n",
    "            map(\n",
    "                applySubtractThenFunction(abs), zip(xs, ys)\n",
    "            )\n",
    "        )\n",
    "    }\n",
    "\n",
    "kernelFunctions = \\\n",
    "    {\n",
    "        \"uniform\": lambda x: 1 / 2 if abs(x) < 1 else 0,\n",
    "\n",
    "        \"triangular\": lambda x: 1 - abs(x) if abs(x) < 1 else 0,\n",
    "\n",
    "        \"epanechnikov\": lambda x: 3 / 4 * (1 - x ** 2) if abs(x) < 1 else 0,\n",
    "\n",
    "        \"quartic\": lambda x: 15 / 16 * ((1 - x ** 2) ** 2) if abs(x) < 1 else 0,\n",
    "\n",
    "        \"triweight\": lambda x: 35 / 32 * ((1 - x ** 2) ** 3) if abs(x) < 1 else 0,\n",
    "\n",
    "        \"tricube\": lambda x: 70 / 81 * ((1 - abs(x) ** 3) ** 3) if abs(x) < 1 else 0,\n",
    "\n",
    "        \"gaussian\": lambda x: 1 / sqrt(2 * pi) * e ** (-1 / 2 * x ** 2),\n",
    "\n",
    "        \"cosine\": lambda x: pi / 4 * cos(pi / 2 * x) if abs(x) < 1 else 0,\n",
    "\n",
    "        \"logistic\": lambda x: 1 / (2 + e ** x + e ** -x),\n",
    "\n",
    "        \"sigmoid\": lambda x: 2 / (pi * (e ** x + e ** -x))\n",
    "    }\n",
    "\n",
    "class WindowType(Enum):\n",
    "    VARIABLE = 'variable'\n",
    "    FIXED = 'fixed'\n",
    "\n"
   ]
  },
  {
   "cell_type": "markdown",
   "metadata": {},
   "source": [
    "### Model class object:"
   ]
  },
  {
   "cell_type": "code",
   "execution_count": 163,
   "metadata": {
    "pycharm": {
     "name": "#%%\n"
    }
   },
   "outputs": [],
   "source": [
    "class ValidationDataSet:\n",
    "    def __init__(self, train_dataset, validationObject):\n",
    "        self.train_dataset = train_dataset\n",
    "        self.validationObject = validationObject\n",
    "\n",
    "\n",
    "class KNNModel:\n",
    "    def __init__(self,\n",
    "                 distanceFunction,\n",
    "                 kernelFunction,\n",
    "                 windowType):\n",
    "        self.distanceFunction = distanceFunction\n",
    "        self.kernelFunction = kernelFunction\n",
    "        self.windowType = windowType"
   ]
  },
  {
   "cell_type": "markdown",
   "metadata": {
    "pycharm": {
     "name": "#%% md\n"
    }
   },
   "source": [
    "### Regression function\n"
   ]
  },
  {
   "cell_type": "code",
   "execution_count": 164,
   "metadata": {
    "pycharm": {
     "name": "#%%\n"
    }
   },
   "outputs": [],
   "source": [
    "def meanValue(objs):\n",
    "    return sum(map(attrgetter('regressionValue'), objs)) / len(objs)\n",
    "\n",
    "\n",
    "def calculateRegression(objects, kernelFunction, windowValue):\n",
    "\n",
    "    if windowValue == 0:\n",
    "        #\n",
    "        #\n",
    "        filteredObjects = list(filter(lambda o: o.distance == 0, objects))\n",
    "        #\n",
    "        # In case we have no zero-located objects we should calculate mean distance for all objects\n",
    "        if len(filteredObjects) == 0:\n",
    "            filteredObjects = objects\n",
    "\n",
    "        return meanValue(filteredObjects)\n",
    "\n",
    "    else:\n",
    "\n",
    "        numerator = sum(\n",
    "            map(\n",
    "                lambda o: o.regressionValue * kernelFunction(o.distance / windowValue), objects\n",
    "            )\n",
    "        )\n",
    "\n",
    "        denominator = sum(\n",
    "            map(\n",
    "                lambda o: kernelFunction(o.distance / windowValue), objects\n",
    "            )\n",
    "        )\n",
    "\n",
    "        return meanValue(objects) if denominator == 0 else numerator / denominator\n"
   ]
  },
  {
   "cell_type": "markdown",
   "metadata": {},
   "source": [
    "### Fill distances for validation objects:"
   ]
  },
  {
   "cell_type": "code",
   "execution_count": 165,
   "metadata": {
    "pycharm": {
     "name": "#%%\n"
    }
   },
   "outputs": [],
   "source": [
    "def fill_distances_for_validation_objects(dataset):\n",
    "\n",
    "    trainDataSets = {\n",
    "        'manhattan': [],\n",
    "        'euclidean': [],\n",
    "        'chebyshev': [],\n",
    "    }\n",
    "\n",
    "    for distanceFunctionName in distanceFunctions:\n",
    "\n",
    "        for (splitIndex, validationObject) in enumerate(dataset):\n",
    "\n",
    "            train_dataset = dataset[:splitIndex] + dataset[splitIndex + 1:]\n",
    "            n_train_dataset = []\n",
    "            \n",
    "            for o in train_dataset:\n",
    "                n_train_object = Object(regressionValue=o.regressionValue,\n",
    "                                        features=o.features,\n",
    "                                        distance=distanceFunctions[distanceFunctionName](o.features, validationObject.features))\n",
    "                \n",
    "                n_train_dataset.append(n_train_object)\n",
    "                \n",
    "\n",
    "            trainDataSets[distanceFunctionName].append(\n",
    "                ValidationDataSet(train_dataset=n_train_dataset,\n",
    "                                  validationObject=validationObject\n",
    "                )\n",
    "            )\n",
    "\n",
    "    return trainDataSets"
   ]
  },
  {
   "cell_type": "markdown",
   "metadata": {
    "pycharm": {
     "name": "#%% md\n"
    }
   },
   "source": [
    "### Leave one out validation"
   ]
  },
  {
   "cell_type": "code",
   "execution_count": 166,
   "metadata": {
    "pycharm": {
     "name": "#%%\n"
    }
   },
   "outputs": [],
   "source": [
    "def lossFunction(expected, actual):\n",
    "    # print(\"Expected = \", expected, \"Actual = \", actual)\n",
    "    return 0 if expected == round(actual) else 1\n",
    "\n",
    "\n",
    "def leave_one_out_validation(dataset):\n",
    "\n",
    "    validationDataSets = fill_distances_for_validation_objects(dataset)\n",
    "\n",
    "    best_loss_value = float('inf')\n",
    "\n",
    "    for distanceFunctionName in distanceFunctions:\n",
    "        for kernelFunctionName in kernelFunctions:\n",
    "            for windowType in WindowType:\n",
    "\n",
    "                print(\"\\n\", distanceFunctionName, kernelFunctionName, windowType, \"\\n\\n\")\n",
    "\n",
    "                neighborsRange = range(1, 150, 5)\n",
    "                neighborsLoss = dict()\n",
    "\n",
    "                fixedWindowRange = range(3, 20, 5)\n",
    "                fixedWindowLoss = dict()\n",
    "\n",
    "\n",
    "                for neighborIndex in neighborsRange:\n",
    "                    neighborsLoss[neighborIndex] = 0\n",
    "\n",
    "                for windowWidth in fixedWindowRange:\n",
    "                    fixedWindowLoss[windowWidth] = 0\n",
    "\n",
    "\n",
    "                for validation_dataset in validationDataSets[distanceFunctionName]:\n",
    "\n",
    "                    expected = validation_dataset.validationObject.regressionValue\n",
    "                    train_dataset = validation_dataset.train_dataset\n",
    "\n",
    "\n",
    "                    if windowType == WindowType.VARIABLE:\n",
    "\n",
    "                        train_dataset = sorted(train_dataset, key=attrgetter('distance'))\n",
    "                        for neighborIndex in neighborsRange:\n",
    "\n",
    "                            windowValue = train_dataset[neighborIndex].distance\n",
    "\n",
    "                            expected = validation_dataset.validationObject.regressionValue\n",
    "                            actual = calculateRegression(\n",
    "                                        objects=train_dataset,\n",
    "                                        kernelFunction=kernelFunctions[kernelFunctionName],\n",
    "                                        windowValue=windowValue)\n",
    "\n",
    "                            neighborsLoss[neighborIndex] += lossFunction(expected=expected, actual=actual)\n",
    "\n",
    "\n",
    "                    else:\n",
    "                        for windowWidth in fixedWindowRange:\n",
    "\n",
    "                            actual = calculateRegression(\n",
    "                                        objects=train_dataset,\n",
    "                                        kernelFunction=kernelFunctions[kernelFunctionName],\n",
    "                                        windowValue=windowWidth)\n",
    "\n",
    "                            fixedWindowLoss[windowWidth] += lossFunction(expected=expected, actual=actual)\n",
    "\n",
    "                if windowType == WindowType.VARIABLE:\n",
    "                    for loss in neighborsLoss:\n",
    "                        if neighborsLoss[loss] < best_loss_value:\n",
    "                            best_loss_value = neighborsLoss[loss]\n",
    "                        print(\"Variable window, best neighbor value =\", loss, \"loss: =\", neighborsLoss[loss])\n",
    "\n",
    "                else :\n",
    "                    for loss in fixedWindowLoss:\n",
    "                        if fixedWindowLoss[loss] < best_loss_value:\n",
    "                            best_loss_value = fixedWindowLoss[loss]\n",
    "                        print(\"Fixed width: =\", loss, \"loss: =\", fixedWindowLoss[loss])\n",
    "\n",
    "\n",
    "# leave_one_out_validation(one_hot_dataset)"
   ]
  },
  {
   "cell_type": "markdown",
   "metadata": {
    "pycharm": {
     "name": "#%% md\n"
    }
   },
   "source": [
    "#### Calculating macro F-measure for (euclidean, quartic, variable)"
   ]
  },
  {
   "cell_type": "code",
   "execution_count": 167,
   "metadata": {
    "pycharm": {
     "name": "#%%\n"
    }
   },
   "outputs": [
    {
     "name": "stdout",
     "output_type": "stream",
     "text": [
      "classes count = 6\n"
     ]
    }
   ],
   "source": [
    "kernelFunctionName = 'triweight'\n",
    "distanceFunctionName = 'euclidean'\n",
    "\n",
    "\n",
    "distinct_classes = set(dataset['class'])\n",
    "classesNumber = max(distinct_classes) - min(distinct_classes) + 1\n",
    "print(\"classes count =\", classesNumber)\n",
    "\n",
    "\n",
    "def f_measure(neighborCount, distanceFunctionName, kernelFunctionName):\n",
    "\n",
    "    confusionMatrix = [[0 for _ in range(classesNumber)] for _ in range(classesNumber)]\n",
    "\n",
    "    validationDataSets = fill_distances_for_validation_objects(one_hot_dataset)\n",
    "\n",
    "    for validationSet in validationDataSets[distanceFunctionName]:\n",
    "\n",
    "        train_dataset = sorted(validationSet.train_dataset, key=attrgetter('distance'))\n",
    "        windowValue = train_dataset[neighborCount].distance\n",
    "\n",
    "        expected = validationSet.validationObject.regressionValue\n",
    "        actual = calculateRegression(\n",
    "                                objects=train_dataset,\n",
    "                                kernelFunction=kernelFunctions[kernelFunctionName],\n",
    "                                windowValue=windowValue)\n",
    " \n",
    "        confusionMatrix[expected][max(min(classesNumber, round(actual)), 0)] += 1\n",
    "\n",
    "\n",
    "    def divide(numerator, denominator):\n",
    "        return 0 if denominator == 0 else numerator / denominator\n",
    "\n",
    "    elementsCount = sum(map(sum, confusionMatrix))\n",
    "\n",
    "    predicted = list(map(sum, confusionMatrix))\n",
    "    actual = list(reduce(lambda acc, row: map(sum, zip(acc, row)), confusionMatrix))\n",
    "\n",
    "    true_positive = [confusionMatrix[i][i] for i in range(classesNumber)]\n",
    "\n",
    "    weight_precision = \\\n",
    "        sum(\n",
    "            [divide(true_positive[i] * actual[i], predicted[i]) for i in range(classesNumber)]\n",
    "        ) / elementsCount\n",
    "\n",
    "    weight_recall = sum(true_positive) / elementsCount\n",
    "\n",
    "    macro_F_measure = divide(2 * weight_precision * weight_recall, weight_precision + weight_recall)\n",
    "\n",
    "    return macro_F_measure\n"
   ]
  },
  {
   "cell_type": "markdown",
   "metadata": {
    "pycharm": {
     "name": "#%% md\n"
    }
   },
   "source": [
    "#### Drawing graphic\n",
    "\n"
   ]
  },
  {
   "cell_type": "code",
   "execution_count": 168,
   "metadata": {
    "pycharm": {
     "name": "#%%\n"
    }
   },
   "outputs": [],
   "source": [
    "xs = list(range(1, 300))\n",
    "ys = list(map(lambda x: f_measure(x, distanceFunctionName, kernelFunctionName), xs))\n"
   ]
  },
  {
   "cell_type": "markdown",
   "metadata": {
    "pycharm": {
     "name": "#%% md\n"
    }
   },
   "source": [
    "### Drawing graphic\n"
   ]
  },
  {
   "cell_type": "code",
   "execution_count": 169,
   "metadata": {
    "pycharm": {
     "name": "#%%\n"
    }
   },
   "outputs": [
    {
     "data": {
      "text/plain": "<Figure size 432x288 with 1 Axes>",
      "image/png": "[encoded data removed]"
     },
     "metadata": {
      "needs_background": "light"
     },
     "output_type": "display_data"
    }
   ],
   "source": [
    "import matplotlib.pyplot as plt\n",
    "\n",
    "plt.plot(xs, ys)\n",
    "plt.ylabel('macro F-measure')\n",
    "plt.show(xs, ys)\n"
   ]
  }
 ],
 "metadata": {
  "kernelspec": {
   "display_name": "PyCharm (labs)",
   "language": "python",
   "name": "pycharm-46e8f4fc"
  },
  "language_info": {
   "codemirror_mode": {
    "name": "ipython",
    "version": 3
   },
   "file_extension": ".py",
   "mimetype": "text/x-python",
   "name": "python",
   "nbconvert_exporter": "python",
   "pygments_lexer": "ipython3",
   "version": "3.8.1"
  }
 },
 "nbformat": 4,
 "nbformat_minor": 4
}